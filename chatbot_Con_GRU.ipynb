{
  "cells": [
    {
      "cell_type": "markdown",
      "metadata": {
        "id": "4vODdBnvHjRK"
      },
      "source": [
        "## Proyecto: ChatBot\n",
        "\n",
        "### Participantes:\n",
        "\n",
        "- Edwin Ramirez\n",
        "- Tatiana Garcia\n",
        "- Omar Alvarracin\n",
        "\n",
        "### Contexto:\n",
        "\n",
        "Un Chatbot por lo general usa un modelo de redes recurrentes (o sus análogos de LSTM o GRU) del tipo Seq-to-Seq para entrena un sistema automático que responda ciertas preguntas que se le hagan o sea capaz de responder e interactuar en conversaciones. En este sentido, es parecido a un modelo de traducción, con la diferencia que la salida no es el mismo texto en otro idioma, sino la respuesta natural para continuar en una conversación.\n",
        "\n",
        "Para entrenar este modelo, es posible usar los datos de conversaciones de películas recopilada por Danescu et al. en 2011. Estos datos se conocen como “Cornell Movie – Dialogs Corpus”. Los pude encontrar en el siguiente link:\n",
        "https://www.cs.cornell.edu/~cristian/Cornell_Movie-Dialogs_Corpus.html\n",
        "\n",
        "La idea es entrenar un modelo de Chatbot que sea capaz sea responder e interactuar en conversaciones.\n",
        "\n",
        "### Dataset:\n",
        "(https://www.cs.cornell.edu/~cristian/data/cornell_movie_dialogs_corpus.zip)\n"
      ]
    },
    {
      "cell_type": "markdown",
      "metadata": {
        "id": "z1hl487wHjRL"
      },
      "source": [
        " Librerias:"
      ]
    },
    {
      "cell_type": "code",
      "execution_count": null,
      "metadata": {
        "id": "I7En5vycHjRM"
      },
      "outputs": [],
      "source": [
        "# librerias inciales\n",
        "import re  # Para trabajar con expresiones regulares (búsqueda y manipulación de texto)\n",
        "import pandas as pd\n",
        "import numpy as np\n",
        "\n",
        "from tensorflow.keras.utils import to_categorical\n",
        "from tensorflow.keras.models import Model\n",
        "import tensorflow as tf\n",
        "from tensorflow.keras.models import Model\n",
        "from tensorflow.keras.layers import Input, LSTM, Dense, Embedding\n",
        "from tensorflow.keras.callbacks import EarlyStopping\n",
        "from keras_tuner import HyperModel\n",
        "from keras_tuner.tuners import RandomSearch\n",
        "import matplotlib.pyplot as plt\n",
        "from tensorflow.keras.layers import GRU"
      ]
    },
    {
      "cell_type": "markdown",
      "metadata": {
        "id": "zgWf4lmjHjRM"
      },
      "source": [
        "### Carga de datos\n",
        "\n",
        "AL descomprimir el archivo zip, encotramos varios archivos, de acuerdo al archivo README: corresponde a un corpus que contiene una colección rica en metadatos de conversaciones ficticias extraídas de guiones de películas en bruto:\n",
        "\n",
        "- 220,579 intercambios conversacionales entre 10,292 pares de personajes de películas\n",
        "- involucra a 9,035 personajes de 617 películas\n",
        "- en total 304,713 expresiones\n",
        "- metadatos de películas incluidos:\n",
        "\t- géneros\n",
        "\t- año de estreno\n",
        "\t- calificación IMDB\n",
        "\t- número de votos IMDB\n",
        "\t- calificación IMDB\n",
        "- metadatos de personajes incluidos:\n",
        "\t- género (para 3,774 personajes)\n",
        "\t- posición en los créditos de la película (para 3,321 personajes)\n",
        "\n",
        "\n",
        "En cuanto a los archivos que hacen parte del corpus encotramos:\n",
        "- movie_titles_metadata.txt\n",
        "- movie_characters_metadata.txt\n",
        "- movie_lines.txt\n",
        "- movie_conversations.txt\n",
        "- raw_script_urls.txt\n",
        "\n",
        "Para el contexto del proyecto y luego de revisar los archivos manualmente, se determino que los archivos a usar son (movie_lines.txt y movie_conversations.txt) por que son los que contiene los dialogos de cada pelicula y tiene el contesto de pregunta respuestas en algunos casos; lo cual puede ser util para la generacion de la herramienta."
      ]
    },
    {
      "cell_type": "markdown",
      "metadata": {
        "id": "-IK-IIFEHjRM"
      },
      "source": [
        " Carga de datos:\n",
        "\n",
        "Cargamos el archivo movie_lines.txt"
      ]
    },
    {
      "cell_type": "code",
      "execution_count": null,
      "metadata": {
        "id": "roEeOPgTHjRN"
      },
      "outputs": [],
      "source": [
        "lineas = open(r'C:\\Users\\Usuario\\Downloads\\glove.6B\\movie_lines.txt', encoding='utf-8', errors='ignore').read().split('\\n')"
      ]
    },
    {
      "cell_type": "code",
      "execution_count": null,
      "metadata": {
        "colab": {
          "base_uri": "https://localhost:8080/"
        },
        "id": "YzGdfQlDHjRN",
        "outputId": "f160a2db-eeb9-43e3-d138-fb864df4c1d5"
      },
      "outputs": [
        {
          "data": {
            "text/plain": [
              "['L1045 +++$+++ u0 +++$+++ m0 +++$+++ BIANCA +++$+++ They do not!',\n",
              " 'L1044 +++$+++ u2 +++$+++ m0 +++$+++ CAMERON +++$+++ They do to!',\n",
              " 'L985 +++$+++ u0 +++$+++ m0 +++$+++ BIANCA +++$+++ I hope so.',\n",
              " 'L984 +++$+++ u2 +++$+++ m0 +++$+++ CAMERON +++$+++ She okay?',\n",
              " \"L925 +++$+++ u0 +++$+++ m0 +++$+++ BIANCA +++$+++ Let's go.\",\n",
              " 'L924 +++$+++ u2 +++$+++ m0 +++$+++ CAMERON +++$+++ Wow',\n",
              " \"L872 +++$+++ u0 +++$+++ m0 +++$+++ BIANCA +++$+++ Okay -- you're gonna need to learn how to lie.\",\n",
              " 'L871 +++$+++ u2 +++$+++ m0 +++$+++ CAMERON +++$+++ No',\n",
              " 'L870 +++$+++ u0 +++$+++ m0 +++$+++ BIANCA +++$+++ I\\'m kidding.  You know how sometimes you just become this \"persona\"?  And you don\\'t know how to quit?',\n",
              " 'L869 +++$+++ u0 +++$+++ m0 +++$+++ BIANCA +++$+++ Like my fear of wearing pastels?']"
            ]
          },
          "execution_count": 3,
          "metadata": {},
          "output_type": "execute_result"
        }
      ],
      "source": [
        "lineas[:10]"
      ]
    },
    {
      "cell_type": "code",
      "execution_count": null,
      "metadata": {
        "id": "TdPkR-YzoyQl",
        "outputId": "5ab48ba3-b4a6-41c1-9e24-58e1a866a2a5"
      },
      "outputs": [
        {
          "data": {
            "text/plain": [
              "304714"
            ]
          },
          "execution_count": 4,
          "metadata": {},
          "output_type": "execute_result"
        }
      ],
      "source": [
        "#tamaño de la lista\n",
        "len(lineas)"
      ]
    },
    {
      "cell_type": "markdown",
      "metadata": {
        "id": "tmL98aexHjRN"
      },
      "source": [
        "Cargamos el archivo movie_conversations.txt"
      ]
    },
    {
      "cell_type": "code",
      "execution_count": null,
      "metadata": {
        "id": "wovE9DVZHjRN"
      },
      "outputs": [],
      "source": [
        "conver_lineas = open(r'C:\\Users\\Usuario\\Downloads\\glove.6B\\movie_conversations.txt',encoding='utf-8', errors='ignore').read().split('\\n')"
      ]
    },
    {
      "cell_type": "code",
      "execution_count": null,
      "metadata": {
        "colab": {
          "base_uri": "https://localhost:8080/"
        },
        "id": "Ro5K0vUTHjRO",
        "outputId": "adf81f4f-1d5c-492a-8067-397b8fef8bd6"
      },
      "outputs": [
        {
          "data": {
            "text/plain": [
              "[\"u0 +++$+++ u2 +++$+++ m0 +++$+++ ['L194', 'L195', 'L196', 'L197']\",\n",
              " \"u0 +++$+++ u2 +++$+++ m0 +++$+++ ['L198', 'L199']\",\n",
              " \"u0 +++$+++ u2 +++$+++ m0 +++$+++ ['L200', 'L201', 'L202', 'L203']\",\n",
              " \"u0 +++$+++ u2 +++$+++ m0 +++$+++ ['L204', 'L205', 'L206']\",\n",
              " \"u0 +++$+++ u2 +++$+++ m0 +++$+++ ['L207', 'L208']\",\n",
              " \"u0 +++$+++ u2 +++$+++ m0 +++$+++ ['L271', 'L272', 'L273', 'L274', 'L275']\",\n",
              " \"u0 +++$+++ u2 +++$+++ m0 +++$+++ ['L276', 'L277']\",\n",
              " \"u0 +++$+++ u2 +++$+++ m0 +++$+++ ['L280', 'L281']\",\n",
              " \"u0 +++$+++ u2 +++$+++ m0 +++$+++ ['L363', 'L364']\",\n",
              " \"u0 +++$+++ u2 +++$+++ m0 +++$+++ ['L365', 'L366']\"]"
            ]
          },
          "execution_count": 6,
          "metadata": {},
          "output_type": "execute_result"
        }
      ],
      "source": [
        "conver_lineas[:10]"
      ]
    },
    {
      "cell_type": "code",
      "execution_count": null,
      "metadata": {
        "id": "rF8doh3PoyQm",
        "outputId": "87d16302-ab8b-45c0-d1e8-8b9ea74728f2"
      },
      "outputs": [
        {
          "name": "stdout",
          "output_type": "stream",
          "text": [
            "Número de líneas en movie_conversations.txt: 83098\n"
          ]
        }
      ],
      "source": [
        "#tamaño de conver_lineas\n",
        "print(\"Número de líneas en movie_conversations.txt:\", len(conver_lineas))"
      ]
    },
    {
      "cell_type": "markdown",
      "metadata": {
        "id": "NqDJ2LFyHjRO"
      },
      "source": [
        "Podemos ver que existe una relacion entre los archivos, En el archivo de conversacion indica con un codigo cada linea y las agrupa para identificar una conversacion.\n",
        "\n",
        "Deacuerdo al archivo README, indica que el separador usado entre valores es '+++$+++'."
      ]
    },
    {
      "cell_type": "code",
      "execution_count": null,
      "metadata": {
        "colab": {
          "base_uri": "https://localhost:8080/"
        },
        "id": "_lTPRiDiHjRO",
        "outputId": "c4c77173-2da5-45fe-c420-d7d5e43279dc"
      },
      "outputs": [
        {
          "data": {
            "text/plain": [
              "[['L194', 'L195', 'L196', 'L197'],\n",
              " ['L198', 'L199'],\n",
              " ['L200', 'L201', 'L202', 'L203'],\n",
              " ['L204', 'L205', 'L206'],\n",
              " ['L207', 'L208'],\n",
              " ['L271', 'L272', 'L273', 'L274', 'L275'],\n",
              " ['L276', 'L277'],\n",
              " ['L280', 'L281'],\n",
              " ['L363', 'L364'],\n",
              " ['L365', 'L366']]"
            ]
          },
          "execution_count": 8,
          "metadata": {},
          "output_type": "execute_result"
        }
      ],
      "source": [
        "# Crea una lista de todos los ids de líneas de conversaciones.\n",
        "\n",
        "conversaciones = [ ]\n",
        "for k in conver_lineas:\n",
        "    conversaciones.append(k.split(' +++$+++ ')[-1][1:-1].replace(\"'\",\" \").replace(\",\",\"\").split())\n",
        "\n",
        "# Imprime los primeros 10 elementeos\n",
        "conversaciones[:10]"
      ]
    },
    {
      "cell_type": "code",
      "execution_count": null,
      "metadata": {
        "colab": {
          "base_uri": "https://localhost:8080/"
        },
        "id": "QO0ia0OKHjRO",
        "outputId": "2191503f-c8c4-4d69-dbd9-90f43c45c1ad"
      },
      "outputs": [
        {
          "name": "stdout",
          "output_type": "stream",
          "text": [
            "'L1045': 'They do not!'\n",
            "'L1044': 'They do to!'\n",
            "'L985': 'I hope so.'\n",
            "'L984': 'She okay?'\n",
            "'L925': 'Let's go.'\n",
            "'L924': 'Wow'\n",
            "'L872': 'Okay -- you're gonna need to learn how to lie.'\n",
            "'L871': 'No'\n",
            "'L870': 'I'm kidding.  You know how sometimes you just become this \"persona\"?  And you don't know how to quit?'\n",
            "'L869': 'Like my fear of wearing pastels?'\n",
            "'L868': 'The \"real you\".'\n",
            "'L867': 'What good stuff?'\n",
            "'L866': 'I figured you'd get to the good stuff eventually.'\n",
            "'L865': 'Thank God!  If I had to hear one more story about your coiffure...'\n",
            "'L864': 'Me.  This endless ...blonde babble. I'm like, boring myself.'\n",
            "'L863': 'What crap?'\n",
            "'L862': 'do you listen to this crap?'\n",
            "'L861': 'No...'\n",
            "'L860': 'Then Guillermo says, \"If you go any lighter, you're gonna look like an extra on 90210.\"'\n",
            "'L699': 'You always been this selfish?'\n"
          ]
        }
      ],
      "source": [
        "# Genramos un diccionario para relacionar el id de la linea con el texto\n",
        "dialogos = {}\n",
        "for linea in lineas:\n",
        "    dialogos[linea.split(' +++$+++ ')[0]] = linea.split(' +++$+++ ')[-1]\n",
        "\n",
        "# Imprime los primeros 20 elementos\n",
        "count = 0\n",
        "for key, value in dialogos.items():\n",
        "    print(f\"'{key}': '{value}'\")\n",
        "    count += 1\n",
        "    if count == 20:\n",
        "        break"
      ]
    },
    {
      "cell_type": "code",
      "execution_count": null,
      "metadata": {
        "id": "-3dlmDTnHjRO"
      },
      "outputs": [],
      "source": [
        "del(lineas, conver_lineas, k, linea)"
      ]
    },
    {
      "cell_type": "markdown",
      "metadata": {
        "id": "jX3dIZk7HjRO"
      },
      "source": [
        "Se debe clasificar los dialogos en preguntas que seria las entradas y respuesta que serian las salidas o respuestas deseadas."
      ]
    },
    {
      "cell_type": "code",
      "execution_count": null,
      "metadata": {
        "id": "XVDPclPJHjRO"
      },
      "outputs": [],
      "source": [
        "# Se clasifican los dialogos:\n",
        "preguntas = []\n",
        "respuestas = []\n",
        "\n",
        "for conv in conversaciones:\n",
        "    for i in range(len(conv)-1):\n",
        "        preguntas.append(dialogos[conv[i]])\n",
        "        respuestas.append(dialogos[conv[i+1]])"
      ]
    },
    {
      "cell_type": "code",
      "execution_count": null,
      "metadata": {
        "colab": {
          "base_uri": "https://localhost:8080/",
          "height": 36
        },
        "id": "2khEcR-5taj5",
        "outputId": "e14c2efe-209a-4d01-9389-4c6feb550841"
      },
      "outputs": [
        {
          "data": {
            "text/plain": [
              "\"Right.  See?  You're ready for the quiz.\""
            ]
          },
          "execution_count": 12,
          "metadata": {},
          "output_type": "execute_result"
        }
      ],
      "source": [
        "respuestas[10]"
      ]
    },
    {
      "cell_type": "markdown",
      "metadata": {
        "id": "_RU3ndi_HjRP"
      },
      "source": [
        "- Borramos las varaibles que ya no vamos a usar."
      ]
    },
    {
      "cell_type": "code",
      "execution_count": null,
      "metadata": {
        "id": "DkY_vqB_HjRP"
      },
      "outputs": [],
      "source": [
        "del (dialogos, conversaciones, conv, i)"
      ]
    },
    {
      "cell_type": "markdown",
      "metadata": {
        "id": "z0uxm2bIHjRP"
      },
      "source": [
        "- Filtramos las preguntas y respuestas para que no tengan mas de 13 caracteres.\n"
      ]
    },
    {
      "cell_type": "code",
      "execution_count": null,
      "metadata": {
        "id": "KVQGuiDeHjRP"
      },
      "outputs": [],
      "source": [
        "orden_preguntas = []\n",
        "orden_respuestas = []\n",
        "\n",
        "for i in range(len(preguntas)):\n",
        "    if len(preguntas[i]) < 13:\n",
        "        orden_preguntas.append(preguntas[i])\n",
        "        orden_respuestas.append(respuestas[i])"
      ]
    },
    {
      "cell_type": "markdown",
      "metadata": {
        "id": "nnS7jVkWHjRP"
      },
      "source": [
        "- Funsion para limpiarel texto eliminando caracteres innecesarios y modificando el formato de las palabras."
      ]
    },
    {
      "cell_type": "code",
      "execution_count": null,
      "metadata": {
        "id": "jmho90tyHjRP"
      },
      "outputs": [],
      "source": [
        "def limpia_texto(txt):\n",
        "    txt = txt.lower()\n",
        "    txt = re.sub(r\"i'm\", \"i am\", txt)\n",
        "    txt = re.sub(r\"he's\", \"he is\", txt)\n",
        "    txt = re.sub(r\"she's\", \"she is\", txt)\n",
        "    txt = re.sub(r\"it's\", \"it is\", txt)\n",
        "    txt = re.sub(r\"that's\", \"that is\", txt)\n",
        "    txt = re.sub(r\"what's\", \"what is\", txt)\n",
        "    txt = re.sub(r\"where's\", \"where is\", txt)\n",
        "    txt = re.sub(r\"how's\", \"how is\", txt)\n",
        "    txt = re.sub(r\"\\'ll\", \" will\", txt)\n",
        "    txt = re.sub(r\"\\'ve\", \" have\", txt)\n",
        "    txt = re.sub(r\"\\'re\", \" are\", txt)\n",
        "    txt = re.sub(r\"\\'d\", \" would\", txt)\n",
        "    txt = re.sub(r\"\\'re\", \" are\", txt)\n",
        "    txt = re.sub(r\"won't\", \"will not\", txt)\n",
        "    txt = re.sub(r\"can't\", \"cannot\", txt)\n",
        "    txt = re.sub(r\"n't\", \" not\", txt)\n",
        "    txt = re.sub(r\"n'\", \"ng\", txt)\n",
        "    txt = re.sub(r\"'bout\", \"about\", txt)\n",
        "    txt = re.sub(r\"'til\", \"until\", txt)\n",
        "    txt = re.sub(r\"[-()\\\"#/@;:<>{}`+=~|.!?,]\", \"\", txt)\n",
        "    return txt"
      ]
    },
    {
      "cell_type": "markdown",
      "metadata": {
        "id": "aXZ8tPLJHjRP"
      },
      "source": [
        "- Limpanos las preguntas y las respuestas"
      ]
    },
    {
      "cell_type": "code",
      "execution_count": null,
      "metadata": {
        "id": "mqY1-wz3HjRP"
      },
      "outputs": [],
      "source": [
        "preguntas_limpias = []\n",
        "for linea_pregunta in orden_preguntas:\n",
        "    preguntas_limpias.append(limpia_texto(linea_pregunta))\n",
        "\n",
        "respuestas_limpias = []\n",
        "for linea_respuesta in orden_respuestas:\n",
        "    respuestas_limpias.append(limpia_texto(linea_respuesta))"
      ]
    },
    {
      "cell_type": "code",
      "execution_count": null,
      "metadata": {
        "colab": {
          "base_uri": "https://localhost:8080/"
        },
        "id": "dg90eAAUHjRP",
        "outputId": "6d9d5406-73c2-4938-98ef-80a5cba0e0a0"
      },
      "outputs": [
        {
          "data": {
            "text/plain": [
              "['cameron', 'why']"
            ]
          },
          "execution_count": 17,
          "metadata": {},
          "output_type": "execute_result"
        }
      ],
      "source": [
        "preguntas_limpias[:2]"
      ]
    },
    {
      "cell_type": "code",
      "execution_count": null,
      "metadata": {
        "colab": {
          "base_uri": "https://localhost:8080/"
        },
        "id": "muobuHDBHjRP",
        "outputId": "eca7a3e4-085a-4751-d056-ca071dd075e1"
      },
      "outputs": [
        {
          "data": {
            "text/plain": [
              "['the thing is cameron  i am at the mercy of a particularly hideous breed of loser  my sister  i cannot date until she does',\n",
              " 'unsolved mystery  she used to be really popular when she started high school then it was just like she got sick of it or something']"
            ]
          },
          "execution_count": 18,
          "metadata": {},
          "output_type": "execute_result"
        }
      ],
      "source": [
        "respuestas_limpias[:2]"
      ]
    },
    {
      "cell_type": "markdown",
      "metadata": {
        "id": "b6U-hj4AHjRQ"
      },
      "source": [
        "- Limitamos las respuestas a 13 palabras para mantener consistencia en el tamaño de las secuencias"
      ]
    },
    {
      "cell_type": "code",
      "execution_count": null,
      "metadata": {
        "id": "4n_Ncp-cHjRQ"
      },
      "outputs": [],
      "source": [
        "for i in range(len(respuestas_limpias)):\n",
        "    respuestas_limpias[i] = ' '.join(respuestas_limpias[i].split()[:13])"
      ]
    },
    {
      "cell_type": "markdown",
      "metadata": {
        "id": "Ze8-jt6oHjRQ"
      },
      "source": [
        "- Borramos las varaibles que ya no vamos a usar."
      ]
    },
    {
      "cell_type": "code",
      "execution_count": null,
      "metadata": {
        "id": "ggt0PrvIHjRQ"
      },
      "outputs": [],
      "source": [
        "del(respuestas, preguntas, linea_respuesta, linea_pregunta,orden_respuestas, orden_preguntas)"
      ]
    },
    {
      "cell_type": "markdown",
      "metadata": {
        "id": "BqDeJ6ORHjRQ"
      },
      "source": [
        "- Limitamos el tamaño del dataset a 15000 preguntas y respuestas para reducir el tiempo de entrenamiento"
      ]
    },
    {
      "cell_type": "code",
      "execution_count": null,
      "metadata": {
        "id": "uIvHRNdlHjRQ"
      },
      "outputs": [],
      "source": [
        "# trimming\n",
        "respuestas_limpias=respuestas_limpias[:30000]\n",
        "preguntas_limpias=preguntas_limpias[:30000]"
      ]
    },
    {
      "cell_type": "markdown",
      "metadata": {
        "id": "ChNxc-x6HjRQ"
      },
      "source": [
        "- Crear un diccionario para la frecuencia del vocabulario."
      ]
    },
    {
      "cell_type": "code",
      "execution_count": null,
      "metadata": {
        "id": "sZ8x70LJHjRQ"
      },
      "outputs": [],
      "source": [
        "palabra_cont = {}\n",
        "for linea in preguntas_limpias:\n",
        "    for palabra in linea.split():\n",
        "        if palabra not in palabra_cont:\n",
        "            palabra_cont[palabra] = 1\n",
        "        else:\n",
        "            palabra_cont[palabra] += 1\n",
        "\n",
        "for linea in respuestas_limpias:\n",
        "    for palabra in linea.split():\n",
        "        if palabra not in palabra_cont:\n",
        "            palabra_cont[palabra] = 1\n",
        "        else:\n",
        "            palabra_cont[palabra] += 1\n",
        "\n",
        "del(linea, palabra)"
      ]
    },
    {
      "cell_type": "code",
      "execution_count": null,
      "metadata": {
        "id": "zcmCXEwJoyQq",
        "outputId": "32199f73-6c4b-47b6-ac22-3835592b0401"
      },
      "outputs": [
        {
          "data": {
            "text/plain": [
              "{'cameron': 12,\n",
              " 'why': 1518,\n",
              " 'there': 788,\n",
              " 'sure': 566,\n",
              " 'have': 2392,\n",
              " 'hi': 555,\n",
              " 'i': 11871,\n",
              " 'was': 1499,\n",
              " 'well': 1114,\n",
              " 'no': 3194,\n",
              " 'but': 1121,\n",
              " 'what': 5917,\n",
              " 'crap': 14,\n",
              " 'wow': 55,\n",
              " 'she': 1021,\n",
              " 'okay': 781,\n",
              " 'they': 1050,\n",
              " 'do': 3696,\n",
              " 'to': 5119,\n",
              " 'who': 1099,\n",
              " 'great': 221,\n",
              " 'it': 5838,\n",
              " 'is': 6997,\n",
              " 'more': 245,\n",
              " 'queen': 11,\n",
              " 'harry': 60,\n",
              " 'neat': 6,\n",
              " 'joey': 22,\n",
              " 'that': 3316,\n",
              " 'not': 5189,\n",
              " 'let': 255,\n",
              " 'go': 987,\n",
              " 'daddy': 68,\n",
              " 'never': 401,\n",
              " 'thirtytwo': 2,\n",
              " 'get': 1000,\n",
              " 'out': 893,\n",
              " 'he': 2201,\n",
              " 'pretty': 126,\n",
              " 'away': 167,\n",
              " 'yeah': 2033,\n",
              " 'am': 2406,\n",
              " 'on': 1387,\n",
              " 'forget': 99,\n",
              " 'hey': 435,\n",
              " \"who's\": 180,\n",
              " 'this': 1770,\n",
              " 'you': 12478,\n",
              " 'did': 1282,\n",
              " 'excuse': 146,\n",
              " 'me': 2807,\n",
              " 'told': 243,\n",
              " 'dorsey': 2,\n",
              " 'hate': 71,\n",
              " 'him': 824,\n",
              " 'busy': 24,\n",
              " 'maybe': 302,\n",
              " 'bianca': 5,\n",
              " 'wholesome': 1,\n",
              " 'unwelcome': 3,\n",
              " 'good': 783,\n",
              " 'call': 259,\n",
              " 'yes': 2646,\n",
              " 'how': 1235,\n",
              " 'fallacy': 1,\n",
              " 'the': 6488,\n",
              " 'duck': 6,\n",
              " 'hearsay': 2,\n",
              " 'peas': 2,\n",
              " 'tell': 579,\n",
              " 'oh': 1318,\n",
              " 'huh': 405,\n",
              " 'wait': 197,\n",
              " 'know': 1791,\n",
              " 'parts': 10,\n",
              " 'of': 2432,\n",
              " 'which': 148,\n",
              " 'when': 605,\n",
              " 'tempestuous': 1,\n",
              " 'think': 760,\n",
              " 'right': 984,\n",
              " 'say': 506,\n",
              " 'plan': 31,\n",
              " 'tumescent': 1,\n",
              " 'father': 137,\n",
              " 'chief': 31,\n",
              " 'knows': 70,\n",
              " 'thousands': 4,\n",
              " 'colon': 2,\n",
              " 'long': 200,\n",
              " 'thank': 306,\n",
              " 'we': 2089,\n",
              " 'are': 2986,\n",
              " 'lost': 78,\n",
              " 'then': 588,\n",
              " 'way': 361,\n",
              " 'divorced': 7,\n",
              " 'a': 5065,\n",
              " 'cop': 23,\n",
              " 'vodka': 8,\n",
              " 'tonic': 1,\n",
              " 'any': 316,\n",
              " 'id': 9,\n",
              " 'hit': 75,\n",
              " 'hmmmm': 8,\n",
              " 'two': 311,\n",
              " 'heads': 8,\n",
              " 'thirsty': 7,\n",
              " 'duty': 11,\n",
              " 'course': 196,\n",
              " 'so': 1237,\n",
              " 'alright': 110,\n",
              " 'honey': 69,\n",
              " 'stop': 175,\n",
              " 'answer': 61,\n",
              " 'promise': 78,\n",
              " 'tonight': 125,\n",
              " 'ready': 97,\n",
              " 'weeks': 27,\n",
              " 'whore': 2,\n",
              " 'shut': 134,\n",
              " 'up': 958,\n",
              " 'sit': 86,\n",
              " 'down': 351,\n",
              " 'serious': 67,\n",
              " 'credit': 14,\n",
              " 'traitor': 2,\n",
              " 'emil': 2,\n",
              " 'spent': 14,\n",
              " 'ha': 28,\n",
              " 'job': 119,\n",
              " 'robert': 18,\n",
              " 'new': 154,\n",
              " 'york': 36,\n",
              " 'clean': 37,\n",
              " 'your': 1681,\n",
              " 'doctor': 71,\n",
              " 'continued': 12,\n",
              " 'really': 537,\n",
              " 'hal': 7,\n",
              " 'guess': 190,\n",
              " 'coninued': 1,\n",
              " 'certainly': 23,\n",
              " 'see': 715,\n",
              " 'true': 82,\n",
              " 'roger': 18,\n",
              " 'name': 229,\n",
              " 'pay': 57,\n",
              " 'money': 171,\n",
              " 'candy': 9,\n",
              " 'chance': 32,\n",
              " 'bullshit': 66,\n",
              " 'last': 204,\n",
              " 'night': 281,\n",
              " \"let's\": 238,\n",
              " 'much': 286,\n",
              " 'class': 22,\n",
              " 'missed': 20,\n",
              " 'partnership': 2,\n",
              " 'thanks': 269,\n",
              " 'jack': 106,\n",
              " 'all': 1046,\n",
              " 'wet': 18,\n",
              " 'hello': 422,\n",
              " 'hiya': 13,\n",
              " 'kid': 67,\n",
              " 'where': 835,\n",
              " 'stall': 5,\n",
              " 'her': 612,\n",
              " 'five': 93,\n",
              " 'bills': 3,\n",
              " 'cornilius': 1,\n",
              " 'luck': 54,\n",
              " 'and': 2726,\n",
              " 'priest': 10,\n",
              " 'ma': 34,\n",
              " 'sorry': 490,\n",
              " '6': 1,\n",
              " '5': 2,\n",
              " 'shit': 319,\n",
              " 'apipoulai': 2,\n",
              " 'cornelius': 3,\n",
              " 'love': 298,\n",
              " 'one': 830,\n",
              " 'apipoussan': 3,\n",
              " 'uh': 272,\n",
              " 'exactly': 88,\n",
              " 'options': 3,\n",
              " 'or': 407,\n",
              " 'act': 28,\n",
              " 'drink': 69,\n",
              " 'sir': 509,\n",
              " 'got': 917,\n",
              " 'gun': 68,\n",
              " 'tom': 42,\n",
              " 'snuff': 2,\n",
              " 'dino': 2,\n",
              " 'machine': 13,\n",
              " 'excellent': 17,\n",
              " 'eddie': 28,\n",
              " 'keep': 161,\n",
              " 'moving': 35,\n",
              " 'lying': 33,\n",
              " 'pardon': 43,\n",
              " 'remember': 171,\n",
              " 'max': 32,\n",
              " 'quite': 58,\n",
              " 'films': 1,\n",
              " 'twentyfive': 16,\n",
              " 'daughter': 31,\n",
              " 'wha': 15,\n",
              " 'next': 88,\n",
              " 'odd': 12,\n",
              " 'pittsburgh': 6,\n",
              " 'here': 1058,\n",
              " 'bad': 190,\n",
              " 'rick': 15,\n",
              " 'mommy': 16,\n",
              " 'tickets': 8,\n",
              " 'about': 988,\n",
              " 'dad': 171,\n",
              " 'sobering': 1,\n",
              " 'very': 315,\n",
              " 'funny': 72,\n",
              " 'alice': 13,\n",
              " 'jacob': 7,\n",
              " 'my': 1570,\n",
              " 'baby': 120,\n",
              " 'vomit': 4,\n",
              " 'mark': 22,\n",
              " 'too': 419,\n",
              " 'reef': 3,\n",
              " 'cyclops': 1,\n",
              " \"'us'\": 1,\n",
              " 'dave': 16,\n",
              " 'frogmen': 2,\n",
              " 'griff': 1,\n",
              " 'wonderful': 34,\n",
              " 'anything': 246,\n",
              " 'with': 1077,\n",
              " 'swell': 10,\n",
              " 'obviously': 22,\n",
              " 'soon': 58,\n",
              " 'spring': 5,\n",
              " 'mmm': 28,\n",
              " 'said': 341,\n",
              " 'hmm': 54,\n",
              " 'safety': 7,\n",
              " 'blood': 34,\n",
              " 'lawford': 1,\n",
              " 'break': 33,\n",
              " 'stuff': 88,\n",
              " 'stupid': 46,\n",
              " 'fun': 57,\n",
              " 'jesus': 163,\n",
              " 'pop': 17,\n",
              " 'nothing': 356,\n",
              " 'fuck': 218,\n",
              " 'want': 807,\n",
              " 'buy': 42,\n",
              " 'could': 459,\n",
              " 'be': 1160,\n",
              " 'lillian': 1,\n",
              " 'just': 1174,\n",
              " 'lots': 22,\n",
              " 'mel': 3,\n",
              " 'gordon': 15,\n",
              " 'for': 1644,\n",
              " 'while': 64,\n",
              " 'wade': 11,\n",
              " 'strange': 28,\n",
              " 'can': 740,\n",
              " 'hold': 87,\n",
              " 'marg': 1,\n",
              " 'rolfe': 2,\n",
              " 'sleeping': 24,\n",
              " 'bang': 4,\n",
              " 'crawl': 4,\n",
              " 'twombley': 4,\n",
              " 'mom': 137,\n",
              " 'dear': 50,\n",
              " 'cut': 56,\n",
              " 'dead': 206,\n",
              " 'nine': 35,\n",
              " 'stand': 52,\n",
              " 'by': 229,\n",
              " 'tower': 5,\n",
              " 'four': 91,\n",
              " 'jim': 40,\n",
              " 'shepherd': 2,\n",
              " 'open': 93,\n",
              " 'oveur': 1,\n",
              " 'dunn': 2,\n",
              " 'elaine': 14,\n",
              " 'te': 6,\n",
              " 'ted': 23,\n",
              " 'mean': 402,\n",
              " 'set': 74,\n",
              " 'now': 837,\n",
              " 'simon': 5,\n",
              " 'negative': 8,\n",
              " 'ahead': 70,\n",
              " 'scraps': 3,\n",
              " 'striker': 1,\n",
              " 'both': 63,\n",
              " 'pilots': 1,\n",
              " 'rain': 11,\n",
              " 'airsick': 2,\n",
              " 'randy': 6,\n",
              " 'in': 2296,\n",
              " 'screw': 13,\n",
              " 'potent': 1,\n",
              " \"ss'kya'ta'\": 1,\n",
              " 'human': 11,\n",
              " 'sykes': 3,\n",
              " 'movement': 2,\n",
              " 'position': 13,\n",
              " 'will': 1586,\n",
              " 'ripley': 3,\n",
              " 'amy': 19,\n",
              " 'if': 850,\n",
              " 'us': 331,\n",
              " 'hicks': 5,\n",
              " 'alive': 52,\n",
              " 'save': 27,\n",
              " 'many': 118,\n",
              " 'locked': 17,\n",
              " 'ellen': 8,\n",
              " 'terrible': 29,\n",
              " 'gone': 93,\n",
              " 'indeed': 15,\n",
              " 'maestro': 2,\n",
              " 'harem': 3,\n",
              " 'brothel': 3,\n",
              " 'hardly': 12,\n",
              " 'humiliated': 2,\n",
              " 'eat': 69,\n",
              " 'wolfi': 3,\n",
              " 'stanzi': 2,\n",
              " 'excellency': 2,\n",
              " 'frau': 1,\n",
              " 'mozart': 10,\n",
              " 'originals': 1,\n",
              " 'alone': 75,\n",
              " 'at': 725,\n",
              " 'careful': 48,\n",
              " 'behold': 5,\n",
              " 'upstairs': 20,\n",
              " 'gertrude': 3,\n",
              " 'play': 80,\n",
              " 'pleasure': 21,\n",
              " 'sire': 13,\n",
              " 'majesty': 9,\n",
              " 'german': 16,\n",
              " 'twentysix': 3,\n",
              " 'pupils': 2,\n",
              " 'papa': 4,\n",
              " 'sssh': 1,\n",
              " 'animals': 7,\n",
              " 'put': 177,\n",
              " 'madame': 17,\n",
              " 'ah': 94,\n",
              " 'herr': 8,\n",
              " 'sommer': 3,\n",
              " 'italian': 13,\n",
              " 'work': 196,\n",
              " 'please': 284,\n",
              " 'ill': 11,\n",
              " 'finish': 14,\n",
              " 'fire': 44,\n",
              " 'time': 431,\n",
              " 'fast': 41,\n",
              " 'try': 139,\n",
              " 'incredible': 13,\n",
              " 'anger': 3,\n",
              " 'bene': 2,\n",
              " 'dr': 93,\n",
              " 'hirsch': 5,\n",
              " 'warn': 5,\n",
              " 'david': 48,\n",
              " 'mr': 309,\n",
              " 'kessler': 2,\n",
              " 'kitchen': 14,\n",
              " 'closet': 6,\n",
              " 'charming': 10,\n",
              " 'bathroom': 19,\n",
              " 'lovely': 11,\n",
              " 'bedroom': 7,\n",
              " 'alex': 22,\n",
              " 'zoo': 9,\n",
              " 'looked': 24,\n",
              " 'miss': 108,\n",
              " 'price': 20,\n",
              " 'lunatic': 4,\n",
              " 'coyote': 2,\n",
              " 'pecos': 1,\n",
              " 'bill': 41,\n",
              " 'heathcliffe': 3,\n",
              " 'nurse': 15,\n",
              " 'kidding': 49,\n",
              " 'matt': 5,\n",
              " 'has': 262,\n",
              " 'charlie': 38,\n",
              " 'whose': 16,\n",
              " 'death': 52,\n",
              " 'line': 34,\n",
              " 'theatre': 6,\n",
              " 'ho': 18,\n",
              " 'happy': 65,\n",
              " 'longer': 8,\n",
              " 'helen': 6,\n",
              " 'dickson': 2,\n",
              " 'mine': 80,\n",
              " 'safe': 44,\n",
              " 'absolutely': 39,\n",
              " 'dude': 40,\n",
              " 'finlay': 1,\n",
              " 'swear': 35,\n",
              " 'yesterday': 34,\n",
              " 'nope': 48,\n",
              " 'damn': 95,\n",
              " 'beg': 14,\n",
              " 'yep': 45,\n",
              " 'beautiful': 68,\n",
              " 'idea': 82,\n",
              " 'dammit': 13,\n",
              " 'jesse': 11,\n",
              " 'boys': 38,\n",
              " 'mmhmm': 5,\n",
              " 'such': 70,\n",
              " 'as': 430,\n",
              " 'figure': 31,\n",
              " \"web's\": 1,\n",
              " 'reckoned': 2,\n",
              " 'care': 95,\n",
              " \"bob's\": 3,\n",
              " 'upset': 15,\n",
              " 'drunk': 25,\n",
              " 'jimmy': 33,\n",
              " 'uncle': 16,\n",
              " 'frank': 70,\n",
              " 'easterners': 1,\n",
              " 'riders': 1,\n",
              " 'little': 313,\n",
              " 'ones': 20,\n",
              " 'neither': 34,\n",
              " 'zee': 1,\n",
              " \"ma'am\": 55,\n",
              " 'tennessee': 3,\n",
              " 'figured': 22,\n",
              " 'like': 1124,\n",
              " 'parker': 5,\n",
              " 'won': 27,\n",
              " 'pumpkin': 7,\n",
              " 'cannot': 509,\n",
              " 'nice': 204,\n",
              " 'eight': 47,\n",
              " 'pick': 54,\n",
              " 'pull': 42,\n",
              " 'take': 395,\n",
              " 'off': 251,\n",
              " 'patrick': 12,\n",
              " 'dowhat': 1,\n",
              " 'evelyn': 6,\n",
              " 'rich': 19,\n",
              " 'dorsia': 4,\n",
              " 'late': 102,\n",
              " 'after': 171,\n",
              " 'six': 63,\n",
              " 'jean': 6,\n",
              " 'bite': 13,\n",
              " 'interesting': 30,\n",
              " 'paul': 34,\n",
              " 'owen': 4,\n",
              " 'coffee': 55,\n",
              " 'kimball': 3,\n",
              " 'shoot': 53,\n",
              " 'habit': 3,\n",
              " 'hangout': 1,\n",
              " 'hmmm': 22,\n",
              " 'don': 17,\n",
              " 'marcus': 3,\n",
              " 'hungry': 36,\n",
              " 'al': 24,\n",
              " 'over': 289,\n",
              " 'make': 281,\n",
              " 'guilt': 5,\n",
              " 'milo': 9,\n",
              " 'goodness': 6,\n",
              " 'tried': 48,\n",
              " 'cool': 71,\n",
              " 'gary': 6,\n",
              " 'worse': 25,\n",
              " '2': 5,\n",
              " 'lisa': 12,\n",
              " 'were': 502,\n",
              " \"why's\": 18,\n",
              " 'god': 291,\n",
              " 'may': 100,\n",
              " 'come': 653,\n",
              " 'carnies': 1,\n",
              " 'basil': 3,\n",
              " 'mick': 1,\n",
              " 'chigro': 3,\n",
              " 'luv': 1,\n",
              " 'likewise': 1,\n",
              " 'kiss': 38,\n",
              " 'ahhhhhhhhh': 1,\n",
              " 'son': 99,\n",
              " 'evil': 23,\n",
              " 'sea': 11,\n",
              " 'bass': 2,\n",
              " 'an': 397,\n",
              " 'vet': 1,\n",
              " 'due': 7,\n",
              " 'blow': 24,\n",
              " 'asleep': 24,\n",
              " 'seriously': 26,\n",
              " 'red': 35,\n",
              " 'knight': 6,\n",
              " 'black': 56,\n",
              " 'flower': 4,\n",
              " 'nature': 11,\n",
              " 'secret': 20,\n",
              " 'hope': 72,\n",
              " 'fear': 15,\n",
              " 'met': 74,\n",
              " 'people': 246,\n",
              " 'resign': 3,\n",
              " 'mad': 27,\n",
              " 'choices': 4,\n",
              " 'better': 209,\n",
              " 'ideas': 7,\n",
              " 'barely': 12,\n",
              " 'steed': 4,\n",
              " 'orders': 11,\n",
              " 'kill': 113,\n",
              " 'trouble': 51,\n",
              " 'lied': 15,\n",
              " 'first': 196,\n",
              " 'mrs': 93,\n",
              " 'peel': 6,\n",
              " 'amnesia': 4,\n",
              " 'insane': 16,\n",
              " 'john': 88,\n",
              " 'cole': 10,\n",
              " 'car': 144,\n",
              " 'best': 86,\n",
              " 'shot': 55,\n",
              " '1002': 1,\n",
              " 'real': 118,\n",
              " 'turd': 2,\n",
              " 'oops': 2,\n",
              " 'feel': 187,\n",
              " 'free': 38,\n",
              " 'end': 55,\n",
              " 'oooooo': 1,\n",
              " 'would': 1023,\n",
              " 'debbie': 7,\n",
              " 'likely': 1,\n",
              " 'works': 38,\n",
              " 'saw': 147,\n",
              " 'brian': 11,\n",
              " 'jennifer': 9,\n",
              " 'back': 407,\n",
              " 'arson': 1,\n",
              " 'homey': 1,\n",
              " 'outlets': 1,\n",
              " 'shhh': 25,\n",
              " 'glass': 12,\n",
              " 'read': 85,\n",
              " 'reason': 53,\n",
              " 'months': 42,\n",
              " 'boat': 19,\n",
              " 'firehouse': 1,\n",
              " 'shadow': 4,\n",
              " 'cause': 47,\n",
              " 'inspector': 8,\n",
              " 'nah': 30,\n",
              " 'large': 11,\n",
              " 'case': 66,\n",
              " 'sister': 39,\n",
              " 'trying': 110,\n",
              " 'delacroix': 2,\n",
              " 'meaning': 34,\n",
              " 'skippy': 2,\n",
              " 'offense': 11,\n",
              " 'mantan': 4,\n",
              " 'wid': 1,\n",
              " 'word': 67,\n",
              " 'manray': 5,\n",
              " 'same': 94,\n",
              " 'gift': 15,\n",
              " 'light': 38,\n",
              " 'mona': 2,\n",
              " 'fine': 253,\n",
              " 'finland': 2,\n",
              " 'around': 186,\n",
              " 'dat': 2,\n",
              " 'lot': 131,\n",
              " 'else': 136,\n",
              " \"y'know\": 16,\n",
              " 'aw': 21,\n",
              " \"c'mon\": 59,\n",
              " \"o'grady\": 2,\n",
              " 'coward': 2,\n",
              " 'certain': 16,\n",
              " 'agreed': 11,\n",
              " 'dark': 27,\n",
              " 'valdez': 1,\n",
              " 'some': 439,\n",
              " 'epilepsy': 1,\n",
              " 'mueller': 4,\n",
              " 'christ': 49,\n",
              " 'move': 85,\n",
              " 'baseball': 5,\n",
              " 'watch': 78,\n",
              " 'dunbar': 4,\n",
              " 'bit': 52,\n",
              " 'west': 22,\n",
              " 'levi': 2,\n",
              " 'bloom': 3,\n",
              " 'eighteen': 9,\n",
              " 'lucky': 39,\n",
              " 'girl': 146,\n",
              " 'karl': 5,\n",
              " 'river': 15,\n",
              " 'daffodils': 1,\n",
              " \"'fraid\": 3,\n",
              " 'awake': 13,\n",
              " 'leave': 147,\n",
              " 'ch': 1,\n",
              " 'binoculars': 3,\n",
              " 'bank': 33,\n",
              " 'syevodnya': 3,\n",
              " 'frenzy': 1,\n",
              " 'sometimes': 64,\n",
              " 'goodbye': 56,\n",
              " 'whatever': 72,\n",
              " 'lazarus': 4,\n",
              " 'hurt': 60,\n",
              " 'angela': 6,\n",
              " 'church': 16,\n",
              " 'holy': 42,\n",
              " \"better'n\": 3,\n",
              " 'man': 402,\n",
              " 'days': 57,\n",
              " 'itches': 1,\n",
              " 'uhuh': 14,\n",
              " 'myself': 59,\n",
              " 'uhhuh': 175,\n",
              " 'naw': 11,\n",
              " 'nuhuh': 1,\n",
              " \"yes'sir\": 1,\n",
              " 'rae': 3,\n",
              " 'backup': 4,\n",
              " 'party': 47,\n",
              " 'squid': 4,\n",
              " 'short': 17,\n",
              " 'shift': 11,\n",
              " 'connie': 4,\n",
              " 'nick': 41,\n",
              " 'ichiro': 1,\n",
              " 'yakuza': 1,\n",
              " 'gaiijin': 2,\n",
              " 'big': 177,\n",
              " 'enough': 114,\n",
              " 'start': 77,\n",
              " 'joyce': 1,\n",
              " 'ich': 1,\n",
              " 'drinks': 7,\n",
              " 'amused': 2,\n",
              " 'dope': 7,\n",
              " 'these': 185,\n",
              " 'prosit': 4,\n",
              " 'rust': 3,\n",
              " 'old': 144,\n",
              " 'shows': 6,\n",
              " 'does': 318,\n",
              " 'jeezus': 1,\n",
              " 'ten': 75,\n",
              " 'years': 142,\n",
              " 'discreetly': 1,\n",
              " 'desert': 9,\n",
              " 'thing': 244,\n",
              " 'pris': 2,\n",
              " 'left': 109,\n",
              " 'twenty': 43,\n",
              " 'bravo': 6,\n",
              " 'office': 57,\n",
              " 'dickhead': 2,\n",
              " 'far': 68,\n",
              " 'again': 185,\n",
              " 'perry': 5,\n",
              " 'thankq': 4,\n",
              " 'ya': 141,\n",
              " 'doing': 268,\n",
              " 'fair': 20,\n",
              " 'wife': 86,\n",
              " 'bites': 3,\n",
              " 'umhum': 6,\n",
              " 'eve': 22,\n",
              " 'adam': 9,\n",
              " 'card': 21,\n",
              " 'lucy': 12,\n",
              " '1959': 1,\n",
              " 'russia': 3,\n",
              " 'juneau': 2,\n",
              " 'bet': 78,\n",
              " 'bye': 45,\n",
              " 'troy': 3,\n",
              " 'hotel': 35,\n",
              " 'thirtyfive': 9,\n",
              " 'sky': 6,\n",
              " 'help': 190,\n",
              " 'elbows': 1,\n",
              " 'locks': 7,\n",
              " 'calvin': 5,\n",
              " 'mutants': 2,\n",
              " 'smart': 31,\n",
              " 'um': 21,\n",
              " 'those': 138,\n",
              " 'sluts': 1,\n",
              " 'bed': 57,\n",
              " 'gay': 15,\n",
              " 'jeffrey': 28,\n",
              " 'yet': 117,\n",
              " 'nobody': 60,\n",
              " 'look': 510,\n",
              " 'falling': 10,\n",
              " 'dorothy': 9,\n",
              " 'bull': 6,\n",
              " 'ride': 32,\n",
              " 'heineken': 2,\n",
              " 'brilliant': 9,\n",
              " 'ok': 149,\n",
              " 'goodnight': 27,\n",
              " 'sandy': 9,\n",
              " \"lord's\": 2,\n",
              " 'mother': 143,\n",
              " 'guys': 113,\n",
              " 'murphy': 2,\n",
              " 'aye': 34,\n",
              " 'nervous': 31,\n",
              " 'bodies': 12,\n",
              " 'fat': 17,\n",
              " 'witness': 15,\n",
              " 'murph': 4,\n",
              " 'believe': 165,\n",
              " 'lookout': 2,\n",
              " 'shh': 14,\n",
              " 'person': 38,\n",
              " 'freeze': 4,\n",
              " 'scale': 4,\n",
              " 'bob': 63,\n",
              " 'future': 16,\n",
              " 'sixty': 10,\n",
              " 'cuba': 3,\n",
              " 'silk': 5,\n",
              " 'weed': 3,\n",
              " 'dignan': 5,\n",
              " 'scarecrow': 1,\n",
              " '26': 1,\n",
              " 'grammar': 1,\n",
              " 'hoto': 2,\n",
              " 'henry': 14,\n",
              " 'treadstone': 5,\n",
              " 'berlin': 2,\n",
              " 'conklin': 4,\n",
              " 'keys': 23,\n",
              " 'drive': 51,\n",
              " 'russian': 10,\n",
              " 'abbott': 4,\n",
              " 'show': 97,\n",
              " 'still': 187,\n",
              " 'nevins': 1,\n",
              " 'fresh': 9,\n",
              " 'peace': 7,\n",
              " \"m'lord\": 1,\n",
              " 'rest': 42,\n",
              " 'armed': 6,\n",
              " 'win': 33,\n",
              " 'nor': 2,\n",
              " 'darn': 4,\n",
              " 'fix': 15,\n",
              " 'straight': 26,\n",
              " 'books': 16,\n",
              " 'ouch': 15,\n",
              " 'destroy': 11,\n",
              " 'lung': 3,\n",
              " 'cancer': 10,\n",
              " 'laszlo': 2,\n",
              " 'sam': 57,\n",
              " 'ask': 149,\n",
              " 'ilsa': 3,\n",
              " 'his': 448,\n",
              " 'escape': 9,\n",
              " 'friend': 131,\n",
              " \"sam's\": 4,\n",
              " 'piano': 11,\n",
              " 'boss': 39,\n",
              " 'water': 51,\n",
              " 'sonofabitch': 8,\n",
              " 'cold': 44,\n",
              " 'chuck': 5,\n",
              " 'touched': 5,\n",
              " 'ropes': 2,\n",
              " 'wilson': 8,\n",
              " 'life': 166,\n",
              " 'burma': 1,\n",
              " 'liberator': 2,\n",
              " 'migrants': 1,\n",
              " 'rose': 18,\n",
              " '*it*': 1,\n",
              " 'cares': 17,\n",
              " '*what*': 1,\n",
              " 'view': 9,\n",
              " 'tough': 27,\n",
              " 'day': 199,\n",
              " 'grifters': 1,\n",
              " 'mob': 9,\n",
              " 'whoa': 17,\n",
              " 'jake': 24,\n",
              " 'calls': 22,\n",
              " 'minus': 1,\n",
              " 'stake': 7,\n",
              " 'says': 107,\n",
              " 'lighten': 4,\n",
              " 'ticktock': 1,\n",
              " 'mess': 11,\n",
              " 'miles': 51,\n",
              " 'escorts': 1,\n",
              " 'aces': 3,\n",
              " 'suits': 8,\n",
              " 'percent': 8,\n",
              " 'tip': 10,\n",
              " 'speak': 55,\n",
              " 'sell': 19,\n",
              " 'high': 44,\n",
              " 'bella': 1,\n",
              " 'eightfifty': 1,\n",
              " 'habib': 1,\n",
              " 'hand': 56,\n",
              " 'probably': 77,\n",
              " 'found': 97,\n",
              " 'debts': 1,\n",
              " 'ross': 5,\n",
              " 'rough': 16,\n",
              " 'ever': 207,\n",
              " 'girlfriend': 24,\n",
              " 'bruised': 1,\n",
              " 'key': 30,\n",
              " 'bomb': 14,\n",
              " 'pinback': 2,\n",
              " 'doolittle': 5,\n",
              " 'second': 73,\n",
              " 'planets': 1,\n",
              " 'fred': 9,\n",
              " 'veil': 2,\n",
              " 'nebula': 3,\n",
              " 'remark': 2,\n",
              " 'talby': 1,\n",
              " 'wire': 9,\n",
              " 'grand': 21,\n",
              " 'something': 406,\n",
              " 'bent': 6,\n",
              " 'none': 38,\n",
              " 'fog': 1,\n",
              " 'gotta': 152,\n",
              " 'unlikely': 2,\n",
              " 'dogs': 8,\n",
              " 'lydia': 14,\n",
              " 'toy': 9,\n",
              " 'sick': 52,\n",
              " 'gin': 6,\n",
              " 'hawk': 4,\n",
              " 'problem': 59,\n",
              " 'jeremiah': 4,\n",
              " 'ann': 19,\n",
              " 'arbor': 2,\n",
              " 'namely': 1,\n",
              " 'dudes': 1,\n",
              " 'bustier': 1,\n",
              " 'donnie': 5,\n",
              " 'cellar': 3,\n",
              " 'door': 63,\n",
              " 'regret': 7,\n",
              " 'gerald': 4,\n",
              " 'kitty': 4,\n",
              " 'chut': 1,\n",
              " 'wicked': 1,\n",
              " 'youbetcha': 1,\n",
              " 'amber': 4,\n",
              " 'yah': 58,\n",
              " 'leeman': 1,\n",
              " 'ow': 19,\n",
              " 'dakota': 4,\n",
              " 'ohio': 3,\n",
              " 'wisconsin': 7,\n",
              " 'bitch': 36,\n",
              " 'tammy': 2,\n",
              " 'curry': 1,\n",
              " 'lester': 7,\n",
              " 'gladys': 1,\n",
              " 'harold': 22,\n",
              " '$50': 1,\n",
              " 'swine': 5,\n",
              " 'worm': 4,\n",
              " 'once': 77,\n",
              " 'upstart': 3,\n",
              " 'bah': 1,\n",
              " 'rufus': 4,\n",
              " 'er': 18,\n",
              " 'alas': 1,\n",
              " 'romance': 3,\n",
              " 'yyyes': 3,\n",
              " 'yyes': 5,\n",
              " 'yyyess': 2,\n",
              " 'yyess': 2,\n",
              " 'merrick': 3,\n",
              " 'mmmerrick': 4,\n",
              " 'ohhh': 11,\n",
              " 'home': 176,\n",
              " 'heard': 154,\n",
              " 'welcome': 29,\n",
              " 'scream': 6,\n",
              " 'louder': 9,\n",
              " 'aaagh': 3,\n",
              " 'rape': 5,\n",
              " 'faster': 12,\n",
              " 'magic': 16,\n",
              " 'row': 7,\n",
              " 'erik': 1,\n",
              " 'hybrasil': 2,\n",
              " 'sven': 1,\n",
              " 'leif': 1,\n",
              " 'lord': 30,\n",
              " 'sh': 3,\n",
              " 'hurry': 29,\n",
              " 'relax': 31,\n",
              " 'easy': 65,\n",
              " 'mum': 2,\n",
              " 'rat': 6,\n",
              " 'room': 105,\n",
              " 'joel': 8,\n",
              " 'frost': 4,\n",
              " 'tomorrow': 126,\n",
              " 'yo': 25,\n",
              " 'joely': 2,\n",
              " 'female': 6,\n",
              " 'knew': 89,\n",
              " 'them': 360,\n",
              " 'clementine': 3,\n",
              " 'naomi': 4,\n",
              " 'yours': 57,\n",
              " 'definitely': 18,\n",
              " 'boo': 2,\n",
              " \"'kay\": 7,\n",
              " 'yup': 20,\n",
              " 'coming': 142,\n",
              " 'mary': 72,\n",
              " 'clockworks': 2,\n",
              " 'siwash': 1,\n",
              " 'guy': 191,\n",
              " 'going': 633,\n",
              " 'north': 21,\n",
              " 'hitchhiking': 2,\n",
              " 'whooee': 1,\n",
              " 'tired': 43,\n",
              " 'ranch': 5,\n",
              " 'ballast': 4,\n",
              " 'justin': 3,\n",
              " 'from': 467,\n",
              " 'trauma': 3,\n",
              " 'hear': 159,\n",
              " 'pressure': 8,\n",
              " 'skipper': 7,\n",
              " 'peters': 3,\n",
              " 'date': 28,\n",
              " '2041': 1,\n",
              " 'explanation': 6,\n",
              " 'eyes': 43,\n",
              " 'miller': 4,\n",
              " 'weir': 5,\n",
              " 'claire': 17,\n",
              " 'ben': 38,\n",
              " 'times': 57,\n",
              " 'hot': 40,\n",
              " 'likey': 2,\n",
              " 'sweet': 30,\n",
              " 'driving': 29,\n",
              " 'front': 46,\n",
              " 'page': 20,\n",
              " 'science': 8,\n",
              " \"'scuse\": 3,\n",
              " 'totally': 21,\n",
              " 'mon': 3,\n",
              " 'brad': 18,\n",
              " 'suit': 24,\n",
              " 'mike': 22,\n",
              " ...}"
            ]
          },
          "execution_count": 23,
          "metadata": {},
          "output_type": "execute_result"
        }
      ],
      "source": [
        "palabra_cont"
      ]
    },
    {
      "cell_type": "markdown",
      "metadata": {
        "id": "5DG7Q7jzHjRR"
      },
      "source": [
        "- Eliminamos palabras raras del vocabulario.\n",
        "- Su objetivo es reemplazar menos del 5% de las palabras con `<UNK>`"
      ]
    },
    {
      "cell_type": "code",
      "execution_count": null,
      "metadata": {
        "colab": {
          "base_uri": "https://localhost:8080/"
        },
        "id": "feIqfccDHjRR",
        "outputId": "51615cb3-65ec-4e13-9ae1-4d977aa0b5de"
      },
      "outputs": [
        {
          "name": "stdout",
          "output_type": "stream",
          "text": [
            "Tamaño del vocavulario total: 3164\n",
            "Tamaño del vocabulario que usaremos: 3164\n"
          ]
        }
      ],
      "source": [
        "umbral = 5\n",
        "vocabulario = {}\n",
        "palabra_num = 0\n",
        "for palabra, cont in palabra_cont.items():\n",
        "    if cont >= umbral:\n",
        "        vocabulario[palabra] = palabra_num\n",
        "        palabra_num += 1\n",
        "\n",
        "print(\"Tamaño del vocavulario total:\", len(vocabulario))\n",
        "print(\"Tamaño del vocabulario que usaremos:\", palabra_num)"
      ]
    },
    {
      "cell_type": "markdown",
      "metadata": {
        "id": "TSsvkz7SHjRR"
      },
      "source": [
        "- Borramos las varaibles que ya no vamos a usar."
      ]
    },
    {
      "cell_type": "code",
      "execution_count": null,
      "metadata": {
        "id": "k7jgha35HjRR"
      },
      "outputs": [],
      "source": [
        "del(palabra_cont,palabra,cont,umbral,palabra_num)"
      ]
    },
    {
      "cell_type": "markdown",
      "metadata": {
        "id": "SzWs0RxpHjRR"
      },
      "source": [
        "- Agregamos tokens especiales al vocabulario (`<PAD>`, `<EOS>`, `<OUT>`, `<SOS>`)\n",
        "- Asignamos valores numéricos a los tokens\n",
        "- Creamos un diccionario inverso para mapear números a palabras\n",
        "- Hacemos un caso especial para 'cameron' asignándole el mismo valor que `<PAD>`\n",
        "\n",
        "Los tokens especiales son:\n",
        "- `<PAD>`: Se usa para rellenar secuencias y hacer que todas tengan la misma longitud\n",
        "- `<EOS>`: End of Sequence - Marca el final de una secuencia\n",
        "- `<OUT>`: Out of Vocabulary - Para palabras que no están en el vocabulario\n",
        "- `<SOS>`: Start of Sequence - Marca el inicio de una secuencia\n",
        "\n"
      ]
    },
    {
      "cell_type": "code",
      "execution_count": null,
      "metadata": {
        "id": "sRBVbVAIHjRZ"
      },
      "outputs": [],
      "source": [
        "for i in range(len(respuestas_limpias)):\n",
        "    respuestas_limpias[i] = '<SOS> ' + respuestas_limpias[i] + ' <EOS>'\n",
        "\n",
        "tokens = ['<PAD>', '<EOS>', '<OUT>', '<SOS>']\n",
        "x = len(vocabulario)\n",
        "\n",
        "for token in tokens:\n",
        "    vocabulario[token] = x\n",
        "    x += 1\n",
        "\n",
        "vocabulario['cameron'] = vocabulario['<PAD>']\n",
        "vocabulario['<PAD>'] = 0\n",
        "\n",
        "del(x,token, tokens)\n",
        "\n",
        "# Inverse Answers Dictionary\n",
        "inv_vocab = {w:v for v, w in vocabulario.items()}\n",
        "del(i)"
      ]
    },
    {
      "cell_type": "markdown",
      "metadata": {
        "id": "mnDw2br8HjRZ"
      },
      "source": [
        "Codificación de las preguntas y respuestas:\n",
        "- Convertimos cada palabra de las preguntas o respuestas a su valor numérico correspondiente del vocabulario\n",
        "- Si una palabra no está en el vocabulario, se reemplaza con el token `<OUT>`\n",
        "- El resultado es una lista de listas donde cada sublista contiene los valores numéricos de las palabras"
      ]
    },
    {
      "cell_type": "code",
      "execution_count": null,
      "metadata": {
        "id": "1jcfn2uxHjRZ"
      },
      "outputs": [],
      "source": [
        "entrada_codificador = []\n",
        "for linea in preguntas_limpias:\n",
        "    lista = []\n",
        "    for palabra in linea.split():\n",
        "        if palabra not in vocabulario:\n",
        "            lista.append(vocabulario['<OUT>'])\n",
        "        else:\n",
        "            lista.append(vocabulario[palabra])\n",
        "\n",
        "    entrada_codificador.append(lista)"
      ]
    },
    {
      "cell_type": "code",
      "execution_count": null,
      "metadata": {
        "colab": {
          "base_uri": "https://localhost:8080/"
        },
        "id": "CCA4T2EAHjRZ",
        "outputId": "3118fe91-c2e0-4349-9ade-147da9fa1a3b"
      },
      "outputs": [
        {
          "data": {
            "text/plain": [
              "[[3164], [1]]"
            ]
          },
          "execution_count": 28,
          "metadata": {},
          "output_type": "execute_result"
        }
      ],
      "source": [
        "entrada_codificador[:2]"
      ]
    },
    {
      "cell_type": "code",
      "execution_count": null,
      "metadata": {
        "id": "1E38HkzMHjRa"
      },
      "outputs": [],
      "source": [
        "entrada_decodificador = []\n",
        "for linea in respuestas_limpias:\n",
        "    lista = []\n",
        "    for palabra in linea.split():\n",
        "        if palabra not in vocabulario:\n",
        "            lista.append(vocabulario['<OUT>'])\n",
        "        else:\n",
        "            lista.append(vocabulario[palabra])\n",
        "    entrada_decodificador.append(lista)"
      ]
    },
    {
      "cell_type": "code",
      "execution_count": null,
      "metadata": {
        "colab": {
          "base_uri": "https://localhost:8080/"
        },
        "id": "Fb0eD_2EHjRa",
        "outputId": "a2b9bbc2-2a17-4757-fb97-112e1e30acc0"
      },
      "outputs": [
        {
          "data": {
            "text/plain": [
              "[[3167, 60, 527, 22, 3164, 6, 40, 280, 60, 3166, 68, 86, 2279, 3166, 3165],\n",
              " [3167,\n",
              "  3166,\n",
              "  944,\n",
              "  14,\n",
              "  1052,\n",
              "  18,\n",
              "  225,\n",
              "  123,\n",
              "  2280,\n",
              "  70,\n",
              "  14,\n",
              "  2281,\n",
              "  634,\n",
              "  1117,\n",
              "  3165]]"
            ]
          },
          "execution_count": 30,
          "metadata": {},
          "output_type": "execute_result"
        }
      ],
      "source": [
        "entrada_decodificador[:2]"
      ]
    },
    {
      "cell_type": "markdown",
      "metadata": {
        "id": "7pz6KeYhHjRa"
      },
      "source": [
        "- Borramos las varaibles que ya no vamos a usar."
      ]
    },
    {
      "cell_type": "code",
      "execution_count": null,
      "metadata": {
        "id": "jJTf3LwPHjRa"
      },
      "outputs": [],
      "source": [
        "del(respuestas_limpias, preguntas_limpias, linea, lista, palabra)"
      ]
    },
    {
      "cell_type": "markdown",
      "metadata": {
        "id": "4uncgDsiHjRa"
      },
      "source": [
        "- Padding de las entradas para el modelo LSTM"
      ]
    },
    {
      "cell_type": "code",
      "execution_count": null,
      "metadata": {
        "id": "wrPAV5nFHjRa"
      },
      "outputs": [],
      "source": [
        "from tensorflow.keras.preprocessing.sequence import pad_sequences"
      ]
    },
    {
      "cell_type": "markdown",
      "metadata": {
        "id": "Ji7LciAAHjRa"
      },
      "source": [
        "- Ajuste de las secuencias de entrada y salida para el modelo LSTM"
      ]
    },
    {
      "cell_type": "code",
      "execution_count": null,
      "metadata": {
        "id": "Vs9W1t6zHjRa"
      },
      "outputs": [],
      "source": [
        "# Padding de las preguntas  (entrada del codificador)\n",
        "entrada_codificador = pad_sequences(entrada_codificador, 13, padding='post', truncating='post')\n",
        "\n",
        "# Padding de las respuestas (entrada del decodificador)\n",
        "entrada_decodificador = pad_sequences(entrada_decodificador, 13, padding='post', truncating='post')"
      ]
    },
    {
      "cell_type": "markdown",
      "metadata": {
        "id": "gnT7AQOqHjRb"
      },
      "source": [
        "- Generar la salida final del decodificador (shift a la izquierda)"
      ]
    },
    {
      "cell_type": "code",
      "execution_count": null,
      "metadata": {
        "id": "rG9Mr3fWHjRb"
      },
      "outputs": [],
      "source": [
        "salida_final_decodificador = []\n",
        "for seq in entrada_decodificador:\n",
        "    salida_final_decodificador.append(seq[1:])\n",
        "salida_final_decodificador = pad_sequences(salida_final_decodificador, 13, padding='post', truncating='post')\n",
        "del(seq)"
      ]
    },
    {
      "cell_type": "markdown",
      "metadata": {
        "id": "yEONpOsZHjRb"
      },
      "source": [
        "- Codificación one-hot de la salida final del decodificador"
      ]
    },
    {
      "cell_type": "code",
      "execution_count": null,
      "metadata": {
        "colab": {
          "base_uri": "https://localhost:8080/"
        },
        "id": "w_T6K2imHjRb",
        "outputId": "715fc770-1cf1-40cc-c1b3-7a4263b4f505"
      },
      "outputs": [
        {
          "name": "stdout",
          "output_type": "stream",
          "text": [
            "(30000, 13, 3168)\n"
          ]
        }
      ],
      "source": [
        "salida_final_decodificador = to_categorical(salida_final_decodificador, len(vocabulario))\n",
        "print(salida_final_decodificador.shape)"
      ]
    },
    {
      "cell_type": "markdown",
      "metadata": {
        "id": "vQUbPUu-HjRb"
      },
      "source": [
        "### Creación de un modelo de codificación mediante GRU"
      ]
    },
    {
      "cell_type": "code",
      "execution_count": null,
      "metadata": {
        "colab": {
          "base_uri": "https://localhost:8080/"
        },
        "id": "3BulzUaI5h0d",
        "outputId": "219eec7f-0484-4a3d-aa44-c40bfd710b6b"
      },
      "outputs": [
        {
          "name": "stdout",
          "output_type": "stream",
          "text": [
            "Requirement already satisfied: keras-tuner in c:\\users\\usuario\\documents\\maestría\\semestre 2\\deep learning\\condapython3_9\\.conda\\lib\\site-packages (1.4.7)\n",
            "Requirement already satisfied: keras in c:\\users\\usuario\\documents\\maestría\\semestre 2\\deep learning\\condapython3_9\\.conda\\lib\\site-packages (from keras-tuner) (3.9.2)\n",
            "Requirement already satisfied: packaging in c:\\users\\usuario\\documents\\maestría\\semestre 2\\deep learning\\condapython3_9\\.conda\\lib\\site-packages (from keras-tuner) (25.0)\n",
            "Requirement already satisfied: requests in c:\\users\\usuario\\documents\\maestría\\semestre 2\\deep learning\\condapython3_9\\.conda\\lib\\site-packages (from keras-tuner) (2.32.3)\n",
            "Requirement already satisfied: kt-legacy in c:\\users\\usuario\\documents\\maestría\\semestre 2\\deep learning\\condapython3_9\\.conda\\lib\\site-packages (from keras-tuner) (1.0.5)\n",
            "Requirement already satisfied: absl-py in c:\\users\\usuario\\documents\\maestría\\semestre 2\\deep learning\\condapython3_9\\.conda\\lib\\site-packages (from keras->keras-tuner) (2.2.2)\n",
            "Requirement already satisfied: numpy in c:\\users\\usuario\\documents\\maestría\\semestre 2\\deep learning\\condapython3_9\\.conda\\lib\\site-packages (from keras->keras-tuner) (2.0.2)\n",
            "Requirement already satisfied: rich in c:\\users\\usuario\\documents\\maestría\\semestre 2\\deep learning\\condapython3_9\\.conda\\lib\\site-packages (from keras->keras-tuner) (14.0.0)\n",
            "Requirement already satisfied: namex in c:\\users\\usuario\\documents\\maestría\\semestre 2\\deep learning\\condapython3_9\\.conda\\lib\\site-packages (from keras->keras-tuner) (0.0.9)\n",
            "Requirement already satisfied: h5py in c:\\users\\usuario\\documents\\maestría\\semestre 2\\deep learning\\condapython3_9\\.conda\\lib\\site-packages (from keras->keras-tuner) (3.13.0)\n",
            "Requirement already satisfied: optree in c:\\users\\usuario\\documents\\maestría\\semestre 2\\deep learning\\condapython3_9\\.conda\\lib\\site-packages (from keras->keras-tuner) (0.15.0)\n",
            "Requirement already satisfied: ml-dtypes in c:\\users\\usuario\\documents\\maestría\\semestre 2\\deep learning\\condapython3_9\\.conda\\lib\\site-packages (from keras->keras-tuner) (0.5.1)\n",
            "Requirement already satisfied: typing-extensions>=4.5.0 in c:\\users\\usuario\\documents\\maestría\\semestre 2\\deep learning\\condapython3_9\\.conda\\lib\\site-packages (from optree->keras->keras-tuner) (4.13.2)\n",
            "Requirement already satisfied: charset-normalizer<4,>=2 in c:\\users\\usuario\\documents\\maestría\\semestre 2\\deep learning\\condapython3_9\\.conda\\lib\\site-packages (from requests->keras-tuner) (3.4.2)\n",
            "Requirement already satisfied: idna<4,>=2.5 in c:\\users\\usuario\\documents\\maestría\\semestre 2\\deep learning\\condapython3_9\\.conda\\lib\\site-packages (from requests->keras-tuner) (3.10)\n",
            "Requirement already satisfied: urllib3<3,>=1.21.1 in c:\\users\\usuario\\documents\\maestría\\semestre 2\\deep learning\\condapython3_9\\.conda\\lib\\site-packages (from requests->keras-tuner) (2.4.0)\n",
            "Requirement already satisfied: certifi>=2017.4.17 in c:\\users\\usuario\\documents\\maestría\\semestre 2\\deep learning\\condapython3_9\\.conda\\lib\\site-packages (from requests->keras-tuner) (2025.4.26)\n",
            "Requirement already satisfied: markdown-it-py>=2.2.0 in c:\\users\\usuario\\documents\\maestría\\semestre 2\\deep learning\\condapython3_9\\.conda\\lib\\site-packages (from rich->keras->keras-tuner) (3.0.0)\n",
            "Requirement already satisfied: pygments<3.0.0,>=2.13.0 in c:\\users\\usuario\\documents\\maestría\\semestre 2\\deep learning\\condapython3_9\\.conda\\lib\\site-packages (from rich->keras->keras-tuner) (2.19.1)\n",
            "Requirement already satisfied: mdurl~=0.1 in c:\\users\\usuario\\documents\\maestría\\semestre 2\\deep learning\\condapython3_9\\.conda\\lib\\site-packages (from markdown-it-py>=2.2.0->rich->keras->keras-tuner) (0.1.2)\n",
            "Note: you may need to restart the kernel to use updated packages.\n"
          ]
        }
      ],
      "source": [
        "pip install keras-tuner"
      ]
    },
    {
      "cell_type": "code",
      "execution_count": null,
      "metadata": {
        "colab": {
          "base_uri": "https://localhost:8080/"
        },
        "id": "1Oum8dDXHjRb",
        "outputId": "86d97e10-436c-448a-85a0-54bd76d51807"
      },
      "outputs": [
        {
          "name": "stderr",
          "output_type": "stream",
          "text": [
            "c:\\Users\\Usuario\\Documents\\MAESTRÍA\\Semestre 2\\Deep learning\\condapython3_9\\.conda\\lib\\site-packages\\keras\\src\\layers\\core\\embedding.py:90: UserWarning: Argument `input_length` is deprecated. Just remove it.\n",
            "  warnings.warn(\n"
          ]
        }
      ],
      "source": [
        "# Tamaño del vocabulario y capa de embedding\n",
        "TAM_VOCAB = len(vocabulario)\n",
        "embedding = Embedding(TAM_VOCAB+1, output_dim=32,\n",
        "                     input_length=13,\n",
        "                     trainable=True\n",
        "                    )"
      ]
    },
    {
      "cell_type": "code",
      "execution_count": null,
      "metadata": {
        "id": "4zgAa3ZXHjRc"
      },
      "outputs": [],
      "source": [
        "from tensorflow.keras.models import Model\n",
        "from tensorflow.keras.layers import Input"
      ]
    },
    {
      "cell_type": "markdown",
      "metadata": {
        "id": "BdAI8CvgoyQs"
      },
      "source": [
        "#### Calibración hiper parámetros GRU"
      ]
    },
    {
      "cell_type": "code",
      "execution_count": null,
      "metadata": {
        "id": "Rsd9caj5oyQs",
        "outputId": "bc93334b-cff5-4c3e-9750-1568b78bbc87"
      },
      "outputs": [
        {
          "name": "stdout",
          "output_type": "stream",
          "text": [
            "Trial 10 Complete [00h 30m 14s]\n",
            "val_acc: 0.5280256867408752\n",
            "\n",
            "Best val_acc So Far: 0.5295384526252747\n",
            "Total elapsed time: 22h 10m 46s\n",
            "Mejores hiperparámetros encontrados para GRU:\n",
            "Embedding dim: 128\n",
            "GRU units: 200\n",
            "Learning rate: 0.001\n"
          ]
        },
        {
          "name": "stderr",
          "output_type": "stream",
          "text": [
            "c:\\Users\\Usuario\\Documents\\MAESTRÍA\\Semestre 2\\Deep learning\\condapython3_9\\.conda\\lib\\site-packages\\keras\\src\\saving\\saving_lib.py:757: UserWarning: Skipping variable loading for optimizer 'adam', because it has 2 variables whereas the saved optimizer has 22 variables. \n",
            "  saveable.load_own_variables(weights_store.get(inner_path))\n"
          ]
        }
      ],
      "source": [
        "TAM_VOCAB = len(vocabulario)\n",
        "class ChatbotHyperModel(HyperModel):\n",
        "    def __init__(self, vocab_size, input_length):\n",
        "        self.vocab_size = vocab_size\n",
        "        self.input_length = input_length\n",
        "\n",
        "    def build(self, hp):\n",
        "        # Inputs\n",
        "        entrada_cod = Input(shape=(self.input_length,))\n",
        "        entrada_dec = Input(shape=(self.input_length,))\n",
        "\n",
        "        # Hiperparámetros\n",
        "        embed_dim = hp.Choice('embedding_dim', [32, 50, 64, 128])\n",
        "        lstm_units = hp.Choice('gru_units', [64, 128, 200, 500])\n",
        "        learning_rate = hp.Choice('learning_rate', [1e-2, 1e-3, 1e-4])\n",
        "\n",
        "        # Embedding\n",
        "        embedding_cod = Embedding(input_dim=self.vocab_size+1,\n",
        "                              output_dim=embed_dim,\n",
        "                              input_length=self.input_length,\n",
        "                              trainable=True)\n",
        "\n",
        "        embedding_dec = Embedding(input_dim=self.vocab_size+1,\n",
        "                                output_dim=embed_dim,\n",
        "                                input_length=self.input_length,\n",
        "                                trainable=True)\n",
        "\n",
        "        cod_embed = embedding_cod(entrada_cod)\n",
        "\n",
        "\n",
        "        cod_GRU = GRU(lstm_units, return_sequences=True, return_state=True)\n",
        "        cod_salida, h = cod_GRU(cod_embed)\n",
        "        estados_cod = [h]\n",
        "\n",
        "        dec_embed = embedding_dec(entrada_dec)\n",
        "        dec_GRU = GRU(lstm_units, return_sequences=True, return_state=True)\n",
        "        dec_salida, _ = dec_GRU(dec_embed, initial_state=estados_cod)\n",
        "\n",
        "        densa = Dense(self.vocab_size, activation='softmax')\n",
        "        salida_densa = densa(dec_salida)\n",
        "\n",
        "        modelo = Model([entrada_cod, entrada_dec], salida_densa)\n",
        "\n",
        "        modelo.compile(\n",
        "            loss='categorical_crossentropy',\n",
        "            optimizer= tf.keras.optimizers.Adam(learning_rate=learning_rate),\n",
        "            metrics=['acc']\n",
        "        )\n",
        "\n",
        "        return modelo\n",
        "\n",
        "\n",
        "# Define el modelo hypermodel\n",
        "hypermodel = ChatbotHyperModel(vocab_size=TAM_VOCAB, input_length=13)\n",
        "\n",
        "# Inicializa el tuner\n",
        "tuner = RandomSearch(\n",
        "    hypermodel,\n",
        "    objective='val_acc',\n",
        "    max_trials=10,  # número de combinaciones a probar\n",
        "    executions_per_trial=1,\n",
        "    directory=r'C:/Users/Usuario/Desktop/keras_tuner_dir', # Cambia esto a tu directorio\n",
        "    project_name='chatbot1_seq2seqgru'\n",
        ")\n",
        "\n",
        "early_stop = EarlyStopping(monitor='val_loss', patience=20,       # N° de épocas sin mejora antes de detener\n",
        "    restore_best_weights=True)\n",
        "# Inicia la búsqueda\n",
        "tuner.search(\n",
        "    [entrada_codificador, entrada_decodificador],\n",
        "    salida_final_decodificador,\n",
        "    epochs=60,\n",
        "    batch_size=64,\n",
        "    validation_split=0.2,\n",
        "    callbacks=[early_stop],\n",
        "    verbose=1\n",
        ")\n",
        "\n",
        "best_model_GRU = tuner.get_best_models(num_models=1)[0]\n",
        "best_hps_GRU = tuner.get_best_hyperparameters(num_trials=1)[0]\n",
        "\n",
        "print(\"Mejores hiperparámetros encontrados para GRU:\")\n",
        "print(f\"Embedding dim: {best_hps_GRU.get('embedding_dim')}\")\n",
        "print(f\"GRU units: {best_hps_GRU.get('lstm_units')}\")\n",
        "print(f\"Learning rate: {best_hps_GRU.get('learning_rate')}\")\n"
      ]
    },
    {
      "cell_type": "code",
      "execution_count": null,
      "metadata": {
        "id": "qnFrv78FoyQt",
        "outputId": "fd3c25dd-8feb-402b-f196-40cae788616f"
      },
      "outputs": [
        {
          "name": "stdout",
          "output_type": "stream",
          "text": [
            "Results summary\n",
            "Results in C:/Users/Usuario/Desktop/keras_tuner_dir\\chatbot1_seq2seqgru\n",
            "Showing 10 best trials\n",
            "Objective(name=\"val_acc\", direction=\"max\")\n",
            "\n",
            "Trial 07 summary\n",
            "Hyperparameters:\n",
            "embedding_dim: 128\n",
            "lstm_units: 200\n",
            "learning_rate: 0.001\n",
            "Score: 0.5295384526252747\n",
            "\n",
            "Trial 02 summary\n",
            "Hyperparameters:\n",
            "embedding_dim: 128\n",
            "lstm_units: 256\n",
            "learning_rate: 0.0001\n",
            "Score: 0.5282307863235474\n",
            "\n",
            "Trial 09 summary\n",
            "Hyperparameters:\n",
            "embedding_dim: 32\n",
            "lstm_units: 128\n",
            "learning_rate: 0.001\n",
            "Score: 0.5280256867408752\n",
            "\n",
            "Trial 04 summary\n",
            "Hyperparameters:\n",
            "embedding_dim: 32\n",
            "lstm_units: 256\n",
            "learning_rate: 0.0001\n",
            "Score: 0.5262179374694824\n",
            "\n",
            "Trial 01 summary\n",
            "Hyperparameters:\n",
            "embedding_dim: 64\n",
            "lstm_units: 64\n",
            "learning_rate: 0.01\n",
            "Score: 0.5255640745162964\n",
            "\n",
            "Trial 00 summary\n",
            "Hyperparameters:\n",
            "embedding_dim: 50\n",
            "lstm_units: 64\n",
            "learning_rate: 0.01\n",
            "Score: 0.5238204598426819\n",
            "\n",
            "Trial 03 summary\n",
            "Hyperparameters:\n",
            "embedding_dim: 32\n",
            "lstm_units: 64\n",
            "learning_rate: 0.01\n",
            "Score: 0.5232820510864258\n",
            "\n",
            "Trial 05 summary\n",
            "Hyperparameters:\n",
            "embedding_dim: 50\n",
            "lstm_units: 128\n",
            "learning_rate: 0.0001\n",
            "Score: 0.5230512022972107\n",
            "\n",
            "Trial 08 summary\n",
            "Hyperparameters:\n",
            "embedding_dim: 32\n",
            "lstm_units: 128\n",
            "learning_rate: 0.0001\n",
            "Score: 0.520974338054657\n",
            "\n",
            "Trial 06 summary\n",
            "Hyperparameters:\n",
            "embedding_dim: 64\n",
            "lstm_units: 200\n",
            "learning_rate: 0.01\n",
            "Score: 0.5202435851097107\n"
          ]
        },
        {
          "name": "stderr",
          "output_type": "stream",
          "text": [
            "c:\\Users\\Usuario\\Documents\\MAESTRÍA\\Semestre 2\\Deep learning\\condapython3_9\\.conda\\lib\\site-packages\\keras\\src\\layers\\core\\embedding.py:90: UserWarning: Argument `input_length` is deprecated. Just remove it.\n",
            "  warnings.warn(\n"
          ]
        }
      ],
      "source": [
        "tuner.results_summary()\n",
        "\n",
        "best_hps = tuner.get_best_hyperparameters(num_trials=1)[0]\n",
        "\n",
        "# Reconstruir el modelo manualmente:\n",
        "modelGRU = hypermodel.build(best_hps)"
      ]
    },
    {
      "cell_type": "code",
      "execution_count": null,
      "metadata": {
        "id": "kt4ITPPXoyQt",
        "outputId": "2b1e1e1d-cba5-46f8-df68-c7c81b6da434"
      },
      "outputs": [
        {
          "data": {
            "image/png": "[encoded data removed]",
            "text/plain": [
              "<Figure size 1000x500 with 1 Axes>"
            ]
          },
          "metadata": {},
          "output_type": "display_data"
        }
      ],
      "source": [
        "# Obtener los trials correctamente desde el oracle\n",
        "trialsGRU = list(tuner.oracle.trials.values())\n",
        "\n",
        "# Extraer datos\n",
        "val_accsGRU = [trial.score for trial in trialsGRU]\n",
        "embedding_dimsGRU = [trial.hyperparameters.get('embedding_dim') for trial in trialsGRU]\n",
        "lstm_unitsGRU = [trial.hyperparameters.get('lstm_units') for trial in trialsGRU]\n",
        "\n",
        "# Crear gráfico\n",
        "plt.figure(figsize=(10, 5))\n",
        "plt.plot(val_accsGRU, marker='o')\n",
        "plt.title('Comparación de accuracy por configuración')\n",
        "plt.xlabel('Trial')\n",
        "plt.ylabel('Validation Accuracy')\n",
        "plt.grid(True)\n",
        "plt.show()"
      ]
    },
    {
      "cell_type": "code",
      "execution_count": null,
      "metadata": {
        "id": "I4XsBicJoyQt",
        "outputId": "3114fd65-2e9c-471a-e894-8a4af753ec8c"
      },
      "outputs": [
        {
          "name": "stdout",
          "output_type": "stream",
          "text": [
            "  trial_id   val_acc  embedding_dim  lstm_units  learning_rate\n",
            "7       07  0.529538            128         200         0.0010\n",
            "0       02  0.528231            128         256         0.0001\n",
            "9       09  0.528026             32         128         0.0010\n",
            "1       04  0.526218             32         256         0.0001\n",
            "3       01  0.525564             64          64         0.0100\n",
            "6       00  0.523820             50          64         0.0100\n",
            "4       03  0.523282             32          64         0.0100\n",
            "5       05  0.523051             50         128         0.0001\n",
            "8       08  0.520974             32         128         0.0001\n",
            "2       06  0.520244             64         200         0.0100\n"
          ]
        },
        {
          "data": {
            "text/plain": [
              "Text(0.5, 0, 'Embedding Dimension')"
            ]
          },
          "execution_count": 49,
          "metadata": {},
          "output_type": "execute_result"
        },
        {
          "data": {
            "image/png": "[encoded data removed]",
            "text/plain": [
              "<Figure size 640x480 with 1 Axes>"
            ]
          },
          "metadata": {},
          "output_type": "display_data"
        }
      ],
      "source": [
        "# Guardar resultados en un dataframe\n",
        "\n",
        "df = pd.DataFrame([\n",
        "    {\n",
        "        'trial_id': trial.trial_id,\n",
        "        'val_acc': trial.score,\n",
        "        'embedding_dim': trial.hyperparameters.get('embedding_dim'),\n",
        "        'lstm_units': trial.hyperparameters.get('lstm_units'),\n",
        "        'learning_rate': trial.hyperparameters.get('learning_rate'),\n",
        "    }\n",
        "    for trial in trialsGRU\n",
        "])\n",
        "\n",
        "print(df.sort_values(by='val_acc', ascending=False))\n",
        "\n",
        "# También puedes hacer gráficos de dispersión\n",
        "import seaborn as sns\n",
        "sns.scatterplot(data=df, x='embedding_dim', y='val_acc', hue='lstm_units')\n",
        "plt.title('Accuracy vs. Embedding Dimension')\n",
        "plt.xlabel('Embedding Dimension')"
      ]
    },
    {
      "cell_type": "markdown",
      "metadata": {
        "id": "KHXhPnI0oyQt"
      },
      "source": [
        "#### ENTRENAR MODELOS CON MEJORES HIPRPARÁMETROS PARA GRU ..."
      ]
    },
    {
      "cell_type": "code",
      "execution_count": null,
      "metadata": {
        "id": "7dI7HZYBoyQt",
        "outputId": "2fec5293-7fda-44dd-dab1-dbb454ad96ff"
      },
      "outputs": [
        {
          "name": "stderr",
          "output_type": "stream",
          "text": [
            "c:\\Users\\Usuario\\Documents\\MAESTRÍA\\Semestre 2\\Deep learning\\condapython3_9\\.conda\\lib\\site-packages\\keras\\src\\layers\\core\\embedding.py:90: UserWarning: Argument `input_length` is deprecated. Just remove it.\n",
            "  warnings.warn(\n"
          ]
        },
        {
          "name": "stdout",
          "output_type": "stream",
          "text": [
            "Epoch 1/60\n",
            "\u001b[1m469/469\u001b[0m \u001b[32m━━━━━━━━━━━━━━━━━━━━\u001b[0m\u001b[37m\u001b[0m \u001b[1m86s\u001b[0m 171ms/step - acc: 0.4351 - loss: 3.9289\n",
            "Epoch 2/60\n",
            "\u001b[1m469/469\u001b[0m \u001b[32m━━━━━━━━━━━━━━━━━━━━\u001b[0m\u001b[37m\u001b[0m \u001b[1m80s\u001b[0m 170ms/step - acc: 0.5139 - loss: 2.8223\n",
            "Epoch 3/60\n",
            "\u001b[1m469/469\u001b[0m \u001b[32m━━━━━━━━━━━━━━━━━━━━\u001b[0m\u001b[37m\u001b[0m \u001b[1m80s\u001b[0m 171ms/step - acc: 0.5246 - loss: 2.6763\n",
            "Epoch 4/60\n",
            "\u001b[1m469/469\u001b[0m \u001b[32m━━━━━━━━━━━━━━━━━━━━\u001b[0m\u001b[37m\u001b[0m \u001b[1m85s\u001b[0m 181ms/step - acc: 0.5317 - loss: 2.5818\n",
            "Epoch 5/60\n",
            "\u001b[1m469/469\u001b[0m \u001b[32m━━━━━━━━━━━━━━━━━━━━\u001b[0m\u001b[37m\u001b[0m \u001b[1m83s\u001b[0m 177ms/step - acc: 0.5348 - loss: 2.5298\n",
            "Epoch 6/60\n",
            "\u001b[1m469/469\u001b[0m \u001b[32m━━━━━━━━━━━━━━━━━━━━\u001b[0m\u001b[37m\u001b[0m \u001b[1m83s\u001b[0m 177ms/step - acc: 0.5384 - loss: 2.4729\n",
            "Epoch 7/60\n",
            "\u001b[1m469/469\u001b[0m \u001b[32m━━━━━━━━━━━━━━━━━━━━\u001b[0m\u001b[37m\u001b[0m \u001b[1m83s\u001b[0m 176ms/step - acc: 0.5399 - loss: 2.4332\n",
            "Epoch 8/60\n",
            "\u001b[1m469/469\u001b[0m \u001b[32m━━━━━━━━━━━━━━━━━━━━\u001b[0m\u001b[37m\u001b[0m \u001b[1m84s\u001b[0m 178ms/step - acc: 0.5454 - loss: 2.3760\n",
            "Epoch 9/60\n",
            "\u001b[1m469/469\u001b[0m \u001b[32m━━━━━━━━━━━━━━━━━━━━\u001b[0m\u001b[37m\u001b[0m \u001b[1m87s\u001b[0m 184ms/step - acc: 0.5440 - loss: 2.3538\n",
            "Epoch 10/60\n",
            "\u001b[1m469/469\u001b[0m \u001b[32m━━━━━━━━━━━━━━━━━━━━\u001b[0m\u001b[37m\u001b[0m \u001b[1m84s\u001b[0m 178ms/step - acc: 0.5485 - loss: 2.3120\n",
            "Epoch 11/60\n",
            "\u001b[1m469/469\u001b[0m \u001b[32m━━━━━━━━━━━━━━━━━━━━\u001b[0m\u001b[37m\u001b[0m \u001b[1m83s\u001b[0m 177ms/step - acc: 0.5506 - loss: 2.2682\n",
            "Epoch 12/60\n",
            "\u001b[1m469/469\u001b[0m \u001b[32m━━━━━━━━━━━━━━━━━━━━\u001b[0m\u001b[37m\u001b[0m \u001b[1m78s\u001b[0m 167ms/step - acc: 0.5536 - loss: 2.2347\n",
            "Epoch 13/60\n",
            "\u001b[1m469/469\u001b[0m \u001b[32m━━━━━━━━━━━━━━━━━━━━\u001b[0m\u001b[37m\u001b[0m \u001b[1m78s\u001b[0m 166ms/step - acc: 0.5546 - loss: 2.2038\n",
            "Epoch 14/60\n",
            "\u001b[1m469/469\u001b[0m \u001b[32m━━━━━━━━━━━━━━━━━━━━\u001b[0m\u001b[37m\u001b[0m \u001b[1m80s\u001b[0m 170ms/step - acc: 0.5553 - loss: 2.1813\n",
            "Epoch 15/60\n",
            "\u001b[1m469/469\u001b[0m \u001b[32m━━━━━━━━━━━━━━━━━━━━\u001b[0m\u001b[37m\u001b[0m \u001b[1m80s\u001b[0m 170ms/step - acc: 0.5613 - loss: 2.1333\n",
            "Epoch 16/60\n",
            "\u001b[1m469/469\u001b[0m \u001b[32m━━━━━━━━━━━━━━━━━━━━\u001b[0m\u001b[37m\u001b[0m \u001b[1m84s\u001b[0m 178ms/step - acc: 0.5646 - loss: 2.1002\n",
            "Epoch 17/60\n",
            "\u001b[1m469/469\u001b[0m \u001b[32m━━━━━━━━━━━━━━━━━━━━\u001b[0m\u001b[37m\u001b[0m \u001b[1m84s\u001b[0m 179ms/step - acc: 0.5689 - loss: 2.0628\n",
            "Epoch 18/60\n",
            "\u001b[1m469/469\u001b[0m \u001b[32m━━━━━━━━━━━━━━━━━━━━\u001b[0m\u001b[37m\u001b[0m \u001b[1m83s\u001b[0m 177ms/step - acc: 0.5724 - loss: 2.0370\n",
            "Epoch 19/60\n",
            "\u001b[1m469/469\u001b[0m \u001b[32m━━━━━━━━━━━━━━━━━━━━\u001b[0m\u001b[37m\u001b[0m \u001b[1m82s\u001b[0m 176ms/step - acc: 0.5755 - loss: 2.0082\n",
            "Epoch 20/60\n",
            "\u001b[1m469/469\u001b[0m \u001b[32m━━━━━━━━━━━━━━━━━━━━\u001b[0m\u001b[37m\u001b[0m \u001b[1m79s\u001b[0m 167ms/step - acc: 0.5799 - loss: 1.9750\n",
            "Epoch 21/60\n",
            "\u001b[1m469/469\u001b[0m \u001b[32m━━━━━━━━━━━━━━━━━━━━\u001b[0m\u001b[37m\u001b[0m \u001b[1m78s\u001b[0m 167ms/step - acc: 0.5840 - loss: 1.9495\n",
            "Epoch 22/60\n",
            "\u001b[1m469/469\u001b[0m \u001b[32m━━━━━━━━━━━━━━━━━━━━\u001b[0m\u001b[37m\u001b[0m \u001b[1m78s\u001b[0m 166ms/step - acc: 0.5893 - loss: 1.9146\n",
            "Epoch 23/60\n",
            "\u001b[1m469/469\u001b[0m \u001b[32m━━━━━━━━━━━━━━━━━━━━\u001b[0m\u001b[37m\u001b[0m \u001b[1m80s\u001b[0m 170ms/step - acc: 0.5928 - loss: 1.8916\n",
            "Epoch 24/60\n",
            "\u001b[1m469/469\u001b[0m \u001b[32m━━━━━━━━━━━━━━━━━━━━\u001b[0m\u001b[37m\u001b[0m \u001b[1m79s\u001b[0m 167ms/step - acc: 0.5966 - loss: 1.8687\n",
            "Epoch 25/60\n",
            "\u001b[1m469/469\u001b[0m \u001b[32m━━━━━━━━━━━━━━━━━━━━\u001b[0m\u001b[37m\u001b[0m \u001b[1m79s\u001b[0m 168ms/step - acc: 0.5997 - loss: 1.8448\n",
            "Epoch 26/60\n",
            "\u001b[1m469/469\u001b[0m \u001b[32m━━━━━━━━━━━━━━━━━━━━\u001b[0m\u001b[37m\u001b[0m \u001b[1m78s\u001b[0m 166ms/step - acc: 0.6016 - loss: 1.8346\n",
            "Epoch 27/60\n",
            "\u001b[1m469/469\u001b[0m \u001b[32m━━━━━━━━━━━━━━━━━━━━\u001b[0m\u001b[37m\u001b[0m \u001b[1m78s\u001b[0m 166ms/step - acc: 0.6047 - loss: 1.8109\n",
            "Epoch 28/60\n",
            "\u001b[1m469/469\u001b[0m \u001b[32m━━━━━━━━━━━━━━━━━━━━\u001b[0m\u001b[37m\u001b[0m \u001b[1m79s\u001b[0m 169ms/step - acc: 0.6112 - loss: 1.7761\n",
            "Epoch 29/60\n",
            "\u001b[1m469/469\u001b[0m \u001b[32m━━━━━━━━━━━━━━━━━━━━\u001b[0m\u001b[37m\u001b[0m \u001b[1m82s\u001b[0m 175ms/step - acc: 0.6161 - loss: 1.7510\n",
            "Epoch 30/60\n",
            "\u001b[1m469/469\u001b[0m \u001b[32m━━━━━━━━━━━━━━━━━━━━\u001b[0m\u001b[37m\u001b[0m \u001b[1m84s\u001b[0m 179ms/step - acc: 0.6189 - loss: 1.7350\n",
            "Epoch 31/60\n",
            "\u001b[1m469/469\u001b[0m \u001b[32m━━━━━━━━━━━━━━━━━━━━\u001b[0m\u001b[37m\u001b[0m \u001b[1m78s\u001b[0m 166ms/step - acc: 0.6245 - loss: 1.7083\n",
            "Epoch 32/60\n",
            "\u001b[1m469/469\u001b[0m \u001b[32m━━━━━━━━━━━━━━━━━━━━\u001b[0m\u001b[37m\u001b[0m \u001b[1m82s\u001b[0m 174ms/step - acc: 0.6274 - loss: 1.6918\n",
            "Epoch 33/60\n",
            "\u001b[1m469/469\u001b[0m \u001b[32m━━━━━━━━━━━━━━━━━━━━\u001b[0m\u001b[37m\u001b[0m \u001b[1m80s\u001b[0m 171ms/step - acc: 0.6291 - loss: 1.6802\n",
            "Epoch 34/60\n",
            "\u001b[1m469/469\u001b[0m \u001b[32m━━━━━━━━━━━━━━━━━━━━\u001b[0m\u001b[37m\u001b[0m \u001b[1m81s\u001b[0m 172ms/step - acc: 0.6346 - loss: 1.6541\n",
            "Epoch 35/60\n",
            "\u001b[1m469/469\u001b[0m \u001b[32m━━━━━━━━━━━━━━━━━━━━\u001b[0m\u001b[37m\u001b[0m \u001b[1m93s\u001b[0m 198ms/step - acc: 0.6380 - loss: 1.6376\n",
            "Epoch 36/60\n",
            "\u001b[1m469/469\u001b[0m \u001b[32m━━━━━━━━━━━━━━━━━━━━\u001b[0m\u001b[37m\u001b[0m \u001b[1m87s\u001b[0m 186ms/step - acc: 0.6386 - loss: 1.6316\n",
            "Epoch 37/60\n",
            "\u001b[1m469/469\u001b[0m \u001b[32m━━━━━━━━━━━━━━━━━━━━\u001b[0m\u001b[37m\u001b[0m \u001b[1m86s\u001b[0m 182ms/step - acc: 0.6417 - loss: 1.6117\n",
            "Epoch 38/60\n",
            "\u001b[1m469/469\u001b[0m \u001b[32m━━━━━━━━━━━━━━━━━━━━\u001b[0m\u001b[37m\u001b[0m \u001b[1m81s\u001b[0m 173ms/step - acc: 0.6465 - loss: 1.5918\n",
            "Epoch 39/60\n",
            "\u001b[1m469/469\u001b[0m \u001b[32m━━━━━━━━━━━━━━━━━━━━\u001b[0m\u001b[37m\u001b[0m \u001b[1m83s\u001b[0m 177ms/step - acc: 0.6483 - loss: 1.5788\n",
            "Epoch 40/60\n",
            "\u001b[1m469/469\u001b[0m \u001b[32m━━━━━━━━━━━━━━━━━━━━\u001b[0m\u001b[37m\u001b[0m \u001b[1m84s\u001b[0m 178ms/step - acc: 0.6520 - loss: 1.5594\n",
            "Epoch 41/60\n",
            "\u001b[1m469/469\u001b[0m \u001b[32m━━━━━━━━━━━━━━━━━━━━\u001b[0m\u001b[37m\u001b[0m \u001b[1m81s\u001b[0m 172ms/step - acc: 0.6555 - loss: 1.5467\n",
            "Epoch 42/60\n",
            "\u001b[1m469/469\u001b[0m \u001b[32m━━━━━━━━━━━━━━━━━━━━\u001b[0m\u001b[37m\u001b[0m \u001b[1m81s\u001b[0m 173ms/step - acc: 0.6524 - loss: 1.5536\n",
            "Epoch 43/60\n",
            "\u001b[1m469/469\u001b[0m \u001b[32m━━━━━━━━━━━━━━━━━━━━\u001b[0m\u001b[37m\u001b[0m \u001b[1m81s\u001b[0m 173ms/step - acc: 0.6582 - loss: 1.5281\n",
            "Epoch 44/60\n",
            "\u001b[1m469/469\u001b[0m \u001b[32m━━━━━━━━━━━━━━━━━━━━\u001b[0m\u001b[37m\u001b[0m \u001b[1m82s\u001b[0m 175ms/step - acc: 0.6587 - loss: 1.5222\n",
            "Epoch 45/60\n",
            "\u001b[1m469/469\u001b[0m \u001b[32m━━━━━━━━━━━━━━━━━━━━\u001b[0m\u001b[37m\u001b[0m \u001b[1m81s\u001b[0m 173ms/step - acc: 0.6614 - loss: 1.5086\n",
            "Epoch 46/60\n",
            "\u001b[1m469/469\u001b[0m \u001b[32m━━━━━━━━━━━━━━━━━━━━\u001b[0m\u001b[37m\u001b[0m \u001b[1m82s\u001b[0m 175ms/step - acc: 0.6664 - loss: 1.4852\n",
            "Epoch 47/60\n",
            "\u001b[1m469/469\u001b[0m \u001b[32m━━━━━━━━━━━━━━━━━━━━\u001b[0m\u001b[37m\u001b[0m \u001b[1m80s\u001b[0m 170ms/step - acc: 0.6684 - loss: 1.4789\n",
            "Epoch 48/60\n",
            "\u001b[1m469/469\u001b[0m \u001b[32m━━━━━━━━━━━━━━━━━━━━\u001b[0m\u001b[37m\u001b[0m \u001b[1m81s\u001b[0m 172ms/step - acc: 0.6708 - loss: 1.4648\n",
            "Epoch 49/60\n",
            "\u001b[1m469/469\u001b[0m \u001b[32m━━━━━━━━━━━━━━━━━━━━\u001b[0m\u001b[37m\u001b[0m \u001b[1m81s\u001b[0m 172ms/step - acc: 0.6729 - loss: 1.4538\n",
            "Epoch 50/60\n",
            "\u001b[1m469/469\u001b[0m \u001b[32m━━━━━━━━━━━━━━━━━━━━\u001b[0m\u001b[37m\u001b[0m \u001b[1m82s\u001b[0m 174ms/step - acc: 0.6756 - loss: 1.4408\n",
            "Epoch 51/60\n",
            "\u001b[1m469/469\u001b[0m \u001b[32m━━━━━━━━━━━━━━━━━━━━\u001b[0m\u001b[37m\u001b[0m \u001b[1m92s\u001b[0m 195ms/step - acc: 0.6761 - loss: 1.4366\n",
            "Epoch 52/60\n",
            "\u001b[1m469/469\u001b[0m \u001b[32m━━━━━━━━━━━━━━━━━━━━\u001b[0m\u001b[37m\u001b[0m \u001b[1m87s\u001b[0m 185ms/step - acc: 0.6783 - loss: 1.4268\n",
            "Epoch 53/60\n",
            "\u001b[1m469/469\u001b[0m \u001b[32m━━━━━━━━━━━━━━━━━━━━\u001b[0m\u001b[37m\u001b[0m \u001b[1m94s\u001b[0m 200ms/step - acc: 0.6791 - loss: 1.4216\n",
            "Epoch 54/60\n",
            "\u001b[1m469/469\u001b[0m \u001b[32m━━━━━━━━━━━━━━━━━━━━\u001b[0m\u001b[37m\u001b[0m \u001b[1m91s\u001b[0m 194ms/step - acc: 0.6807 - loss: 1.4125\n",
            "Epoch 55/60\n",
            "\u001b[1m469/469\u001b[0m \u001b[32m━━━━━━━━━━━━━━━━━━━━\u001b[0m\u001b[37m\u001b[0m \u001b[1m83s\u001b[0m 177ms/step - acc: 0.6830 - loss: 1.4032\n",
            "Epoch 56/60\n",
            "\u001b[1m469/469\u001b[0m \u001b[32m━━━━━━━━━━━━━━━━━━━━\u001b[0m\u001b[37m\u001b[0m \u001b[1m83s\u001b[0m 177ms/step - acc: 0.6848 - loss: 1.3961\n",
            "Epoch 57/60\n",
            "\u001b[1m469/469\u001b[0m \u001b[32m━━━━━━━━━━━━━━━━━━━━\u001b[0m\u001b[37m\u001b[0m \u001b[1m83s\u001b[0m 178ms/step - acc: 0.6847 - loss: 1.3897\n",
            "Epoch 58/60\n",
            "\u001b[1m469/469\u001b[0m \u001b[32m━━━━━━━━━━━━━━━━━━━━\u001b[0m\u001b[37m\u001b[0m \u001b[1m86s\u001b[0m 183ms/step - acc: 0.6886 - loss: 1.3761\n",
            "Epoch 59/60\n",
            "\u001b[1m469/469\u001b[0m \u001b[32m━━━━━━━━━━━━━━━━━━━━\u001b[0m\u001b[37m\u001b[0m \u001b[1m90s\u001b[0m 192ms/step - acc: 0.6894 - loss: 1.3729\n",
            "Epoch 60/60\n",
            "\u001b[1m469/469\u001b[0m \u001b[32m━━━━━━━━━━━━━━━━━━━━\u001b[0m\u001b[37m\u001b[0m \u001b[1m84s\u001b[0m 179ms/step - acc: 0.6897 - loss: 1.3686\n"
          ]
        },
        {
          "data": {
            "text/plain": [
              "<keras.src.callbacks.history.History at 0x18a788b4bb0>"
            ]
          },
          "execution_count": 53,
          "metadata": {},
          "output_type": "execute_result"
        }
      ],
      "source": [
        "# Definición de las capas de entrada\n",
        "entrada_cod = Input(shape=(13, ))\n",
        "entrada_dec = Input(shape=(13, ))\n",
        "\n",
        "# Tamaño del vocabulario y capa de embedding\n",
        "TAM_VOCAB = len(vocabulario)\n",
        "embedding = Embedding(TAM_VOCAB+1, output_dim=128,\n",
        "                     input_length=13,\n",
        "                     trainable=True\n",
        "                    )\n",
        "# Codificador\n",
        "cod_embed = embedding(entrada_cod)\n",
        "cod_gru = GRU(200, return_sequences=True, return_state=True)\n",
        "cod_salida, h = cod_gru(cod_embed)\n",
        "estados_cod = [h]\n",
        "\n",
        "# Decodificador\n",
        "dec_embed = embedding(entrada_dec)\n",
        "dec_gru = GRU(200, return_sequences=True, return_state=True)\n",
        "dec_salida, _ = dec_gru(dec_embed, initial_state=estados_cod)\n",
        "\n",
        "# Capa densa de salida\n",
        "densa = Dense(TAM_VOCAB, activation='softmax')\n",
        "salida_densa = densa(dec_salida)\n",
        "\n",
        "# Definición del modelo\n",
        "modelo = Model([entrada_cod, entrada_dec], salida_densa)\n",
        "\n",
        "# Compilación\n",
        "modelo.compile(loss='categorical_crossentropy',\n",
        "              metrics=['acc'], optimizer=tf.keras.optimizers.Adam(learning_rate=0.001))\n",
        "\n",
        "\n",
        "# Entrenamiento\n",
        "early_stop = EarlyStopping(monitor='loss', patience=5,       # N° de épocas sin mejora antes de detener\n",
        "    restore_best_weights=True)\n",
        "modelo.fit([entrada_codificador, entrada_decodificador],\n",
        "          salida_final_decodificador,\n",
        "          epochs=60,\n",
        "          batch_size=64,\n",
        "          callbacks=[early_stop])\n"
      ]
    },
    {
      "cell_type": "code",
      "execution_count": null,
      "metadata": {
        "id": "5MdGR54AoyQt"
      },
      "outputs": [],
      "source": [
        "# Modelo codificador\n",
        "#modelo_cod = Model([entrada_cod], estados_cod)\n",
        "\n",
        "# Modelo decodificador\n",
        "#estado_entrada_h = Input(shape=(200,))\n",
        "#estado_entrada_c = Input(shape=(200,))\n",
        "\n",
        "#estados_entrada_dec = [estado_entrada_h, estado_entrada_c]\n",
        "\n",
        "#salidas_dec, estado_h, estado_c = dec_lstm(dec_embed,\n",
        "#                                         initial_state=estados_entrada_dec)\n",
        "\n",
        "#estados_dec = [estado_h, estado_c]\n",
        "\n",
        "#modelo_dec = Model([entrada_dec] + estados_entrada_dec,\n",
        "#                  [salidas_dec] + estados_dec)\n",
        "\n",
        "#modelo_dec.compile(loss='categorical_crossentropy',\n",
        "#                  metrics=['acc'],\n",
        "#                  optimizer=tf.keras.optimizers.Adam(learning_rate=0.001))\n",
        "\n",
        "# Modelo codificador\n",
        "modelo_cod = Model([entrada_cod], estados_cod)\n",
        "\n",
        "# Modelo decodificador GRU\n",
        "estado_entrada_h = Input(shape=(200,))\n",
        "dec_embed2 = embedding(entrada_dec)\n",
        "salidas_dec, estado_h = dec_gru(dec_embed2, initial_state=[estado_entrada_h])\n",
        "modelo_dec_gru = Model([entrada_dec, estado_entrada_h], [salidas_dec, estado_h])\n",
        "modelo_dec_gru.compile(loss='categorical_crossentropy',\n",
        "                       metrics=['acc'],\n",
        "                       optimizer=tf.keras.optimizers.Adam(learning_rate=0.001))"
      ]
    },
    {
      "cell_type": "code",
      "execution_count": null,
      "metadata": {
        "id": "GNT6B-gYoyQt",
        "outputId": "06d2197e-4807-49a6-ed24-27da90a63c08"
      },
      "outputs": [
        {
          "name": "stdout",
          "output_type": "stream",
          "text": [
            "Inicio de Chat\n",
            "---------------------------------------------\n",
            "Tu pregunta:  hi\n",
            "Respuesta:  hi\n",
            "Tu pregunta:  how are you\n",
            "Respuesta:  fine\n",
            "Tu pregunta:  what are you doing?\n",
            "Respuesta:  i am going to be living with her\n",
            "Tu pregunta:  with who?\n",
            "Respuesta:  the <OUT> the <OUT> of the <OUT>\n",
            "Tu pregunta:  what is her name?\n",
            "Respuesta:  <OUT>\n",
            "Tu pregunta:  what is her name?\n",
            "Respuesta:  <OUT>\n",
            "Tu pregunta:  what do you do?\n",
            "Respuesta:  i do not know\n",
            "Tu pregunta:  can you go out?\n",
            "Respuesta:  i am sorry i am not going to much you are not <PAD> <PAD>\n",
            "Tu pregunta:  are you studying\n",
            "Respuesta:  i am sorry i am not going to much you are not <PAD> <PAD>\n",
            "Tu pregunta:  why?\n",
            "Respuesta:  because i am tired of my business mrs lampert thank you what you <PAD>\n",
            "Tu pregunta:  \n",
            "Respuesta:  you know i have been reading about since i was frightened then <PAD> <PAD>\n",
            "Tu pregunta:  \n",
            "Respuesta:  you know i have been reading about since i was frightened then <PAD> <PAD>\n",
            "Tu pregunta:  \n",
            "Respuesta:  you know i have been reading about since i was frightened then <PAD> <PAD>\n"
          ]
        },
        {
          "ename": "KeyboardInterrupt",
          "evalue": "Interrupted by user",
          "output_type": "error",
          "traceback": [
            "\u001b[1;31m---------------------------------------------------------------------------\u001b[0m",
            "\u001b[1;31mKeyboardInterrupt\u001b[0m                         Traceback (most recent call last)",
            "Cell \u001b[1;32mIn[61], line 5\u001b[0m\n\u001b[0;32m      3\u001b[0m prepro1 \u001b[38;5;241m=\u001b[39m \u001b[38;5;124m\"\u001b[39m\u001b[38;5;124m\"\u001b[39m\n\u001b[0;32m      4\u001b[0m \u001b[38;5;28;01mwhile\u001b[39;00m prepro1 \u001b[38;5;241m!=\u001b[39m \u001b[38;5;124m'\u001b[39m\u001b[38;5;124mq\u001b[39m\u001b[38;5;124m'\u001b[39m:\n\u001b[1;32m----> 5\u001b[0m     prepro1 \u001b[38;5;241m=\u001b[39m \u001b[38;5;28;43minput\u001b[39;49m\u001b[43m(\u001b[49m\u001b[38;5;124;43m\"\u001b[39;49m\u001b[38;5;124;43mTu pregunta: \u001b[39;49m\u001b[38;5;124;43m\"\u001b[39;49m\u001b[43m)\u001b[49m\n\u001b[0;32m      6\u001b[0m     \u001b[38;5;66;03m#print(\"==========================================\")\u001b[39;00m\n\u001b[0;32m      7\u001b[0m     \u001b[38;5;28mprint\u001b[39m(\u001b[38;5;124m\"\u001b[39m\u001b[38;5;124mTu pregunta: \u001b[39m\u001b[38;5;124m\"\u001b[39m, prepro1)\n",
            "File \u001b[1;32mc:\\Users\\Usuario\\Documents\\MAESTRÍA\\Semestre 2\\Deep learning\\condapython3_9\\.conda\\lib\\site-packages\\ipykernel\\kernelbase.py:1282\u001b[0m, in \u001b[0;36mKernel.raw_input\u001b[1;34m(self, prompt)\u001b[0m\n\u001b[0;32m   1280\u001b[0m     msg \u001b[38;5;241m=\u001b[39m \u001b[38;5;124m\"\u001b[39m\u001b[38;5;124mraw_input was called, but this frontend does not support input requests.\u001b[39m\u001b[38;5;124m\"\u001b[39m\n\u001b[0;32m   1281\u001b[0m     \u001b[38;5;28;01mraise\u001b[39;00m StdinNotImplementedError(msg)\n\u001b[1;32m-> 1282\u001b[0m \u001b[38;5;28;01mreturn\u001b[39;00m \u001b[38;5;28;43mself\u001b[39;49m\u001b[38;5;241;43m.\u001b[39;49m\u001b[43m_input_request\u001b[49m\u001b[43m(\u001b[49m\n\u001b[0;32m   1283\u001b[0m \u001b[43m    \u001b[49m\u001b[38;5;28;43mstr\u001b[39;49m\u001b[43m(\u001b[49m\u001b[43mprompt\u001b[49m\u001b[43m)\u001b[49m\u001b[43m,\u001b[49m\n\u001b[0;32m   1284\u001b[0m \u001b[43m    \u001b[49m\u001b[38;5;28;43mself\u001b[39;49m\u001b[38;5;241;43m.\u001b[39;49m\u001b[43m_parent_ident\u001b[49m\u001b[43m[\u001b[49m\u001b[38;5;124;43m\"\u001b[39;49m\u001b[38;5;124;43mshell\u001b[39;49m\u001b[38;5;124;43m\"\u001b[39;49m\u001b[43m]\u001b[49m\u001b[43m,\u001b[49m\n\u001b[0;32m   1285\u001b[0m \u001b[43m    \u001b[49m\u001b[38;5;28;43mself\u001b[39;49m\u001b[38;5;241;43m.\u001b[39;49m\u001b[43mget_parent\u001b[49m\u001b[43m(\u001b[49m\u001b[38;5;124;43m\"\u001b[39;49m\u001b[38;5;124;43mshell\u001b[39;49m\u001b[38;5;124;43m\"\u001b[39;49m\u001b[43m)\u001b[49m\u001b[43m,\u001b[49m\n\u001b[0;32m   1286\u001b[0m \u001b[43m    \u001b[49m\u001b[43mpassword\u001b[49m\u001b[38;5;241;43m=\u001b[39;49m\u001b[38;5;28;43;01mFalse\u001b[39;49;00m\u001b[43m,\u001b[49m\n\u001b[0;32m   1287\u001b[0m \u001b[43m\u001b[49m\u001b[43m)\u001b[49m\n",
            "File \u001b[1;32mc:\\Users\\Usuario\\Documents\\MAESTRÍA\\Semestre 2\\Deep learning\\condapython3_9\\.conda\\lib\\site-packages\\ipykernel\\kernelbase.py:1325\u001b[0m, in \u001b[0;36mKernel._input_request\u001b[1;34m(self, prompt, ident, parent, password)\u001b[0m\n\u001b[0;32m   1322\u001b[0m \u001b[38;5;28;01mexcept\u001b[39;00m \u001b[38;5;167;01mKeyboardInterrupt\u001b[39;00m:\n\u001b[0;32m   1323\u001b[0m     \u001b[38;5;66;03m# re-raise KeyboardInterrupt, to truncate traceback\u001b[39;00m\n\u001b[0;32m   1324\u001b[0m     msg \u001b[38;5;241m=\u001b[39m \u001b[38;5;124m\"\u001b[39m\u001b[38;5;124mInterrupted by user\u001b[39m\u001b[38;5;124m\"\u001b[39m\n\u001b[1;32m-> 1325\u001b[0m     \u001b[38;5;28;01mraise\u001b[39;00m \u001b[38;5;167;01mKeyboardInterrupt\u001b[39;00m(msg) \u001b[38;5;28;01mfrom\u001b[39;00m\u001b[38;5;250m \u001b[39m\u001b[38;5;28;01mNone\u001b[39;00m\n\u001b[0;32m   1326\u001b[0m \u001b[38;5;28;01mexcept\u001b[39;00m \u001b[38;5;167;01mException\u001b[39;00m:\n\u001b[0;32m   1327\u001b[0m     \u001b[38;5;28mself\u001b[39m\u001b[38;5;241m.\u001b[39mlog\u001b[38;5;241m.\u001b[39mwarning(\u001b[38;5;124m\"\u001b[39m\u001b[38;5;124mInvalid Message:\u001b[39m\u001b[38;5;124m\"\u001b[39m, exc_info\u001b[38;5;241m=\u001b[39m\u001b[38;5;28;01mTrue\u001b[39;00m)\n",
            "\u001b[1;31mKeyboardInterrupt\u001b[0m: Interrupted by user"
          ]
        }
      ],
      "source": [
        "print(\"Inicio de Chat\")\n",
        "print(\"-\"*45)\n",
        "prepro1 = \"\"\n",
        "while prepro1 != 'q':\n",
        "    prepro1 = input(\"Tu pregunta: \")\n",
        "    #print(\"==========================================\")\n",
        "    print(\"Tu pregunta: \", prepro1)\n",
        "    prepro1 = limpia_texto(prepro1)\n",
        "    prepro = [prepro1]\n",
        "\n",
        "    txt = []\n",
        "    for x in prepro:\n",
        "        lst = []\n",
        "        for y in x.split():\n",
        "            try:\n",
        "                lst.append(vocabulario[y])\n",
        "            except:\n",
        "                lst.append(vocabulario['<OUT>'])\n",
        "        txt.append(lst)\n",
        "    txt = pad_sequences(txt, 13, padding='post')\n",
        "    stat = modelo_cod.predict(txt, verbose=0)\n",
        "    empty_target_seq = np.zeros((1, 1))\n",
        "    empty_target_seq[0, 0] = vocabulario['<SOS>']\n",
        "    stop_condition = False\n",
        "    decoded_translation = \"\"\n",
        "\n",
        "    while not stop_condition:\n",
        "        dec_outputs, h = modelo_dec_gru.predict([empty_target_seq, stat], verbose=0)\n",
        "        decoder_concat_input = densa(dec_outputs)\n",
        "        sampled_word_index = np.argmax(decoder_concat_input[0, -1, :])\n",
        "        sampled_word = inv_vocab.get(sampled_word_index, '<OUT>') + ' '\n",
        "        if sampled_word != '<EOS> ':\n",
        "            decoded_translation += sampled_word\n",
        "        if sampled_word == '<EOS> ' or len(decoded_translation.split()) > 13:\n",
        "            stop_condition = True\n",
        "        empty_target_seq = np.zeros((1, 1))\n",
        "        empty_target_seq[0, 0] = sampled_word_index\n",
        "        stat = h\n",
        "    print(\"Respuesta: \", decoded_translation.strip())"
      ]
    },
    {
      "cell_type": "markdown",
      "metadata": {
        "id": "mMLYldcMoyQt"
      },
      "source": []
    }
  ],
  "metadata": {
    "accelerator": "GPU",
    "colab": {
      "gpuType": "T4",
      "provenance": []
    },
    "kernelspec": {
      "display_name": ".conda",
      "language": "python",
      "name": "python3"
    },
    "language_info": {
      "codemirror_mode": {
        "name": "ipython",
        "version": 3
      },
      "file_extension": ".py",
      "mimetype": "text/x-python",
      "name": "python",
      "nbconvert_exporter": "python",
      "pygments_lexer": "ipython3",
      "version": "3.9.21"
    }
  },
  "nbformat": 4,
  "nbformat_minor": 0
}