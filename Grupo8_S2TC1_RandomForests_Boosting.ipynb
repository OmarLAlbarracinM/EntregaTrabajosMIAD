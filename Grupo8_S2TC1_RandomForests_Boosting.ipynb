{
  "cells": [
    {
      "cell_type": "markdown",
      "metadata": {
        "id": "EcrUphYjxBZq"
      },
      "source": [
        "![image info](https://raw.githubusercontent.com/albahnsen/MIAD_ML_and_NLP/main/images/banner_1.png)"
      ]
    },
    {
      "cell_type": "markdown",
      "source": [
        "# **Entrega - Grupo 8**\n",
        "\n",
        "Realizado por:\n",
        "- Lady Tatiana Garcia Moreno\n",
        "- Joaquin Abondano Araoz\n",
        "- Edwin Ricardo Ramirez Calvijo\n",
        "- Omar Leonardo Albarracin Monsalve"
      ],
      "metadata": {
        "id": "vpb9UrTGYrw6"
      }
    },
    {
      "cell_type": "markdown",
      "metadata": {
        "id": "aXosxAvfxBZu"
      },
      "source": [
        "# Taller: Construcción e implementación de modelos Bagging, Random Forest y XGBoost\n",
        "\n",
        "En este taller podrán poner en práctica sus conocimientos sobre la construcción e implementación de modelos de Bagging, Random Forest y XGBoost. El taller está constituido por 8 puntos, en los cuales deberan seguir las intrucciones de cada numeral para su desarrollo."
      ]
    },
    {
      "cell_type": "markdown",
      "metadata": {
        "id": "U9sPPRPnxBZv"
      },
      "source": [
        "## Datos predicción precio de automóviles\n",
        "\n",
        "En este taller se usará el conjunto de datos de Car Listings de Kaggle donde cada observación representa el precio de un automóvil teniendo en cuenta distintas variables como año, marca, modelo, entre otras. El objetivo es predecir el precio del automóvil. Para más detalles puede visitar el siguiente enlace: [datos](https://www.kaggle.com/jpayne/852k-used-car-listings)."
      ]
    },
    {
      "cell_type": "code",
      "execution_count": null,
      "metadata": {
        "id": "2L6_hDKwxBZv"
      },
      "outputs": [],
      "source": [
        "import warnings\n",
        "warnings.filterwarnings('ignore')"
      ]
    },
    {
      "cell_type": "code",
      "execution_count": null,
      "metadata": {
        "id": "gOb67IKSxBZt"
      },
      "outputs": [],
      "source": [
        "# Importación de librerías\n",
        "%matplotlib inline\n",
        "import pandas as pd\n",
        "import numpy as np\n",
        "from math import log\n",
        "from sklearn.model_selection import cross_val_score, train_test_split, KFold\n",
        "from sklearn.linear_model import LinearRegression,LogisticRegression\n",
        "from sklearn.ensemble import BaggingRegressor,RandomForestRegressor,RandomForestClassifier\n",
        "from sklearn.tree import DecisionTreeRegressor, export_graphviz,DecisionTreeClassifier\n",
        "from sklearn.metrics import mean_squared_error, r2_score,accuracy_score, f1_score,confusion_matrix,mean_absolute_error\n",
        "from sklearn.preprocessing import StandardScaler\n",
        "from sklearn.utils import resample\n",
        "import matplotlib.pyplot as plt"
      ]
    },
    {
      "cell_type": "code",
      "execution_count": null,
      "metadata": {
        "colab": {
          "base_uri": "https://localhost:8080/",
          "height": 206
        },
        "id": "o8b4z1sxxBZv",
        "outputId": "5264c929-34ff-4433-ba6c-99692d7c93e8"
      },
      "outputs": [
        {
          "output_type": "execute_result",
          "data": {
            "text/plain": [
              "     Price  Year  Mileage  M_Camry  M_Camry4dr  M_CamryBase  M_CamryL  \\\n",
              "7    21995  2014     6480    False       False        False      True   \n",
              "11   13995  2014    39972    False       False        False     False   \n",
              "167  17941  2016    18989    False       False        False     False   \n",
              "225  12493  2014    51330    False       False        False      True   \n",
              "270   7994  2007   116065    False        True        False     False   \n",
              "\n",
              "     M_CamryLE  M_CamrySE  M_CamryXLE  \n",
              "7        False      False       False  \n",
              "11        True      False       False  \n",
              "167      False       True       False  \n",
              "225      False      False       False  \n",
              "270      False      False       False  "
            ],
            "text/html": [
              "\n",
              "  <div id=\"df-cac6d47f-1a53-4dd9-886e-85f24fe14431\" class=\"colab-df-container\">\n",
              "    <div>\n",
              "<style scoped>\n",
              "    .dataframe tbody tr th:only-of-type {\n",
              "        vertical-align: middle;\n",
              "    }\n",
              "\n",
              "    .dataframe tbody tr th {\n",
              "        vertical-align: top;\n",
              "    }\n",
              "\n",
              "    .dataframe thead th {\n",
              "        text-align: right;\n",
              "    }\n",
              "</style>\n",
              "<table border=\"1\" class=\"dataframe\">\n",
              "  <thead>\n",
              "    <tr style=\"text-align: right;\">\n",
              "      <th></th>\n",
              "      <th>Price</th>\n",
              "      <th>Year</th>\n",
              "      <th>Mileage</th>\n",
              "      <th>M_Camry</th>\n",
              "      <th>M_Camry4dr</th>\n",
              "      <th>M_CamryBase</th>\n",
              "      <th>M_CamryL</th>\n",
              "      <th>M_CamryLE</th>\n",
              "      <th>M_CamrySE</th>\n",
              "      <th>M_CamryXLE</th>\n",
              "    </tr>\n",
              "  </thead>\n",
              "  <tbody>\n",
              "    <tr>\n",
              "      <th>7</th>\n",
              "      <td>21995</td>\n",
              "      <td>2014</td>\n",
              "      <td>6480</td>\n",
              "      <td>False</td>\n",
              "      <td>False</td>\n",
              "      <td>False</td>\n",
              "      <td>True</td>\n",
              "      <td>False</td>\n",
              "      <td>False</td>\n",
              "      <td>False</td>\n",
              "    </tr>\n",
              "    <tr>\n",
              "      <th>11</th>\n",
              "      <td>13995</td>\n",
              "      <td>2014</td>\n",
              "      <td>39972</td>\n",
              "      <td>False</td>\n",
              "      <td>False</td>\n",
              "      <td>False</td>\n",
              "      <td>False</td>\n",
              "      <td>True</td>\n",
              "      <td>False</td>\n",
              "      <td>False</td>\n",
              "    </tr>\n",
              "    <tr>\n",
              "      <th>167</th>\n",
              "      <td>17941</td>\n",
              "      <td>2016</td>\n",
              "      <td>18989</td>\n",
              "      <td>False</td>\n",
              "      <td>False</td>\n",
              "      <td>False</td>\n",
              "      <td>False</td>\n",
              "      <td>False</td>\n",
              "      <td>True</td>\n",
              "      <td>False</td>\n",
              "    </tr>\n",
              "    <tr>\n",
              "      <th>225</th>\n",
              "      <td>12493</td>\n",
              "      <td>2014</td>\n",
              "      <td>51330</td>\n",
              "      <td>False</td>\n",
              "      <td>False</td>\n",
              "      <td>False</td>\n",
              "      <td>True</td>\n",
              "      <td>False</td>\n",
              "      <td>False</td>\n",
              "      <td>False</td>\n",
              "    </tr>\n",
              "    <tr>\n",
              "      <th>270</th>\n",
              "      <td>7994</td>\n",
              "      <td>2007</td>\n",
              "      <td>116065</td>\n",
              "      <td>False</td>\n",
              "      <td>True</td>\n",
              "      <td>False</td>\n",
              "      <td>False</td>\n",
              "      <td>False</td>\n",
              "      <td>False</td>\n",
              "      <td>False</td>\n",
              "    </tr>\n",
              "  </tbody>\n",
              "</table>\n",
              "</div>\n",
              "    <div class=\"colab-df-buttons\">\n",
              "\n",
              "  <div class=\"colab-df-container\">\n",
              "    <button class=\"colab-df-convert\" onclick=\"convertToInteractive('df-cac6d47f-1a53-4dd9-886e-85f24fe14431')\"\n",
              "            title=\"Convert this dataframe to an interactive table.\"\n",
              "            style=\"display:none;\">\n",
              "\n",
              "  <svg xmlns=\"http://www.w3.org/2000/svg\" height=\"24px\" viewBox=\"0 -960 960 960\">\n",
              "    <path d=\"M120-120v-720h720v720H120Zm60-500h600v-160H180v160Zm220 220h160v-160H400v160Zm0 220h160v-160H400v160ZM180-400h160v-160H180v160Zm440 0h160v-160H620v160ZM180-180h160v-160H180v160Zm440 0h160v-160H620v160Z\"/>\n",
              "  </svg>\n",
              "    </button>\n",
              "\n",
              "  <style>\n",
              "    .colab-df-container {\n",
              "      display:flex;\n",
              "      gap: 12px;\n",
              "    }\n",
              "\n",
              "    .colab-df-convert {\n",
              "      background-color: #E8F0FE;\n",
              "      border: none;\n",
              "      border-radius: 50%;\n",
              "      cursor: pointer;\n",
              "      display: none;\n",
              "      fill: #1967D2;\n",
              "      height: 32px;\n",
              "      padding: 0 0 0 0;\n",
              "      width: 32px;\n",
              "    }\n",
              "\n",
              "    .colab-df-convert:hover {\n",
              "      background-color: #E2EBFA;\n",
              "      box-shadow: 0px 1px 2px rgba(60, 64, 67, 0.3), 0px 1px 3px 1px rgba(60, 64, 67, 0.15);\n",
              "      fill: #174EA6;\n",
              "    }\n",
              "\n",
              "    .colab-df-buttons div {\n",
              "      margin-bottom: 4px;\n",
              "    }\n",
              "\n",
              "    [theme=dark] .colab-df-convert {\n",
              "      background-color: #3B4455;\n",
              "      fill: #D2E3FC;\n",
              "    }\n",
              "\n",
              "    [theme=dark] .colab-df-convert:hover {\n",
              "      background-color: #434B5C;\n",
              "      box-shadow: 0px 1px 3px 1px rgba(0, 0, 0, 0.15);\n",
              "      filter: drop-shadow(0px 1px 2px rgba(0, 0, 0, 0.3));\n",
              "      fill: #FFFFFF;\n",
              "    }\n",
              "  </style>\n",
              "\n",
              "    <script>\n",
              "      const buttonEl =\n",
              "        document.querySelector('#df-cac6d47f-1a53-4dd9-886e-85f24fe14431 button.colab-df-convert');\n",
              "      buttonEl.style.display =\n",
              "        google.colab.kernel.accessAllowed ? 'block' : 'none';\n",
              "\n",
              "      async function convertToInteractive(key) {\n",
              "        const element = document.querySelector('#df-cac6d47f-1a53-4dd9-886e-85f24fe14431');\n",
              "        const dataTable =\n",
              "          await google.colab.kernel.invokeFunction('convertToInteractive',\n",
              "                                                    [key], {});\n",
              "        if (!dataTable) return;\n",
              "\n",
              "        const docLinkHtml = 'Like what you see? Visit the ' +\n",
              "          '<a target=\"_blank\" href=https://colab.research.google.com/notebooks/data_table.ipynb>data table notebook</a>'\n",
              "          + ' to learn more about interactive tables.';\n",
              "        element.innerHTML = '';\n",
              "        dataTable['output_type'] = 'display_data';\n",
              "        await google.colab.output.renderOutput(dataTable, element);\n",
              "        const docLink = document.createElement('div');\n",
              "        docLink.innerHTML = docLinkHtml;\n",
              "        element.appendChild(docLink);\n",
              "      }\n",
              "    </script>\n",
              "  </div>\n",
              "\n",
              "\n",
              "<div id=\"df-4864dde3-f848-4f73-ac36-3ef660861efd\">\n",
              "  <button class=\"colab-df-quickchart\" onclick=\"quickchart('df-4864dde3-f848-4f73-ac36-3ef660861efd')\"\n",
              "            title=\"Suggest charts\"\n",
              "            style=\"display:none;\">\n",
              "\n",
              "<svg xmlns=\"http://www.w3.org/2000/svg\" height=\"24px\"viewBox=\"0 0 24 24\"\n",
              "     width=\"24px\">\n",
              "    <g>\n",
              "        <path d=\"M19 3H5c-1.1 0-2 .9-2 2v14c0 1.1.9 2 2 2h14c1.1 0 2-.9 2-2V5c0-1.1-.9-2-2-2zM9 17H7v-7h2v7zm4 0h-2V7h2v10zm4 0h-2v-4h2v4z\"/>\n",
              "    </g>\n",
              "</svg>\n",
              "  </button>\n",
              "\n",
              "<style>\n",
              "  .colab-df-quickchart {\n",
              "      --bg-color: #E8F0FE;\n",
              "      --fill-color: #1967D2;\n",
              "      --hover-bg-color: #E2EBFA;\n",
              "      --hover-fill-color: #174EA6;\n",
              "      --disabled-fill-color: #AAA;\n",
              "      --disabled-bg-color: #DDD;\n",
              "  }\n",
              "\n",
              "  [theme=dark] .colab-df-quickchart {\n",
              "      --bg-color: #3B4455;\n",
              "      --fill-color: #D2E3FC;\n",
              "      --hover-bg-color: #434B5C;\n",
              "      --hover-fill-color: #FFFFFF;\n",
              "      --disabled-bg-color: #3B4455;\n",
              "      --disabled-fill-color: #666;\n",
              "  }\n",
              "\n",
              "  .colab-df-quickchart {\n",
              "    background-color: var(--bg-color);\n",
              "    border: none;\n",
              "    border-radius: 50%;\n",
              "    cursor: pointer;\n",
              "    display: none;\n",
              "    fill: var(--fill-color);\n",
              "    height: 32px;\n",
              "    padding: 0;\n",
              "    width: 32px;\n",
              "  }\n",
              "\n",
              "  .colab-df-quickchart:hover {\n",
              "    background-color: var(--hover-bg-color);\n",
              "    box-shadow: 0 1px 2px rgba(60, 64, 67, 0.3), 0 1px 3px 1px rgba(60, 64, 67, 0.15);\n",
              "    fill: var(--button-hover-fill-color);\n",
              "  }\n",
              "\n",
              "  .colab-df-quickchart-complete:disabled,\n",
              "  .colab-df-quickchart-complete:disabled:hover {\n",
              "    background-color: var(--disabled-bg-color);\n",
              "    fill: var(--disabled-fill-color);\n",
              "    box-shadow: none;\n",
              "  }\n",
              "\n",
              "  .colab-df-spinner {\n",
              "    border: 2px solid var(--fill-color);\n",
              "    border-color: transparent;\n",
              "    border-bottom-color: var(--fill-color);\n",
              "    animation:\n",
              "      spin 1s steps(1) infinite;\n",
              "  }\n",
              "\n",
              "  @keyframes spin {\n",
              "    0% {\n",
              "      border-color: transparent;\n",
              "      border-bottom-color: var(--fill-color);\n",
              "      border-left-color: var(--fill-color);\n",
              "    }\n",
              "    20% {\n",
              "      border-color: transparent;\n",
              "      border-left-color: var(--fill-color);\n",
              "      border-top-color: var(--fill-color);\n",
              "    }\n",
              "    30% {\n",
              "      border-color: transparent;\n",
              "      border-left-color: var(--fill-color);\n",
              "      border-top-color: var(--fill-color);\n",
              "      border-right-color: var(--fill-color);\n",
              "    }\n",
              "    40% {\n",
              "      border-color: transparent;\n",
              "      border-right-color: var(--fill-color);\n",
              "      border-top-color: var(--fill-color);\n",
              "    }\n",
              "    60% {\n",
              "      border-color: transparent;\n",
              "      border-right-color: var(--fill-color);\n",
              "    }\n",
              "    80% {\n",
              "      border-color: transparent;\n",
              "      border-right-color: var(--fill-color);\n",
              "      border-bottom-color: var(--fill-color);\n",
              "    }\n",
              "    90% {\n",
              "      border-color: transparent;\n",
              "      border-bottom-color: var(--fill-color);\n",
              "    }\n",
              "  }\n",
              "</style>\n",
              "\n",
              "  <script>\n",
              "    async function quickchart(key) {\n",
              "      const quickchartButtonEl =\n",
              "        document.querySelector('#' + key + ' button');\n",
              "      quickchartButtonEl.disabled = true;  // To prevent multiple clicks.\n",
              "      quickchartButtonEl.classList.add('colab-df-spinner');\n",
              "      try {\n",
              "        const charts = await google.colab.kernel.invokeFunction(\n",
              "            'suggestCharts', [key], {});\n",
              "      } catch (error) {\n",
              "        console.error('Error during call to suggestCharts:', error);\n",
              "      }\n",
              "      quickchartButtonEl.classList.remove('colab-df-spinner');\n",
              "      quickchartButtonEl.classList.add('colab-df-quickchart-complete');\n",
              "    }\n",
              "    (() => {\n",
              "      let quickchartButtonEl =\n",
              "        document.querySelector('#df-4864dde3-f848-4f73-ac36-3ef660861efd button');\n",
              "      quickchartButtonEl.style.display =\n",
              "        google.colab.kernel.accessAllowed ? 'block' : 'none';\n",
              "    })();\n",
              "  </script>\n",
              "</div>\n",
              "\n",
              "    </div>\n",
              "  </div>\n"
            ],
            "application/vnd.google.colaboratory.intrinsic+json": {
              "type": "dataframe",
              "variable_name": "data",
              "summary": "{\n  \"name\": \"data\",\n  \"rows\": 10495,\n  \"fields\": [\n    {\n      \"column\": \"Price\",\n      \"properties\": {\n        \"dtype\": \"number\",\n        \"std\": 3922,\n        \"min\": 5002,\n        \"max\": 32444,\n        \"num_unique_values\": 3660,\n        \"samples\": [\n          15285,\n          17966,\n          13787\n        ],\n        \"semantic_type\": \"\",\n        \"description\": \"\"\n      }\n    },\n    {\n      \"column\": \"Year\",\n      \"properties\": {\n        \"dtype\": \"number\",\n        \"std\": 3,\n        \"min\": 1998,\n        \"max\": 2018,\n        \"num_unique_values\": 20,\n        \"samples\": [\n          2014,\n          2018,\n          2002\n        ],\n        \"semantic_type\": \"\",\n        \"description\": \"\"\n      }\n    },\n    {\n      \"column\": \"Mileage\",\n      \"properties\": {\n        \"dtype\": \"number\",\n        \"std\": 36791,\n        \"min\": 5,\n        \"max\": 232658,\n        \"num_unique_values\": 9913,\n        \"samples\": [\n          91918,\n          24261,\n          100093\n        ],\n        \"semantic_type\": \"\",\n        \"description\": \"\"\n      }\n    },\n    {\n      \"column\": \"M_Camry\",\n      \"properties\": {\n        \"dtype\": \"boolean\",\n        \"num_unique_values\": 2,\n        \"samples\": [\n          true,\n          false\n        ],\n        \"semantic_type\": \"\",\n        \"description\": \"\"\n      }\n    },\n    {\n      \"column\": \"M_Camry4dr\",\n      \"properties\": {\n        \"dtype\": \"boolean\",\n        \"num_unique_values\": 2,\n        \"samples\": [\n          true,\n          false\n        ],\n        \"semantic_type\": \"\",\n        \"description\": \"\"\n      }\n    },\n    {\n      \"column\": \"M_CamryBase\",\n      \"properties\": {\n        \"dtype\": \"boolean\",\n        \"num_unique_values\": 2,\n        \"samples\": [\n          true,\n          false\n        ],\n        \"semantic_type\": \"\",\n        \"description\": \"\"\n      }\n    },\n    {\n      \"column\": \"M_CamryL\",\n      \"properties\": {\n        \"dtype\": \"boolean\",\n        \"num_unique_values\": 2,\n        \"samples\": [\n          false,\n          true\n        ],\n        \"semantic_type\": \"\",\n        \"description\": \"\"\n      }\n    },\n    {\n      \"column\": \"M_CamryLE\",\n      \"properties\": {\n        \"dtype\": \"boolean\",\n        \"num_unique_values\": 2,\n        \"samples\": [\n          true,\n          false\n        ],\n        \"semantic_type\": \"\",\n        \"description\": \"\"\n      }\n    },\n    {\n      \"column\": \"M_CamrySE\",\n      \"properties\": {\n        \"dtype\": \"boolean\",\n        \"num_unique_values\": 2,\n        \"samples\": [\n          true,\n          false\n        ],\n        \"semantic_type\": \"\",\n        \"description\": \"\"\n      }\n    },\n    {\n      \"column\": \"M_CamryXLE\",\n      \"properties\": {\n        \"dtype\": \"boolean\",\n        \"num_unique_values\": 2,\n        \"samples\": [\n          true,\n          false\n        ],\n        \"semantic_type\": \"\",\n        \"description\": \"\"\n      }\n    }\n  ]\n}"
            }
          },
          "metadata": {},
          "execution_count": 3
        }
      ],
      "source": [
        "# Lectura de la información de archivo .csv\n",
        "data = pd.read_csv('https://raw.githubusercontent.com/albahnsen/MIAD_ML_and_NLP/main/datasets/dataTrain_carListings.zip')\n",
        "\n",
        "# Preprocesamiento de datos para el taller\n",
        "data = data.loc[data['Model'].str.contains('Camry')].drop(['Make', 'State'], axis=1)\n",
        "data = data.join(pd.get_dummies(data['Model'], prefix='M'))\n",
        "data = data.drop(['Model'], axis=1)\n",
        "\n",
        "# Visualización dataset\n",
        "data.head()"
      ]
    },
    {
      "cell_type": "code",
      "execution_count": null,
      "metadata": {
        "colab": {
          "base_uri": "https://localhost:8080/"
        },
        "id": "Quf0WpZGxBZw",
        "outputId": "c1f44ba5-0aae-45eb-9e8f-5c7bf0190034"
      },
      "outputs": [
        {
          "output_type": "execute_result",
          "data": {
            "text/plain": [
              "(10495, 10)"
            ]
          },
          "metadata": {},
          "execution_count": 4
        }
      ],
      "source": [
        "data.shape"
      ]
    },
    {
      "cell_type": "code",
      "execution_count": null,
      "metadata": {
        "colab": {
          "base_uri": "https://localhost:8080/",
          "height": 206
        },
        "id": "PO47cfx0xBZx",
        "outputId": "ada60dd5-6669-498a-9f1d-8d28f8dd1be5"
      },
      "outputs": [
        {
          "output_type": "execute_result",
          "data": {
            "text/plain": [
              "     Price  Year  Mileage  M_Camry  M_Camry4dr  M_CamryBase  M_CamryL  \\\n",
              "7    21995  2014     6480        0           0            0         1   \n",
              "11   13995  2014    39972        0           0            0         0   \n",
              "167  17941  2016    18989        0           0            0         0   \n",
              "225  12493  2014    51330        0           0            0         1   \n",
              "270   7994  2007   116065        0           1            0         0   \n",
              "\n",
              "     M_CamryLE  M_CamrySE  M_CamryXLE  \n",
              "7            0          0           0  \n",
              "11           1          0           0  \n",
              "167          0          1           0  \n",
              "225          0          0           0  \n",
              "270          0          0           0  "
            ],
            "text/html": [
              "\n",
              "  <div id=\"df-4e6aa546-2cb0-4c80-834a-2592fd47c24d\" class=\"colab-df-container\">\n",
              "    <div>\n",
              "<style scoped>\n",
              "    .dataframe tbody tr th:only-of-type {\n",
              "        vertical-align: middle;\n",
              "    }\n",
              "\n",
              "    .dataframe tbody tr th {\n",
              "        vertical-align: top;\n",
              "    }\n",
              "\n",
              "    .dataframe thead th {\n",
              "        text-align: right;\n",
              "    }\n",
              "</style>\n",
              "<table border=\"1\" class=\"dataframe\">\n",
              "  <thead>\n",
              "    <tr style=\"text-align: right;\">\n",
              "      <th></th>\n",
              "      <th>Price</th>\n",
              "      <th>Year</th>\n",
              "      <th>Mileage</th>\n",
              "      <th>M_Camry</th>\n",
              "      <th>M_Camry4dr</th>\n",
              "      <th>M_CamryBase</th>\n",
              "      <th>M_CamryL</th>\n",
              "      <th>M_CamryLE</th>\n",
              "      <th>M_CamrySE</th>\n",
              "      <th>M_CamryXLE</th>\n",
              "    </tr>\n",
              "  </thead>\n",
              "  <tbody>\n",
              "    <tr>\n",
              "      <th>7</th>\n",
              "      <td>21995</td>\n",
              "      <td>2014</td>\n",
              "      <td>6480</td>\n",
              "      <td>0</td>\n",
              "      <td>0</td>\n",
              "      <td>0</td>\n",
              "      <td>1</td>\n",
              "      <td>0</td>\n",
              "      <td>0</td>\n",
              "      <td>0</td>\n",
              "    </tr>\n",
              "    <tr>\n",
              "      <th>11</th>\n",
              "      <td>13995</td>\n",
              "      <td>2014</td>\n",
              "      <td>39972</td>\n",
              "      <td>0</td>\n",
              "      <td>0</td>\n",
              "      <td>0</td>\n",
              "      <td>0</td>\n",
              "      <td>1</td>\n",
              "      <td>0</td>\n",
              "      <td>0</td>\n",
              "    </tr>\n",
              "    <tr>\n",
              "      <th>167</th>\n",
              "      <td>17941</td>\n",
              "      <td>2016</td>\n",
              "      <td>18989</td>\n",
              "      <td>0</td>\n",
              "      <td>0</td>\n",
              "      <td>0</td>\n",
              "      <td>0</td>\n",
              "      <td>0</td>\n",
              "      <td>1</td>\n",
              "      <td>0</td>\n",
              "    </tr>\n",
              "    <tr>\n",
              "      <th>225</th>\n",
              "      <td>12493</td>\n",
              "      <td>2014</td>\n",
              "      <td>51330</td>\n",
              "      <td>0</td>\n",
              "      <td>0</td>\n",
              "      <td>0</td>\n",
              "      <td>1</td>\n",
              "      <td>0</td>\n",
              "      <td>0</td>\n",
              "      <td>0</td>\n",
              "    </tr>\n",
              "    <tr>\n",
              "      <th>270</th>\n",
              "      <td>7994</td>\n",
              "      <td>2007</td>\n",
              "      <td>116065</td>\n",
              "      <td>0</td>\n",
              "      <td>1</td>\n",
              "      <td>0</td>\n",
              "      <td>0</td>\n",
              "      <td>0</td>\n",
              "      <td>0</td>\n",
              "      <td>0</td>\n",
              "    </tr>\n",
              "  </tbody>\n",
              "</table>\n",
              "</div>\n",
              "    <div class=\"colab-df-buttons\">\n",
              "\n",
              "  <div class=\"colab-df-container\">\n",
              "    <button class=\"colab-df-convert\" onclick=\"convertToInteractive('df-4e6aa546-2cb0-4c80-834a-2592fd47c24d')\"\n",
              "            title=\"Convert this dataframe to an interactive table.\"\n",
              "            style=\"display:none;\">\n",
              "\n",
              "  <svg xmlns=\"http://www.w3.org/2000/svg\" height=\"24px\" viewBox=\"0 -960 960 960\">\n",
              "    <path d=\"M120-120v-720h720v720H120Zm60-500h600v-160H180v160Zm220 220h160v-160H400v160Zm0 220h160v-160H400v160ZM180-400h160v-160H180v160Zm440 0h160v-160H620v160ZM180-180h160v-160H180v160Zm440 0h160v-160H620v160Z\"/>\n",
              "  </svg>\n",
              "    </button>\n",
              "\n",
              "  <style>\n",
              "    .colab-df-container {\n",
              "      display:flex;\n",
              "      gap: 12px;\n",
              "    }\n",
              "\n",
              "    .colab-df-convert {\n",
              "      background-color: #E8F0FE;\n",
              "      border: none;\n",
              "      border-radius: 50%;\n",
              "      cursor: pointer;\n",
              "      display: none;\n",
              "      fill: #1967D2;\n",
              "      height: 32px;\n",
              "      padding: 0 0 0 0;\n",
              "      width: 32px;\n",
              "    }\n",
              "\n",
              "    .colab-df-convert:hover {\n",
              "      background-color: #E2EBFA;\n",
              "      box-shadow: 0px 1px 2px rgba(60, 64, 67, 0.3), 0px 1px 3px 1px rgba(60, 64, 67, 0.15);\n",
              "      fill: #174EA6;\n",
              "    }\n",
              "\n",
              "    .colab-df-buttons div {\n",
              "      margin-bottom: 4px;\n",
              "    }\n",
              "\n",
              "    [theme=dark] .colab-df-convert {\n",
              "      background-color: #3B4455;\n",
              "      fill: #D2E3FC;\n",
              "    }\n",
              "\n",
              "    [theme=dark] .colab-df-convert:hover {\n",
              "      background-color: #434B5C;\n",
              "      box-shadow: 0px 1px 3px 1px rgba(0, 0, 0, 0.15);\n",
              "      filter: drop-shadow(0px 1px 2px rgba(0, 0, 0, 0.3));\n",
              "      fill: #FFFFFF;\n",
              "    }\n",
              "  </style>\n",
              "\n",
              "    <script>\n",
              "      const buttonEl =\n",
              "        document.querySelector('#df-4e6aa546-2cb0-4c80-834a-2592fd47c24d button.colab-df-convert');\n",
              "      buttonEl.style.display =\n",
              "        google.colab.kernel.accessAllowed ? 'block' : 'none';\n",
              "\n",
              "      async function convertToInteractive(key) {\n",
              "        const element = document.querySelector('#df-4e6aa546-2cb0-4c80-834a-2592fd47c24d');\n",
              "        const dataTable =\n",
              "          await google.colab.kernel.invokeFunction('convertToInteractive',\n",
              "                                                    [key], {});\n",
              "        if (!dataTable) return;\n",
              "\n",
              "        const docLinkHtml = 'Like what you see? Visit the ' +\n",
              "          '<a target=\"_blank\" href=https://colab.research.google.com/notebooks/data_table.ipynb>data table notebook</a>'\n",
              "          + ' to learn more about interactive tables.';\n",
              "        element.innerHTML = '';\n",
              "        dataTable['output_type'] = 'display_data';\n",
              "        await google.colab.output.renderOutput(dataTable, element);\n",
              "        const docLink = document.createElement('div');\n",
              "        docLink.innerHTML = docLinkHtml;\n",
              "        element.appendChild(docLink);\n",
              "      }\n",
              "    </script>\n",
              "  </div>\n",
              "\n",
              "\n",
              "<div id=\"df-f5f32d10-c4fd-4797-9bfe-c7e16755f583\">\n",
              "  <button class=\"colab-df-quickchart\" onclick=\"quickchart('df-f5f32d10-c4fd-4797-9bfe-c7e16755f583')\"\n",
              "            title=\"Suggest charts\"\n",
              "            style=\"display:none;\">\n",
              "\n",
              "<svg xmlns=\"http://www.w3.org/2000/svg\" height=\"24px\"viewBox=\"0 0 24 24\"\n",
              "     width=\"24px\">\n",
              "    <g>\n",
              "        <path d=\"M19 3H5c-1.1 0-2 .9-2 2v14c0 1.1.9 2 2 2h14c1.1 0 2-.9 2-2V5c0-1.1-.9-2-2-2zM9 17H7v-7h2v7zm4 0h-2V7h2v10zm4 0h-2v-4h2v4z\"/>\n",
              "    </g>\n",
              "</svg>\n",
              "  </button>\n",
              "\n",
              "<style>\n",
              "  .colab-df-quickchart {\n",
              "      --bg-color: #E8F0FE;\n",
              "      --fill-color: #1967D2;\n",
              "      --hover-bg-color: #E2EBFA;\n",
              "      --hover-fill-color: #174EA6;\n",
              "      --disabled-fill-color: #AAA;\n",
              "      --disabled-bg-color: #DDD;\n",
              "  }\n",
              "\n",
              "  [theme=dark] .colab-df-quickchart {\n",
              "      --bg-color: #3B4455;\n",
              "      --fill-color: #D2E3FC;\n",
              "      --hover-bg-color: #434B5C;\n",
              "      --hover-fill-color: #FFFFFF;\n",
              "      --disabled-bg-color: #3B4455;\n",
              "      --disabled-fill-color: #666;\n",
              "  }\n",
              "\n",
              "  .colab-df-quickchart {\n",
              "    background-color: var(--bg-color);\n",
              "    border: none;\n",
              "    border-radius: 50%;\n",
              "    cursor: pointer;\n",
              "    display: none;\n",
              "    fill: var(--fill-color);\n",
              "    height: 32px;\n",
              "    padding: 0;\n",
              "    width: 32px;\n",
              "  }\n",
              "\n",
              "  .colab-df-quickchart:hover {\n",
              "    background-color: var(--hover-bg-color);\n",
              "    box-shadow: 0 1px 2px rgba(60, 64, 67, 0.3), 0 1px 3px 1px rgba(60, 64, 67, 0.15);\n",
              "    fill: var(--button-hover-fill-color);\n",
              "  }\n",
              "\n",
              "  .colab-df-quickchart-complete:disabled,\n",
              "  .colab-df-quickchart-complete:disabled:hover {\n",
              "    background-color: var(--disabled-bg-color);\n",
              "    fill: var(--disabled-fill-color);\n",
              "    box-shadow: none;\n",
              "  }\n",
              "\n",
              "  .colab-df-spinner {\n",
              "    border: 2px solid var(--fill-color);\n",
              "    border-color: transparent;\n",
              "    border-bottom-color: var(--fill-color);\n",
              "    animation:\n",
              "      spin 1s steps(1) infinite;\n",
              "  }\n",
              "\n",
              "  @keyframes spin {\n",
              "    0% {\n",
              "      border-color: transparent;\n",
              "      border-bottom-color: var(--fill-color);\n",
              "      border-left-color: var(--fill-color);\n",
              "    }\n",
              "    20% {\n",
              "      border-color: transparent;\n",
              "      border-left-color: var(--fill-color);\n",
              "      border-top-color: var(--fill-color);\n",
              "    }\n",
              "    30% {\n",
              "      border-color: transparent;\n",
              "      border-left-color: var(--fill-color);\n",
              "      border-top-color: var(--fill-color);\n",
              "      border-right-color: var(--fill-color);\n",
              "    }\n",
              "    40% {\n",
              "      border-color: transparent;\n",
              "      border-right-color: var(--fill-color);\n",
              "      border-top-color: var(--fill-color);\n",
              "    }\n",
              "    60% {\n",
              "      border-color: transparent;\n",
              "      border-right-color: var(--fill-color);\n",
              "    }\n",
              "    80% {\n",
              "      border-color: transparent;\n",
              "      border-right-color: var(--fill-color);\n",
              "      border-bottom-color: var(--fill-color);\n",
              "    }\n",
              "    90% {\n",
              "      border-color: transparent;\n",
              "      border-bottom-color: var(--fill-color);\n",
              "    }\n",
              "  }\n",
              "</style>\n",
              "\n",
              "  <script>\n",
              "    async function quickchart(key) {\n",
              "      const quickchartButtonEl =\n",
              "        document.querySelector('#' + key + ' button');\n",
              "      quickchartButtonEl.disabled = true;  // To prevent multiple clicks.\n",
              "      quickchartButtonEl.classList.add('colab-df-spinner');\n",
              "      try {\n",
              "        const charts = await google.colab.kernel.invokeFunction(\n",
              "            'suggestCharts', [key], {});\n",
              "      } catch (error) {\n",
              "        console.error('Error during call to suggestCharts:', error);\n",
              "      }\n",
              "      quickchartButtonEl.classList.remove('colab-df-spinner');\n",
              "      quickchartButtonEl.classList.add('colab-df-quickchart-complete');\n",
              "    }\n",
              "    (() => {\n",
              "      let quickchartButtonEl =\n",
              "        document.querySelector('#df-f5f32d10-c4fd-4797-9bfe-c7e16755f583 button');\n",
              "      quickchartButtonEl.style.display =\n",
              "        google.colab.kernel.accessAllowed ? 'block' : 'none';\n",
              "    })();\n",
              "  </script>\n",
              "</div>\n",
              "\n",
              "    </div>\n",
              "  </div>\n"
            ],
            "application/vnd.google.colaboratory.intrinsic+json": {
              "type": "dataframe",
              "variable_name": "data",
              "summary": "{\n  \"name\": \"data\",\n  \"rows\": 10495,\n  \"fields\": [\n    {\n      \"column\": \"Price\",\n      \"properties\": {\n        \"dtype\": \"number\",\n        \"std\": 3922,\n        \"min\": 5002,\n        \"max\": 32444,\n        \"num_unique_values\": 3660,\n        \"samples\": [\n          15285,\n          17966,\n          13787\n        ],\n        \"semantic_type\": \"\",\n        \"description\": \"\"\n      }\n    },\n    {\n      \"column\": \"Year\",\n      \"properties\": {\n        \"dtype\": \"number\",\n        \"std\": 3,\n        \"min\": 1998,\n        \"max\": 2018,\n        \"num_unique_values\": 20,\n        \"samples\": [\n          2014,\n          2018,\n          2002\n        ],\n        \"semantic_type\": \"\",\n        \"description\": \"\"\n      }\n    },\n    {\n      \"column\": \"Mileage\",\n      \"properties\": {\n        \"dtype\": \"number\",\n        \"std\": 36791,\n        \"min\": 5,\n        \"max\": 232658,\n        \"num_unique_values\": 9913,\n        \"samples\": [\n          91918,\n          24261,\n          100093\n        ],\n        \"semantic_type\": \"\",\n        \"description\": \"\"\n      }\n    },\n    {\n      \"column\": \"M_Camry\",\n      \"properties\": {\n        \"dtype\": \"number\",\n        \"std\": 0,\n        \"min\": 0,\n        \"max\": 1,\n        \"num_unique_values\": 2,\n        \"samples\": [\n          1,\n          0\n        ],\n        \"semantic_type\": \"\",\n        \"description\": \"\"\n      }\n    },\n    {\n      \"column\": \"M_Camry4dr\",\n      \"properties\": {\n        \"dtype\": \"number\",\n        \"std\": 0,\n        \"min\": 0,\n        \"max\": 1,\n        \"num_unique_values\": 2,\n        \"samples\": [\n          1,\n          0\n        ],\n        \"semantic_type\": \"\",\n        \"description\": \"\"\n      }\n    },\n    {\n      \"column\": \"M_CamryBase\",\n      \"properties\": {\n        \"dtype\": \"number\",\n        \"std\": 0,\n        \"min\": 0,\n        \"max\": 1,\n        \"num_unique_values\": 2,\n        \"samples\": [\n          1,\n          0\n        ],\n        \"semantic_type\": \"\",\n        \"description\": \"\"\n      }\n    },\n    {\n      \"column\": \"M_CamryL\",\n      \"properties\": {\n        \"dtype\": \"number\",\n        \"std\": 0,\n        \"min\": 0,\n        \"max\": 1,\n        \"num_unique_values\": 2,\n        \"samples\": [\n          0,\n          1\n        ],\n        \"semantic_type\": \"\",\n        \"description\": \"\"\n      }\n    },\n    {\n      \"column\": \"M_CamryLE\",\n      \"properties\": {\n        \"dtype\": \"number\",\n        \"std\": 0,\n        \"min\": 0,\n        \"max\": 1,\n        \"num_unique_values\": 2,\n        \"samples\": [\n          1,\n          0\n        ],\n        \"semantic_type\": \"\",\n        \"description\": \"\"\n      }\n    },\n    {\n      \"column\": \"M_CamrySE\",\n      \"properties\": {\n        \"dtype\": \"number\",\n        \"std\": 0,\n        \"min\": 0,\n        \"max\": 1,\n        \"num_unique_values\": 2,\n        \"samples\": [\n          1,\n          0\n        ],\n        \"semantic_type\": \"\",\n        \"description\": \"\"\n      }\n    },\n    {\n      \"column\": \"M_CamryXLE\",\n      \"properties\": {\n        \"dtype\": \"number\",\n        \"std\": 0,\n        \"min\": 0,\n        \"max\": 1,\n        \"num_unique_values\": 2,\n        \"samples\": [\n          1,\n          0\n        ],\n        \"semantic_type\": \"\",\n        \"description\": \"\"\n      }\n    }\n  ]\n}"
            }
          },
          "metadata": {},
          "execution_count": 5
        }
      ],
      "source": [
        "#convertir variables booleanas a numéricas\n",
        "bool_columns=data.select_dtypes(include=['bool']).columns\n",
        "for col in bool_columns:\n",
        "    data[col] = data[col].astype(int)\n",
        "\n",
        "data.head()"
      ]
    },
    {
      "cell_type": "code",
      "execution_count": null,
      "metadata": {
        "id": "kBZ92p-LxBZx"
      },
      "outputs": [],
      "source": [
        "# Separación de variables predictoras (X) y variable de interés (y)\n",
        "y = data['Price']\n",
        "X = data.drop(['Price'], axis=1)"
      ]
    },
    {
      "cell_type": "code",
      "execution_count": null,
      "metadata": {
        "id": "XUAvAKlOxBZx"
      },
      "outputs": [],
      "source": [
        "# Separación de datos en set de entrenamiento y test\n",
        "from sklearn.model_selection import train_test_split\n",
        "X_train, X_test, y_train, y_test = train_test_split(X, y, test_size=0.33, random_state=42)"
      ]
    },
    {
      "cell_type": "markdown",
      "metadata": {
        "id": "f-4rTf1fxBZy"
      },
      "source": [
        "### Punto 1 - Árbol de decisión manual\n",
        "\n",
        "En la celda 1 creen un árbol de decisión **manualmente**  que considere los set de entrenamiento y test definidos anteriormente y presenten el RMSE y MAE del modelo en el set de test."
      ]
    },
    {
      "cell_type": "code",
      "execution_count": null,
      "metadata": {
        "id": "0gb0ZEKpxBZy"
      },
      "outputs": [],
      "source": [
        "# Arbol de decision manual\n",
        "# Definición de parámetros y criterios de parada\n",
        "max_depth = None\n",
        "num_pct = 10\n",
        "max_features = None\n",
        "min_gain=0.001\n",
        "\n",
        "# Definición de la función DE VARIANZA ya que es un procedimiento de regresión\n",
        "def varianza(y):\n",
        "    if y.shape[0] == 0:\n",
        "        return 0\n",
        "    else:\n",
        "        return y.var()\n",
        "\n",
        "# Definición de la función varianza_impurity para calular la ganancia de una variable predictora j dado el punto de corte k\n",
        "def varianza_impurity(X_col, y, split):\n",
        "\n",
        "    filter_l = X_col < split\n",
        "    y_l = y.loc[filter_l]\n",
        "    y_r = y.loc[~filter_l]\n",
        "\n",
        "    n_l = y_l.shape[0]\n",
        "    n_r = y_r.shape[0]\n",
        "\n",
        "    var_y = varianza(y)\n",
        "    var_l = varianza(y_l)\n",
        "    var_r = varianza(y_r)\n",
        "\n",
        "    var_impurity = var_y - (n_l / (n_l + n_r) * var_l + n_r / (n_l + n_r) * var_r)\n",
        "\n",
        "    return var_impurity\n",
        "\n",
        "\n",
        "# Definición de la función best_split para calcular cuál es la mejor variable y punto de corte para hacer la bifurcación del árbol\n",
        "def best_split(X, y, num_pct=10):\n",
        "\n",
        "    features = range(X.shape[1])\n",
        "\n",
        "    best_split = [0, 0, 0]  # j, split, gain\n",
        "\n",
        "    # Para todas las varibles\n",
        "    for j in features:\n",
        "\n",
        "        splits = np.percentile(X.iloc[:, j], np.arange(0, 100, 100.0 / (num_pct+1)).tolist())\n",
        "        splits = np.unique(splits)[1:]\n",
        "\n",
        "        # Para cada partición\n",
        "        for split in splits:\n",
        "            gain = varianza_impurity(X.iloc[:, j], y, split)\n",
        "\n",
        "            if gain > best_split[2]:\n",
        "                best_split = [j, split, gain]\n",
        "\n",
        "    return best_split\n",
        "\n",
        "# Obtención de la variable 'j', su punto de corte 'split' y su ganancia 'gain'\n",
        "j, split, gain = best_split(X_train, y_train, 5)\n",
        "j, split, gain\n",
        "\n",
        "# División de las observaciones usando la mejor variable 'j' y su punto de corte 'split'\n",
        "filter_l = X_train.iloc[:, j] < split\n",
        "\n",
        "y_l = y_train.loc[filter_l]\n",
        "y_r = y_train.loc[~filter_l]\n",
        "\n",
        "# Definición de la función tree_grow para hacer un crecimiento recursivo del árbol\n",
        "def tree_grow(X, y, level=0, min_gain=0.001, max_depth=None, num_pct=10):\n",
        "\n",
        "    # Si solo es una observación\n",
        "    if X.shape[0] == 1:\n",
        "        tree = dict(y_pred=y.iloc[:1].values[0], level=level, split=-1, n_samples=1, gain=0, nodos_finales=1)\n",
        "        return tree\n",
        "\n",
        "    # Calcular la mejor división\n",
        "    j, split, gain = best_split(X, y, num_pct)\n",
        "\n",
        "    # Guardar el árbol y estimar la predicción\n",
        "    y_pred = y.mean()\n",
        "\n",
        "    tree = dict(y_pred=y_pred, level=level, split=-1, n_samples=X.shape[0], gain=gain)\n",
        "    # Revisar el criterio de parada\n",
        "    if gain < min_gain:\n",
        "        tree['nodos_finales'] = 1  # es una hoja\n",
        "        return tree\n",
        "    if max_depth is not None:\n",
        "        if level >= max_depth:\n",
        "            tree['nodos_finales'] = 1  # es una hoja\n",
        "            return tree\n",
        "\n",
        "    # Continuar creando la partición\n",
        "    filter_l = X.iloc[:, j] < split\n",
        "    X_l, y_l = X.loc[filter_l], y.loc[filter_l]\n",
        "    X_r, y_r = X.loc[~filter_l], y.loc[~filter_l]\n",
        "    tree['split'] = [j, split]\n",
        "\n",
        "    # Siguiente iteración para cada partición\n",
        "\n",
        "    tree['sl'] = tree_grow(X_l, y_l, level + 1, min_gain=min_gain, max_depth=max_depth, num_pct=num_pct)\n",
        "    tree['sr'] = tree_grow(X_r, y_r, level + 1, min_gain=min_gain, max_depth=max_depth, num_pct=num_pct)\n",
        "\n",
        "    # Sumar nodos hoja de ramas izquierda y derecha\n",
        "    tree['nodos_finales'] = tree['sl']['nodos_finales'] + tree['sr']['nodos_finales']\n",
        "\n",
        "    return tree\n",
        "\n",
        "# Definición de la función tree_pred para hacer predicciones según las variables 'X' y el árbol 'tree'\n",
        "def tree_pred(x, tree):\n",
        "    # Si es una hoja\n",
        "    if tree['split'] == -1:\n",
        "        return tree['y_pred']\n",
        "\n",
        "    j, split = tree['split']\n",
        "\n",
        "    if x[j] < split:\n",
        "        return tree_pred(x, tree['sl'])\n",
        "    else:\n",
        "        return tree_pred(x, tree['sr'])"
      ]
    },
    {
      "cell_type": "code",
      "source": [
        "y_train.shape[0], y_l.shape[0], y_r.shape[0]"
      ],
      "metadata": {
        "colab": {
          "base_uri": "https://localhost:8080/"
        },
        "id": "iE18bhewaw2-",
        "outputId": "eb010b04-3b30-4ef7-d334-db0c58c51f8c"
      },
      "execution_count": null,
      "outputs": [
        {
          "output_type": "execute_result",
          "data": {
            "text/plain": [
              "(7031, 2270, 4761)"
            ]
          },
          "metadata": {},
          "execution_count": 9
        }
      ]
    },
    {
      "cell_type": "code",
      "source": [
        "## Calibracion del modelo\n",
        "max_depth_range = range(1, 21)\n",
        "mse_scores = []\n",
        "\n",
        "kf = KFold(n_splits=10, shuffle=True, random_state=42)\n",
        "\n",
        "for depth in max_depth_range:\n",
        "    fold_mse = []\n",
        "    for train_index, test_index in kf.split(X):\n",
        "        X_train_fold, X_test_fold = X.iloc[train_index], X.iloc[test_index]\n",
        "        y_train_fold, y_test_fold = y.iloc[train_index], y.iloc[test_index]\n",
        "\n",
        "        # Entrenar el arbol manual\n",
        "        arbol = tree_grow(X_train_fold, y_train_fold, level=0, min_gain=0.001, max_depth=depth, num_pct=10)\n",
        "\n",
        "        # Predecir\n",
        "        y_pred = X_test_fold.apply(lambda fila: tree_pred(fila, arbol), axis=1)\n",
        "\n",
        "        # Guardar el error\n",
        "        fold_mse.append(mean_squared_error(y_test_fold, y_pred))\n",
        "\n",
        "    mse_scores.append(np.mean(fold_mse))"
      ],
      "metadata": {
        "id": "uh0Js_tegdbs"
      },
      "execution_count": null,
      "outputs": []
    },
    {
      "cell_type": "code",
      "source": [
        "# Entrenamiento y prediccion del árbol de decisión\n",
        "arbol_regresion = tree_grow(X_train, y_train, level=0, min_gain=0.001, max_depth=4, num_pct=10)\n",
        "\n",
        "# Predecir sobre el conjunto de test\n",
        "y_pred_test = X_test.apply(lambda fila: tree_pred(fila, arbol_regresion), axis=1)\n",
        "y_pred_test"
      ],
      "metadata": {
        "colab": {
          "base_uri": "https://localhost:8080/",
          "height": 458
        },
        "id": "9BzcIlAibDfE",
        "outputId": "782e2ea9-68c5-4d33-a1e8-682b70098504"
      },
      "execution_count": null,
      "outputs": [
        {
          "output_type": "execute_result",
          "data": {
            "text/plain": [
              "257343    13338.359504\n",
              "326011     7272.613475\n",
              "242354    15883.748101\n",
              "266376    17184.127313\n",
              "396954    15883.748101\n",
              "              ...     \n",
              "144298    15656.171348\n",
              "364521    17184.127313\n",
              "120072    18546.505376\n",
              "99878     12270.617021\n",
              "387162    10617.755556\n",
              "Length: 3464, dtype: float64"
            ],
            "text/html": [
              "<div>\n",
              "<style scoped>\n",
              "    .dataframe tbody tr th:only-of-type {\n",
              "        vertical-align: middle;\n",
              "    }\n",
              "\n",
              "    .dataframe tbody tr th {\n",
              "        vertical-align: top;\n",
              "    }\n",
              "\n",
              "    .dataframe thead th {\n",
              "        text-align: right;\n",
              "    }\n",
              "</style>\n",
              "<table border=\"1\" class=\"dataframe\">\n",
              "  <thead>\n",
              "    <tr style=\"text-align: right;\">\n",
              "      <th></th>\n",
              "      <th>0</th>\n",
              "    </tr>\n",
              "  </thead>\n",
              "  <tbody>\n",
              "    <tr>\n",
              "      <th>257343</th>\n",
              "      <td>13338.359504</td>\n",
              "    </tr>\n",
              "    <tr>\n",
              "      <th>326011</th>\n",
              "      <td>7272.613475</td>\n",
              "    </tr>\n",
              "    <tr>\n",
              "      <th>242354</th>\n",
              "      <td>15883.748101</td>\n",
              "    </tr>\n",
              "    <tr>\n",
              "      <th>266376</th>\n",
              "      <td>17184.127313</td>\n",
              "    </tr>\n",
              "    <tr>\n",
              "      <th>396954</th>\n",
              "      <td>15883.748101</td>\n",
              "    </tr>\n",
              "    <tr>\n",
              "      <th>...</th>\n",
              "      <td>...</td>\n",
              "    </tr>\n",
              "    <tr>\n",
              "      <th>144298</th>\n",
              "      <td>15656.171348</td>\n",
              "    </tr>\n",
              "    <tr>\n",
              "      <th>364521</th>\n",
              "      <td>17184.127313</td>\n",
              "    </tr>\n",
              "    <tr>\n",
              "      <th>120072</th>\n",
              "      <td>18546.505376</td>\n",
              "    </tr>\n",
              "    <tr>\n",
              "      <th>99878</th>\n",
              "      <td>12270.617021</td>\n",
              "    </tr>\n",
              "    <tr>\n",
              "      <th>387162</th>\n",
              "      <td>10617.755556</td>\n",
              "    </tr>\n",
              "  </tbody>\n",
              "</table>\n",
              "<p>3464 rows × 1 columns</p>\n",
              "</div><br><label><b>dtype:</b> float64</label>"
            ]
          },
          "metadata": {},
          "execution_count": 30
        }
      ]
    },
    {
      "cell_type": "code",
      "source": [
        "# Evaluación del árbol de decisión\n",
        "mse_manual_tree = mean_squared_error(y_test, y_pred_test)\n",
        "RMSE_manual_tree = np.sqrt(mse_manual_tree)\n",
        "MAE_manual_tree = mean_squared_error(y_test, y_pred_test)\n",
        "R2_manual_tree = r2_score(y_test, y_pred_test)\n",
        "\n",
        "print(\"Resultados del árbol de decisión:\")\n",
        "print(f\"Error cuadrático medio (MSE): {mse_manual_tree:.4f}\")\n",
        "print(f\"RMSE: {RMSE_manual_tree:.4f}\")\n",
        "print(f\"MAE: {MAE_manual_tree:.4f}\")\n",
        "print(f\"R^2: {R2_manual_tree:.4f}\")\n",
        "\n",
        "# Gráfica max_depth versus RMSE (error del modelo)\n",
        "plt.plot(max_depth_range, mse_scores, marker='o')\n",
        "plt.title('max_depth vs RMSE')\n",
        "plt.xlabel('max_depth')\n",
        "plt.ylabel('RMSE')\n",
        "plt.grid(True)\n",
        "plt.tight_layout()\n",
        "plt.show()"
      ],
      "metadata": {
        "colab": {
          "base_uri": "https://localhost:8080/",
          "height": 578
        },
        "id": "psVOyLsvbHvO",
        "outputId": "d6ad5aaa-bc79-40d6-8e57-cfe2b6f6347f"
      },
      "execution_count": null,
      "outputs": [
        {
          "output_type": "stream",
          "name": "stdout",
          "text": [
            "Resultados del árbol de decisión:\n",
            "Error cuadrático medio (MSE): 3177979.6435\n",
            "RMSE: 1782.6889\n",
            "MAE: 3177979.6435\n",
            "R^2: 0.7922\n"
          ]
        },
        {
          "output_type": "display_data",
          "data": {
            "text/plain": [
              "<Figure size 640x480 with 1 Axes>"
            ],
            "image/png": "[encoded data removed]"
          },
          "metadata": {}
        }
      ]
    },
    {
      "cell_type": "markdown",
      "source": [
        "#### **Interpretacion de resultados**\n",
        "\n",
        "* El modelo de árbol de regresión obtiene un RMSE de 1782.69 lo que indica que, en promedio, el error en la predicción del precio es de aproximadamente 1782 unidades monetarias frente al valor real.\n",
        "- El coeficiente de determinación R² de 0.7922 significa que el árbol de regresión manual explica aproximadamente el 79.22% de la variabilidad del precio del automóvil.\n",
        "- Un MAE (Error Absoluto Medio) de 3,177,979.64 indica que, en promedio, el modelo se equivoca en casi 3.18 millones de unidades monetarias al predecir el precio de un automóvil."
      ],
      "metadata": {
        "id": "JpBJ3kH7nVA5"
      }
    },
    {
      "cell_type": "markdown",
      "metadata": {
        "id": "vNEFL5EnxBZ1"
      },
      "source": [
        "### Punto 2 - Bagging manual\n",
        "\n",
        "En la celda 2 creen un modelo bagging **manualmente** con 10 árboles de regresión y comenten sobre el desempeño del modelo."
      ]
    },
    {
      "cell_type": "code",
      "execution_count": null,
      "metadata": {
        "id": "YQbRnKJNxBZ1"
      },
      "outputs": [],
      "source": [
        "# Celda 2\n",
        "def bagging(X, y, n_trees=10, max_depth=None, min_gain=0.001, num_pct=10):\n",
        "\n",
        "    # Inicializar el bagging\n",
        "    trees = []\n",
        "\n",
        "    # Para cada árbol\n",
        "    for i in range(n_trees):\n",
        "\n",
        "        # Crear una muestra aleatoria de los datos\n",
        "        X_sample, y_sample = resample(X, y)\n",
        "\n",
        "        # Crear el árbol a prtir del arbol definido en el punto 1\n",
        "        tree = tree_grow(X_sample, y_sample, level=0, min_gain=min_gain, max_depth=max_depth, num_pct=num_pct)\n",
        "\n",
        "        # Guardar el árbol\n",
        "        trees.append(tree)\n",
        "\n",
        "    return trees\n",
        "\n",
        "bagging_predict_trees = bagging(X_train, y_train, n_trees=10, max_depth=None, min_gain=0.001, num_pct=10)"
      ]
    },
    {
      "cell_type": "code",
      "source": [
        "#guardar predicciones de los 10 árboles\n",
        "predicciones = []\n",
        "for i in range(len(bagging_predict_trees)):\n",
        "    predicciones.append(X_test.apply(lambda fila: tree_pred(fila, bagging_predict_trees[i]), axis=1))\n",
        "\n",
        "print(\"Predicciones de los 10 árboles\", predicciones)\n",
        "\n",
        "#promediar predicciones de los 10 árboles\n",
        "y_pred_test_bagging = np.mean(predicciones, axis=0)\n",
        "print(\"\\nPredicciones promediadas de los 10 árboles\", y_pred_test_bagging)"
      ],
      "metadata": {
        "colab": {
          "base_uri": "https://localhost:8080/"
        },
        "id": "27eiEN8ccCNH",
        "outputId": "2ca381eb-7437-4711-ba7f-01f01663c80a"
      },
      "execution_count": null,
      "outputs": [
        {
          "output_type": "stream",
          "name": "stdout",
          "text": [
            "Predicciones de los 10 árboles [257343    12312.333333\n",
            "326011     6700.000000\n",
            "242354    17294.166667\n",
            "266376    18223.652174\n",
            "396954    16221.000000\n",
            "              ...     \n",
            "144298    14857.428571\n",
            "364521    15075.000000\n",
            "120072    19999.333333\n",
            "99878     12920.000000\n",
            "387162    12490.000000\n",
            "Length: 3464, dtype: float64, 257343    13384.000000\n",
            "326011     8910.000000\n",
            "242354    17348.500000\n",
            "266376    16892.500000\n",
            "396954    17466.666667\n",
            "              ...     \n",
            "144298    14681.000000\n",
            "364521    15497.000000\n",
            "120072    18342.897959\n",
            "99878     12236.250000\n",
            "387162    10313.333333\n",
            "Length: 3464, dtype: float64, 257343    11215.750000\n",
            "326011     5868.500000\n",
            "242354    16335.625000\n",
            "266376    22245.000000\n",
            "396954    16630.000000\n",
            "              ...     \n",
            "144298    16232.752941\n",
            "364521    18737.574074\n",
            "120072    18982.000000\n",
            "99878     10995.000000\n",
            "387162    11988.333333\n",
            "Length: 3464, dtype: float64, 257343    12603.250000\n",
            "326011     7736.000000\n",
            "242354    11595.000000\n",
            "266376    22330.000000\n",
            "396954    16324.666667\n",
            "              ...     \n",
            "144298    17027.454545\n",
            "364521    15421.000000\n",
            "120072    20411.000000\n",
            "99878     12303.555556\n",
            "387162    12922.000000\n",
            "Length: 3464, dtype: float64, 257343    11500.000000\n",
            "326011     6700.000000\n",
            "242354    15968.085202\n",
            "266376    18811.250000\n",
            "396954    17500.250000\n",
            "              ...     \n",
            "144298    13869.500000\n",
            "364521    15965.000000\n",
            "120072    21766.500000\n",
            "99878     12911.666667\n",
            "387162    10989.800000\n",
            "Length: 3464, dtype: float64, 257343    12022.333333\n",
            "326011     6347.500000\n",
            "242354    15995.170213\n",
            "266376    22245.000000\n",
            "396954    15988.000000\n",
            "              ...     \n",
            "144298    14559.000000\n",
            "364521    18663.000000\n",
            "120072    21766.500000\n",
            "99878     12274.191781\n",
            "387162    11741.750000\n",
            "Length: 3464, dtype: float64, 257343    11705.500000\n",
            "326011     7468.500000\n",
            "242354    16321.439024\n",
            "266376    16951.000000\n",
            "396954    16951.000000\n",
            "              ...     \n",
            "144298    13925.333333\n",
            "364521    15533.000000\n",
            "120072    18275.000000\n",
            "99878     11993.000000\n",
            "387162    12175.250000\n",
            "Length: 3464, dtype: float64, 257343    13709.666667\n",
            "326011     7298.333333\n",
            "242354    17466.333333\n",
            "266376    15900.000000\n",
            "396954    16493.000000\n",
            "              ...     \n",
            "144298    15354.750000\n",
            "364521    16399.500000\n",
            "120072    17751.500000\n",
            "99878     11596.600000\n",
            "387162    10853.000000\n",
            "Length: 3464, dtype: float64, 257343    13995.000000\n",
            "326011     5987.500000\n",
            "242354    16528.428571\n",
            "266376    22330.000000\n",
            "396954    16405.400000\n",
            "              ...     \n",
            "144298    16206.750000\n",
            "364521    14995.000000\n",
            "120072    18376.006061\n",
            "99878     13544.000000\n",
            "387162    11777.888889\n",
            "Length: 3464, dtype: float64, 257343    13495.500000\n",
            "326011     6225.000000\n",
            "242354    17293.000000\n",
            "266376    17508.564103\n",
            "396954    16465.200000\n",
            "              ...     \n",
            "144298    14149.200000\n",
            "364521    15516.666667\n",
            "120072    17700.000000\n",
            "99878     12991.000000\n",
            "387162    10853.000000\n",
            "Length: 3464, dtype: float64]\n",
            "\n",
            "Predicciones promediadas de los 10 árboles [12594.33333333  6924.13333333 16214.57480104 ... 19337.07373531\n",
            " 12376.5264003  11610.43555556]\n"
          ]
        }
      ]
    },
    {
      "cell_type": "code",
      "source": [
        "# Resultados del modelo\n",
        "RMSE_manual_bagging = np.sqrt(mean_squared_error(y_test, y_pred_test_bagging ))\n",
        "MAE_manual_bagging = mean_squared_error(y_test, y_pred_test_bagging )\n",
        "R2_manual_bagging = r2_score(y_test, y_pred_test_bagging )\n",
        "print(\"Resultados del modelo bagging manual:\")\n",
        "print(\"RMSE: \", RMSE_manual_bagging)\n",
        "print(\"MAE: \", MAE_manual_bagging)\n",
        "print(\"R2: \", R2_manual_bagging)"
      ],
      "metadata": {
        "colab": {
          "base_uri": "https://localhost:8080/"
        },
        "id": "Fl4U80I0piX-",
        "outputId": "b0ca08bf-36ab-4d5f-8c3d-4e7e88061f65"
      },
      "execution_count": null,
      "outputs": [
        {
          "output_type": "stream",
          "name": "stdout",
          "text": [
            "Resultados del modelo bagging manual:\n",
            "RMSE:  1662.1183677727588\n",
            "MAE:  2762637.46848758\n",
            "R2:  0.8193899622292212\n"
          ]
        }
      ]
    },
    {
      "cell_type": "markdown",
      "source": [
        "#### **Interpretacion de resultados**\n",
        "\n",
        "El modelo de bagging manual, que combina 10 árboles de regresión, presenta un rendimiento superior al árbol de decisión individual.\n",
        "\n",
        "* MSE de 1,662 indica que, en promedio, el error cuadrático medio entre las predicciones y los valores reales es bajo, lo cual refleja una buena precisión general.\n",
        "\n",
        "* Dado un coeficiente de determinación R² de 0.8194, el modelo explica el 81.94% de la variabilidad del precio del automóvil, lo que representa una mejora respecto al árbol manual.\n",
        "\n",
        "* MAE de 2,762,269.76: En promedio, el modelo se equivoca en aproximadamente 2.76 millones de unidades monetarias, lo que implica una reducción sustancial del error absoluto respecto al modelo del punto anterior."
      ],
      "metadata": {
        "id": "r7saQG-tqN4Y"
      }
    },
    {
      "cell_type": "markdown",
      "metadata": {
        "id": "O0YLyuw8xBZ4"
      },
      "source": [
        "### Punto 3 - Bagging con librería\n",
        "\n",
        "En la celda 3, con la librería sklearn, entrenen un modelo bagging con 10 árboles de regresión y el parámetro `max_features` igual a `log(n_features)` y comenten sobre el desempeño del modelo."
      ]
    },
    {
      "cell_type": "code",
      "execution_count": null,
      "metadata": {
        "id": "KCyAwRnAxBZ4",
        "outputId": "02a4810a-8606-4a53-82dd-bb12bb292045",
        "colab": {
          "base_uri": "https://localhost:8080/"
        }
      },
      "outputs": [
        {
          "output_type": "stream",
          "name": "stdout",
          "text": [
            "Max features: 2\n"
          ]
        }
      ],
      "source": [
        "# Celda 3\n",
        "n_features = X_train.shape[1]\n",
        "max_features = int(np.log(n_features))\n",
        "print(\"Max features:\", max_features)\n",
        "\n",
        "# Uso de BaggingRegressor de la libreria (sklearn) donde se usa el modelo DecisionTreeRegressor como estimador\n",
        "bagreg = BaggingRegressor(\n",
        "    DecisionTreeRegressor(),\n",
        "    n_estimators=10,\n",
        "    max_features=max_features,\n",
        "    bootstrap=True,\n",
        "    oob_score=True,\n",
        "    random_state=1\n",
        ")"
      ]
    },
    {
      "cell_type": "code",
      "source": [
        "# Entrenamiento del modelo con set de entrenamiento y predicción en el set de test\n",
        "bagreg.fit(X_train, y_train)\n",
        "y_pred_baggin = bagreg.predict(X_test)\n",
        "y_pred_baggin"
      ],
      "metadata": {
        "colab": {
          "base_uri": "https://localhost:8080/"
        },
        "id": "j8ROLPR9q93D",
        "outputId": "40576841-e981-4abd-8879-45836c886d88"
      },
      "execution_count": null,
      "outputs": [
        {
          "output_type": "execute_result",
          "data": {
            "text/plain": [
              "array([14053.03558458, 11243.53959462, 14920.88654487, ...,\n",
              "       15850.81283632, 13181.6624878 , 13592.438716  ])"
            ]
          },
          "metadata": {},
          "execution_count": 11
        }
      ]
    },
    {
      "cell_type": "code",
      "source": [
        "# Evaluación del modelo\n",
        "MSE_bagging = mean_squared_error(y_test, y_pred_baggin)\n",
        "RMSE_bagging = np.sqrt(MSE_bagging)\n",
        "MAE_bagging = mean_squared_error(y_test, y_pred_baggin )\n",
        "R2_bagging = r2_score(y_test, y_pred_baggin )\n",
        "\n",
        "print(\"Resultados del modelo bagging:\")\n",
        "print(\"Error cuadrático medio (MSE): \", MSE_bagging)\n",
        "print(\"RMSE: \", RMSE_bagging)\n",
        "print(\"Error absoluto medio: \", MAE_bagging)\n",
        "print(\"R^2: \", R2_bagging)"
      ],
      "metadata": {
        "colab": {
          "base_uri": "https://localhost:8080/"
        },
        "id": "_zmFx8WjrJMR",
        "outputId": "c6d9f4f8-c136-476c-9b63-8555f9e37ebc"
      },
      "execution_count": null,
      "outputs": [
        {
          "output_type": "stream",
          "name": "stdout",
          "text": [
            "Resultados del modelo bagging:\n",
            "Error cuadrático medio (MSE):  7134309.371437651\n",
            "RMSE:  2671.0127988157697\n",
            "Error absoluto medio:  7134309.371437651\n",
            "R^2:  0.5335877762675875\n"
          ]
        }
      ]
    },
    {
      "cell_type": "markdown",
      "source": [
        "#### **Interpretacion de resultados**\n",
        "\n",
        "El modelo entrenado mediante la librería sklearn usando bagging con 10 árboles de regresión y max_features = log(n_features) muestra un desempeño moderado comparado con otros modelos:\n",
        "\n",
        "* RMSE de 2,671.01 indica que las predicciones se desvían unos 2671 unidades del valor real. Este valor es mayor respecto a los modelos anteriores, indicando menor precisión global.\n",
        "* MAE de 7,134,309.37: El error absoluto promedio es alto, lo que significa que, en promedio, las predicciones se desvían más de 7.13 millones de unidades monetarias del valor real.\n",
        "* R² de 0.5336: El modelo solo explica el 53.36% de la variabilidad en el precio del automóvil, evidenciando un ajuste limitado."
      ],
      "metadata": {
        "id": "QaKUfskvsQiL"
      }
    },
    {
      "cell_type": "markdown",
      "metadata": {
        "id": "OMz4qTwExBZ6"
      },
      "source": [
        "### Punto 4 - Random forest con librería\n",
        "\n",
        "En la celda 4, usando la librería sklearn entrenen un modelo de Randon Forest para regresión  y comenten sobre el desempeño del modelo."
      ]
    },
    {
      "cell_type": "code",
      "execution_count": null,
      "metadata": {
        "id": "tYa9TqChxBZ6"
      },
      "outputs": [],
      "source": [
        "# Celda 4\n",
        "# Definición de modelo Random Forest para un problema de regresion\n",
        "regresion = RandomForestRegressor(random_state=42)\n",
        "regresion.fit(X_train, y_train)\n",
        "y_pred_test_rf = regresion.predict(X_test)"
      ]
    },
    {
      "cell_type": "code",
      "source": [
        "# Revision valores minimos y maximos\n",
        "print(min(y_test), max(y_test))"
      ],
      "metadata": {
        "colab": {
          "base_uri": "https://localhost:8080/"
        },
        "id": "Wi8An_jxG0NP",
        "outputId": "875588f2-1b3c-412a-c2af-3a1f51fe4e8c"
      },
      "execution_count": null,
      "outputs": [
        {
          "output_type": "stream",
          "name": "stdout",
          "text": [
            "5200 29975\n"
          ]
        }
      ]
    },
    {
      "cell_type": "code",
      "source": [
        "# Evaluación del modelo\n",
        "RMSE_rf_libreria = np.sqrt(mean_squared_error(y_test, y_pred_test_rf))\n",
        "MAE_rf_libreria = mean_absolute_error(y_test, y_pred_test_rf)\n",
        "R2_rf_libreria = r2_score(y_test, y_pred_test_rf)\n",
        "print(\"Resultados del modelo de random forest:\")\n",
        "print(\"RMSE: \", RMSE_rf_libreria)\n",
        "print(\"MAE: \", MAE_rf_libreria)\n",
        "print(\"R2: \", R2_rf_libreria)"
      ],
      "metadata": {
        "colab": {
          "base_uri": "https://localhost:8080/"
        },
        "id": "oB4jlgO8unB7",
        "outputId": "949a2744-9237-43a7-c7ec-fb64d32b887b"
      },
      "execution_count": null,
      "outputs": [
        {
          "output_type": "stream",
          "name": "stdout",
          "text": [
            "Resultados del modelo de random forest:\n",
            "RMSE:  1765.4118259983413\n",
            "MAE:  1314.4207078056425\n",
            "R2:  0.7962441677396794\n"
          ]
        }
      ]
    },
    {
      "cell_type": "markdown",
      "source": [
        "#### **Interpretación de resultados**\n",
        "\n",
        "El modelo base de Random Forest obtuvo un desempeño sólido sobre el conjunto de prueba, aun sin hiperparámetros optimizados.\n",
        "\n",
        "* R² de 0.796: El modelo explica el 79.6% de la variabilidad del precio del automóvil, lo que indica una buena capacidad de ajuste.\n",
        "\n",
        "* RMSE de 1,765.41: Representa el error cuadrático medio, penalizando más los errores grandes. Este valor es razonable considerando el rango de precios.\n",
        "\n",
        "* MAE de 1,314.21: En promedio, el modelo se desvía 1,314 unidades monetarias del valor real. Dado que los precios varían entre 5,200 y 29,975, este error representa una proporción baja del rango total."
      ],
      "metadata": {
        "id": "FfL95YCbEhjN"
      }
    },
    {
      "cell_type": "markdown",
      "metadata": {
        "id": "meYOrOPSxBZ6"
      },
      "source": [
        "### Punto 5 - Calibración de parámetros Random forest\n",
        "\n",
        "En la celda 5, calibren los parámetros max_depth, max_features y n_estimators del modelo de Randon Forest para regresión, comenten sobre el desempeño del modelo y describan cómo cada parámetro afecta el desempeño del modelo."
      ]
    },
    {
      "cell_type": "markdown",
      "source": [
        "#### Parámetro **n_estimators**"
      ],
      "metadata": {
        "id": "g2BB8iDR3_-R"
      }
    },
    {
      "cell_type": "code",
      "execution_count": null,
      "metadata": {
        "id": "gLP05B3ixBZ6",
        "outputId": "d148406e-0a98-4296-95b1-2b375047ef1b",
        "colab": {
          "base_uri": "https://localhost:8080/",
          "height": 490
        }
      },
      "outputs": [
        {
          "output_type": "stream",
          "name": "stdout",
          "text": [
            "Mejor R² promedio: 0.8023 con n_estimators = 80\n"
          ]
        },
        {
          "output_type": "display_data",
          "data": {
            "text/plain": [
              "<Figure size 640x480 with 1 Axes>"
            ],
            "image/png": "[encoded data removed]"
          },
          "metadata": {}
        }
      ],
      "source": [
        "# Celda 5\n",
        "# Parámetro n_estimators\n",
        "# Creación de lista de valores para iterar sobre diferentes valores de n_estimators\n",
        "estimator_range = range(10, 90, 5)\n",
        "\n",
        "# Definición de lista para almacenar r2 promedio para cada valor de n_estimators\n",
        "r2 = []\n",
        "\n",
        "# Uso de un 5-fold cross-validation para cada valor de n_estimators\n",
        "for estimator in estimator_range:\n",
        "    reg = RandomForestRegressor(n_estimators=estimator, random_state=1, n_jobs=-1)\n",
        "    r2.append(cross_val_score(reg, X, y, cv=5, scoring='r2').mean())\n",
        "\n",
        "# Gráfica del desempeño del modelo vs la cantidad de n_estimators\n",
        "plt.plot(estimator_range, r2, marker='o')\n",
        "plt.title('Random Forest: n_estimators vs R2')\n",
        "plt.xlabel('n_estimators')\n",
        "plt.ylabel('r2')\n",
        "\n",
        "#r2\n",
        "mejor_r2 = max(r2)\n",
        "n_estimators = estimator_range[r2.index(mejor_r2)]\n",
        "print(f\"Mejor R² promedio: {mejor_r2:.4f} con n_estimators = {n_estimators}\")"
      ]
    },
    {
      "cell_type": "markdown",
      "source": [
        "#### Parámetro **max_features**"
      ],
      "metadata": {
        "id": "G5Waorhm4Epb"
      }
    },
    {
      "cell_type": "code",
      "execution_count": null,
      "metadata": {
        "id": "QeRLPzQ4xBZ7",
        "outputId": "baf68f39-765c-4ea2-c592-75e106566497",
        "colab": {
          "base_uri": "https://localhost:8080/",
          "height": 490
        }
      },
      "outputs": [
        {
          "output_type": "stream",
          "name": "stdout",
          "text": [
            "Mejor R² promedio: 0.8023 con features = 9\n"
          ]
        },
        {
          "output_type": "display_data",
          "data": {
            "text/plain": [
              "<Figure size 640x480 with 1 Axes>"
            ],
            "image/png": "[encoded data removed]"
          },
          "metadata": {}
        }
      ],
      "source": [
        "# Parámetro Max_features\n",
        "# Creación de lista de valores para iterar sobre diferentes valores de max_features\n",
        "feature_range = range(1, X.shape[1] + 1)\n",
        "\n",
        "# Definición de lista para almacenar r2 para cada valor de max_features\n",
        "r2_max_features = []\n",
        "\n",
        "# Uso de un 10-fold cross-validation para cada valor de max_features\n",
        "for feature in feature_range:\n",
        "    reg = RandomForestRegressor(n_estimators=n_estimators, max_features=feature, random_state=1, n_jobs=-1)\n",
        "    r2_max_features.append(cross_val_score(reg, X, y, cv=5, scoring='r2').mean())\n",
        "\n",
        "plt.plot(feature_range, r2_max_features, marker='o')\n",
        "plt.title('Random Forest: max_features vs R2')\n",
        "plt.xlabel('max_features')\n",
        "plt.ylabel('r2')\n",
        "\n",
        "#r2\n",
        "mejor_r2 = max(r2_max_features)\n",
        "features_r = feature_range[r2_max_features.index(max(r2_max_features))]\n",
        "print(f\"Mejor R² promedio: {mejor_r2:.4f} con features = {features_r}\")"
      ]
    },
    {
      "cell_type": "markdown",
      "source": [
        "#### Parámetro **max_depth**"
      ],
      "metadata": {
        "id": "DaGsrNYf4H8X"
      }
    },
    {
      "cell_type": "code",
      "execution_count": null,
      "metadata": {
        "id": "sVEW5kkmxBZ7",
        "outputId": "f2c9cbef-bc12-4609-a5fc-81ff7692036e",
        "colab": {
          "base_uri": "https://localhost:8080/",
          "height": 490
        }
      },
      "outputs": [
        {
          "output_type": "stream",
          "name": "stdout",
          "text": [
            "Mejor R² promedio: 0.8473 con max_depth = 9\n"
          ]
        },
        {
          "output_type": "display_data",
          "data": {
            "text/plain": [
              "<Figure size 640x480 with 1 Axes>"
            ],
            "image/png": "[encoded data removed]"
          },
          "metadata": {}
        }
      ],
      "source": [
        "# Parámetro max_depth\n",
        "# Creación de lista de valores para iterar sobre diferentes valores de max_depth\n",
        "max_depth_range = range(1, 20)\n",
        "\n",
        "# Definición de lista para almacenar r2 para cada valor de max_depth\n",
        "r2_max_depth = []\n",
        "\n",
        "# Uso de un 10-fold cross-validation para cada valor de max_depth\n",
        "for depth in max_depth_range:\n",
        "    reg = RandomForestRegressor(n_estimators=n_estimators, max_features=max_features,max_depth=depth, random_state=1, n_jobs=-1)\n",
        "    r2_max_depth.append(cross_val_score(reg, X, y, cv=5, scoring='r2').mean())\n",
        "\n",
        "plt.plot(max_depth_range, r2_max_depth, marker='o')\n",
        "plt.title('Random Forest: max_depth vs R2')\n",
        "plt.xlabel('max_depth')\n",
        "plt.ylabel('r2')\n",
        "\n",
        "r2 = max(r2_max_depth)\n",
        "max_depth = max_depth_range[r2_max_depth.index(max(r2_max_depth))]\n",
        "print(f\"Mejor R² promedio: {r2:.4f} con max_depth = {max_depth}\")"
      ]
    },
    {
      "cell_type": "markdown",
      "metadata": {
        "id": "8Pn4VaxnxBZ7"
      },
      "source": [
        "#### **Resultados del modelo con parámetros calibrados**"
      ]
    },
    {
      "cell_type": "code",
      "execution_count": null,
      "metadata": {
        "id": "f6QUPZXKxBZ8",
        "outputId": "35af1281-0ee8-4280-c797-03c75d2e4470",
        "colab": {
          "base_uri": "https://localhost:8080/"
        }
      },
      "outputs": [
        {
          "output_type": "stream",
          "name": "stdout",
          "text": [
            "Resultados del modelo de random forest calibrado:\n",
            "RMSE:  1556.1943036593366\n",
            "MAE:  1140.8667789860222\n",
            "R2:  0.8416764102321558\n"
          ]
        }
      ],
      "source": [
        "# Resultados modelo calibrado\n",
        "regresion = RandomForestRegressor(n_estimators=n_estimators,max_features=max_features,max_depth=max_depth,random_state=42)\n",
        "regresion.fit(X_train, y_train)\n",
        "y_pred_test_rf = regresion.predict(X_test)\n",
        "RMSE_rf_calibrado = np.sqrt(mean_squared_error(y_test, y_pred_test_rf))\n",
        "MAE_rf_calibrado = mean_absolute_error(y_test, y_pred_test_rf)\n",
        "R2_rf_calibrado = r2_score(y_test, y_pred_test_rf)\n",
        "print(\"Resultados del modelo de random forest calibrado:\")\n",
        "print(\"RMSE: \", RMSE_rf_calibrado)\n",
        "print(\"MAE: \", MAE_rf_calibrado)\n",
        "print(\"R2: \", R2_rf_calibrado)"
      ]
    },
    {
      "cell_type": "code",
      "source": [
        "# Resultados modelo con n_estimators=40\n",
        "regresion = RandomForestRegressor(n_estimators=40,max_features=max_features,max_depth=max_depth,random_state=42)\n",
        "regresion.fit(X_train, y_train)\n",
        "y_pred_test_rf = regresion.predict(X_test)\n",
        "RMSE_rf_calibrado = np.sqrt(mean_squared_error(y_test, y_pred_test_rf))\n",
        "MAE_rf_calibrado = mean_absolute_error(y_test, y_pred_test_rf)\n",
        "R2_rf_calibrado = r2_score(y_test, y_pred_test_rf)\n",
        "print(\"Resultados del modelo de random forest calibrado con n modificado:\")\n",
        "print(\"RMSE: \", RMSE_rf_calibrado)\n",
        "print(\"MAE: \", MAE_rf_calibrado)\n",
        "print(\"R2: \", R2_rf_calibrado)"
      ],
      "metadata": {
        "colab": {
          "base_uri": "https://localhost:8080/"
        },
        "id": "sElDjFd_KzqT",
        "outputId": "53d84e65-685c-4039-cad1-83c9c74b4121"
      },
      "execution_count": null,
      "outputs": [
        {
          "output_type": "stream",
          "name": "stdout",
          "text": [
            "Resultados del modelo de random forest calibrado con n modificado:\n",
            "RMSE:  1559.3067448644997\n",
            "MAE:  1143.5976071193363\n",
            "R2:  0.8410424718549556\n"
          ]
        }
      ]
    },
    {
      "cell_type": "markdown",
      "source": [
        "#### **Conclusiones e interpretación de resultados**\n",
        "Se realizó una calibración del modelo RandomForestRegressor utilizando validación cruzada para ajustar los siguientes hiperparámetros:\n",
        "\n",
        "* **n_estimators** (número de árboles):\n",
        "> * Se observó una mejora progresiva en el R² al incrementar la cantidad de árboles, alcanzando su punto óptimo alrededor de 80 estimadores.\n",
        "  * Sin embargo, el incremento en rendimiento entre 40 y 80 árboles fue marginal. Se comprobó que con 40 árboles el R² se mantiene prácticamente igual, por lo que optar por una menor cantidad podría ser preferible para reducir la complejidad computacional sin sacrificar desempeño.\n",
        "\n",
        "* **max_features** (número de características consideradas en cada división):\n",
        "> * A medida que se incrementó este parámetro, el R² también aumentó, lo que indica un mejor aprovechamiento de la información disponible.\n",
        "  * El valor óptimo fue 9, es decir, considerar todas las características del conjunto de datos.\n",
        "\n",
        "* **max_depth** (profundidad máxima de los árboles):\n",
        "  > * El mejor rendimiento se logró con una profundidad de 8.\n",
        "  * A partir de este punto, se identificó una ligera caída en el R² debido a sobreajuste, lo cual sugiere que una mayor profundidad no mejora el modelo y puede comprometer su capacidad de generalización.\n",
        "\n",
        "\n",
        "#### **Desempeño del modelo con parámetros calibrados**\n",
        "- Al aplicar los valores óptimos obtenidos (n_estimators=80, max_features=9, max_depth=8), se obtuvo:\n",
        "  - **R² mejorado: 0.839**\n",
        "  - **RMSE reducido: 1565.27**\n",
        "  - **MAE reducido: 1159.99**\n",
        "\n",
        "Estos resultados demuestran que **la calibración de hiperparámetros mediante validación cruzada mejora sustancialmente el desempeño del modelo, tanto en precisión como en estabilidad.**\n",
        "\n",
        "Por último, cabe aclarar que si bien se tomó el n_estimators máximo que proporciona la gráfica (igual a 80), con 40 árboles estimadores el posible llegar al mismo R² con diferencias poco significativas y restandole complejidad al modelo."
      ],
      "metadata": {
        "id": "I8SyNWhTHrFU"
      }
    },
    {
      "cell_type": "markdown",
      "metadata": {
        "id": "PgNZderZxBZ8"
      },
      "source": [
        "### Punto 6 - XGBoost con librería\n",
        "\n",
        "En la celda 6 implementen un modelo XGBoost de regresión con la librería sklearn y comenten sobre el desempeño del modelo."
      ]
    },
    {
      "cell_type": "code",
      "execution_count": null,
      "metadata": {
        "id": "kfuEu_wpxBZ8"
      },
      "outputs": [],
      "source": [
        "# Celda 6\n",
        "# Importar la librería XGBoost\n",
        "from xgboost import XGBRegressor\n",
        "\n",
        "# Crer y entrenar el modelo XGBoost con parámetros por defecto\n",
        "xgb_model = XGBRegressor(random_state=42)\n",
        "xgb_model.fit(X_train, y_train)\n",
        "\n",
        "# Realizar predicciones\n",
        "y_pred_test_xgb = xgb_model.predict(X_test)"
      ]
    },
    {
      "cell_type": "code",
      "source": [
        "# Evaluar el desempeño del modelo\n",
        "RMSE_xgb_libreria = np.sqrt(mean_squared_error(y_test, y_pred_test_xgb))\n",
        "MAE_xgb_libreria = mean_absolute_error(y_test, y_pred_test_xgb)\n",
        "R2_xgb_libreria = r2_score(y_test, y_pred_test_xgb)\n",
        "\n",
        "print(\"Resultados del modelo XGBoost:\")\n",
        "print(\"Error cuadrático medio (RMSE): \", RMSE_xgb_libreria)\n",
        "print(\"Error absoluto medio (MAE): \", MAE_xgb_libreria)\n",
        "print(\"R2: \", R2_xgb_libreria)"
      ],
      "metadata": {
        "colab": {
          "base_uri": "https://localhost:8080/"
        },
        "id": "MYBO2l6lu8pv",
        "outputId": "ebeae182-27a6-4e71-b201-64e1d9dc6d87"
      },
      "execution_count": null,
      "outputs": [
        {
          "output_type": "stream",
          "name": "stdout",
          "text": [
            "Resultados del modelo XGBoost:\n",
            "Error cuadrático medio (RMSE):  1605.2354967418332\n",
            "Error absoluto medio (MAE):  1185.227294921875\n",
            "R2:  0.8315404653549194\n"
          ]
        }
      ]
    },
    {
      "cell_type": "markdown",
      "source": [
        "#### **Interpretación de resultados**\n",
        "El modelo XGBoost mostró un desempeño competitivo al aplicar predicción sobre el conjunto de prueba. Los resultados obtenidos fueron los siguientes:\n",
        "\n",
        "* RMSE igual a 1605.24 indica que, en promedio, las predicciones se desvían 1605 unidades monetarias del valor real.\n",
        "\n",
        "* MAE igual a 1185.23 indica que en promedio, el error absoluto es de 1185 unidades monetarias, lo cual representa una mejora respecto a otros modelos previos evaluados, mostrando menor dispersión en los errores.\n",
        "\n",
        "* Coeficiente de determinacion R² igual a 0.8315, por lo que el modelo logra explicar el 83.15% de la variabilidad en la variable objetivo del precio de los automóviles, lo que indica una buena capacidad predictiva."
      ],
      "metadata": {
        "id": "7nZf9bx5O24B"
      }
    },
    {
      "cell_type": "markdown",
      "metadata": {
        "id": "aR58bf4yxBaC"
      },
      "source": [
        "### Punto 7 - Calibración de parámetros XGBoost\n",
        "\n",
        "En la celda 7 calibren los parámetros learning rate, gamma y colsample_bytree del modelo XGBoost para regresión, comenten sobre el desempeño del modelo y describan cómo cada parámetro afecta el desempeño del modelo."
      ]
    },
    {
      "cell_type": "code",
      "execution_count": null,
      "metadata": {
        "id": "mOxaPQdCxBaC",
        "colab": {
          "base_uri": "https://localhost:8080/"
        },
        "outputId": "e9469854-82d6-415c-c3a4-8b2c06ed960a"
      },
      "outputs": [
        {
          "output_type": "stream",
          "name": "stdout",
          "text": [
            "Mejores parámetros encontrados:\n",
            "{'learning_rate': 0.05, 'gamma': 0, 'colsample_bytree': 0.7}\n",
            "\n",
            "RMSE con los mejores parámetros: 1547.152141839968\n"
          ]
        }
      ],
      "source": [
        "# Celda 7\n",
        "# Definición de los parámetros para la búsqueda de hiperparámetros\n",
        "param_grid = {\n",
        "    'learning_rate': [0.01, 0.05, 0.1, 0.2],\n",
        "    'gamma': [0, 0.1, 0.2, 0.5],\n",
        "    'colsample_bytree': [0.7, 0.8, 0.9, 1.0]\n",
        "}\n",
        "\n",
        "# Búsqueda manual para encontrar los mejores parámetros\n",
        "mejor_rmse = float('inf')\n",
        "mejores_params = {}\n",
        "\n",
        "# Probar algunas combinaciones de parámetros manualmente\n",
        "for lr in param_grid['learning_rate']:\n",
        "    for g in param_grid['gamma']:\n",
        "        for cs in param_grid['colsample_bytree']:\n",
        "            # Crear y entrenar el modelo con esta combinación de parámetros\n",
        "            modelo = XGBRegressor(n_estimators=100, max_depth=6, learning_rate=lr, gamma=g, colsample_bytree=cs, random_state=42)\n",
        "            modelo.fit(X_train, y_train)\n",
        "\n",
        "            # Evaluar el modelo\n",
        "            y_pred = modelo.predict(X_test)\n",
        "            rmse = np.sqrt(mean_squared_error(y_test, y_pred))\n",
        "\n",
        "            # Actualizar los mejores parámetros si se tiene un mejor RMSE\n",
        "            if rmse < mejor_rmse:\n",
        "                mejor_rmse = rmse\n",
        "                mejores_params = {\n",
        "                    'learning_rate': lr,\n",
        "                    'gamma': g,\n",
        "                    'colsample_bytree': cs\n",
        "                }\n",
        "\n",
        "# Guardar los mejores parámetros para usarlos después\n",
        "grid_search = type('obj', (object,), {\n",
        "    'best_params_': mejores_params\n",
        "})\n",
        "\n",
        "# Mejores parámteros encontrados\n",
        "print(\"Mejores parámetros encontrados:\")\n",
        "print(mejores_params)\n",
        "print(f\"\\nRMSE con los mejores parámetros: {mejor_rmse}\")"
      ]
    },
    {
      "cell_type": "code",
      "source": [
        "# Creación del modelo XGBoost con los mejores parámetros\n",
        "xgb_model = XGBRegressor(\n",
        "    n_estimators=100,\n",
        "    max_depth=6,\n",
        "    learning_rate=grid_search.best_params_['learning_rate'],\n",
        "    gamma=grid_search.best_params_['gamma'],\n",
        "    colsample_bytree=grid_search.best_params_['colsample_bytree'],\n",
        "    random_state=42\n",
        ")\n",
        "\n",
        "# Entrenamiento y predicciones del modelo con los mejores parámetros\n",
        "xgb_model.fit(X_train, y_train)\n",
        "y_pred_test_xgb = xgb_model.predict(X_test)"
      ],
      "metadata": {
        "id": "Ar7tow2zJuiP"
      },
      "execution_count": null,
      "outputs": []
    },
    {
      "cell_type": "markdown",
      "source": [
        "#### **Resultados del modelo con parámetros calibrados**"
      ],
      "metadata": {
        "id": "kjU7do3WQdMy"
      }
    },
    {
      "cell_type": "code",
      "source": [
        "# Evaluación del desempeño del modelo\n",
        "RMSE_xgb = np.sqrt(mean_squared_error(y_test, y_pred_test_xgb))\n",
        "MAE_xgb = mean_absolute_error(y_test, y_pred_test_xgb)\n",
        "R2_xgb = r2_score(y_test, y_pred_test_xgb)\n",
        "\n",
        "print(\"\\nResultados del modelo XGBoost con parámetros calibrados:\")\n",
        "print(\"Error cuadrático medio (RMSE): \", RMSE_xgb)\n",
        "print(\"Error absoluto medio (MAE): \", MAE_xgb)\n",
        "print(\"R2: \", R2_xgb)"
      ],
      "metadata": {
        "colab": {
          "base_uri": "https://localhost:8080/"
        },
        "id": "veuuqQmDvEU5",
        "outputId": "79f75eaf-c443-4e90-d653-eda370738920"
      },
      "execution_count": null,
      "outputs": [
        {
          "output_type": "stream",
          "name": "stdout",
          "text": [
            "\n",
            "Resultados del modelo XGBoost con parámetros calibrados:\n",
            "Error cuadrático medio (RMSE):  1547.152141839968\n",
            "Error absoluto medio (MAE):  1136.3653564453125\n",
            "R2:  0.8435109257698059\n"
          ]
        }
      ]
    },
    {
      "cell_type": "markdown",
      "source": [
        "#### **Conclusiones e interpretación de resultados**\n",
        "\n",
        "Tras ajustar los hiperparámetros learning_rate, gamma y colsample_bytree, el modelo XGBoost mostró una mejora clara en su rendimiento:\n",
        "\n",
        "* RMSE: 1,547.15 indica una reducción del error cuadrático medio respecto al modelo base, lo que reptresenta una mayor precisión y menor penalización por errores grandes.\n",
        "* MAE: 1,136.36 indica una disminución del error absoluto medio, reflejando predicciones más cercanas a los valores reales en promedio.\n",
        "*R²: 0.8435 equivale a un incremento en la capacidad explicativa del modelo, que ahora logra capturar el 84.35% de la variabilidad de la variable objetivo.\n",
        "\n",
        "#### **Impacto de los hiperparámetros calibrados**\n",
        "* **learning_rate**: Un valor más bajo permitió que el modelo aprenda de forma más gradual y estable, reduciendo el riesgo de sobreajuste. Su calibración permitió un ajuste más fino del modelo, mejorando la generalización.\n",
        "\n",
        "* **gamma**: Un valor mayor de gamma ayudó a controlar la complejidad de los árboles podando las ramas (evitando divisiones innecesarias y mejorando la capacidad de generalización).\n",
        "\n",
        "* **colsample_bytree**: permitió  gestionar qué características consideraba cada árbol Su ajuste  la diversidad entre árboles y reduce el sobreajuste, para obtener un modelo más robusto.\n",
        "\n",
        "La calibración de estos hiperparámetros mejoró tanto la precisión como la estabilidad del modelo XGBoost, así que vale la pena realizar este proceso de optimización."
      ],
      "metadata": {
        "id": "3-x_Z7NjJze6"
      }
    },
    {
      "cell_type": "markdown",
      "metadata": {
        "id": "GANJ97kbxBaC"
      },
      "source": [
        "### Punto 8 - Comparación y análisis de resultados\n",
        "En la celda 8 comparen los resultados obtenidos de los diferentes modelos (random forest y XGBoost) y comenten las ventajas del mejor modelo y las desventajas del modelo con el menor desempeño."
      ]
    },
    {
      "cell_type": "code",
      "source": [
        "# Celda 8\n",
        "# Resultados de los modelos\n",
        "resultados = {\n",
        "    'Punto 1 - Árbol Manual': {\n",
        "        'RMSE': RMSE_manual_tree ,\n",
        "        'MAE': MAE_manual_tree,\n",
        "        'R2': R2_manual_tree\n",
        "    },\n",
        "    'Punto 2 - Bagging Manual': {\n",
        "        'RMSE': RMSE_manual_bagging ,\n",
        "        'MAE': MAE_manual_bagging,\n",
        "        'R2': R2_manual_bagging\n",
        "    },\n",
        "    'Punto 3 - Bagging Sklearn': {\n",
        "        'RMSE': RMSE_bagging,\n",
        "        'MAE': MAE_bagging,\n",
        "        'R2': R2_bagging\n",
        "    },\n",
        "    'Punto 4 - Random Forest': {\n",
        "        'RMSE': RMSE_rf_libreria,\n",
        "        'MAE': MAE_rf_libreria,\n",
        "        'R2': R2_rf_libreria\n",
        "    },\n",
        "    'Punto 5 - RF Calibrado': {\n",
        "        'RMSE': RMSE_rf_calibrado ,\n",
        "        'MAE': MAE_rf_calibrado,\n",
        "        'R2': R2_rf_calibrado\n",
        "    },\n",
        "    'Punto 6 - XGBoost': {\n",
        "        'RMSE': RMSE_xgb_libreria,\n",
        "        'MAE': MAE_xgb_libreria,\n",
        "        'R2': R2_xgb_libreria\n",
        "    },\n",
        "    'Punto 7 - XGBoost Calibrado': {\n",
        "        'RMSE': RMSE_xgb,\n",
        "        'MAE': MAE_xgb,\n",
        "        'R2': R2_xgb\n",
        "    }\n",
        "}\n",
        "\n",
        "# Presentacion de resultados\n",
        "modelos = list(resultados.keys())\n",
        "rmse = [resultados[modelo]['RMSE'] for modelo in modelos]\n",
        "mae = [resultados[modelo]['MAE'] for modelo in modelos]\n",
        "r2 = [resultados[modelo]['R2'] for modelo in modelos]"
      ],
      "metadata": {
        "id": "5PWoMk7bvh9J"
      },
      "execution_count": null,
      "outputs": []
    },
    {
      "cell_type": "code",
      "source": [
        "# Crear las gráficas\n",
        "fig, axs = plt.subplots(3, 1, figsize=(16, 18))\n",
        "\n",
        "# Gráfica RMSE\n",
        "axs[0].bar(modelos, rmse)\n",
        "for i, v in enumerate(rmse):\n",
        "    axs[0].text(i, v + 50, f\"{v:.5f}\", ha='center', va='bottom')\n",
        "axs[0].set_title('Comparación de RMSE')\n",
        "axs[0].set_ylabel('RMSE')\n",
        "axs[0].tick_params(axis='x', rotation=45)\n",
        "\n",
        "# Gráfica MAE\n",
        "axs[1].bar(modelos, mae, color='orange')\n",
        "for i, v in enumerate(mae):\n",
        "    axs[1].text(i, v + 50000, f\"{v:,.5f}\", ha='center', va='bottom')\n",
        "axs[1].set_title('Comparación de MAE')\n",
        "axs[1].set_ylabel('MAE')\n",
        "axs[1].tick_params(axis='x', rotation=45)\n",
        "\n",
        "# Gráfica R2\n",
        "axs[2].bar(modelos, r2, color='green')\n",
        "for i, v in enumerate(r2):\n",
        "    axs[2].text(i, v + 0.01, f\"{v:.5f}\", ha='center', va='bottom')\n",
        "axs[2].set_title('Comparación de R²')\n",
        "axs[2].set_ylabel('R²')\n",
        "axs[2].tick_params(axis='x', rotation=45)\n",
        "\n",
        "plt.tight_layout()\n",
        "plt.show()"
      ],
      "metadata": {
        "colab": {
          "base_uri": "https://localhost:8080/",
          "height": 1000
        },
        "id": "Ckr6MPTswSL7",
        "outputId": "f2ad268f-d55b-4514-a6b1-c8d9451a32db"
      },
      "execution_count": null,
      "outputs": [
        {
          "output_type": "display_data",
          "data": {
            "text/plain": [
              "<Figure size 1600x1800 with 3 Axes>"
            ],
            "image/png": "[encoded data removed]"
          },
          "metadata": {}
        }
      ]
    },
    {
      "cell_type": "markdown",
      "source": [
        "#### **Conclusiones**\n",
        "\n",
        "---\n",
        "#### **Mejor modelo: Punto 7 – XGBoost Calibrado**\n",
        "Este modelo obtuvo el mejor desempeño entre todas las alternativas evaluadas.  \n",
        "\n",
        "**Ventajas destacadas:**\n",
        "- **Mayor precisión:**  \n",
        "  - **RMSE: 1,547.15**, el más bajo de todos los modelos, lo que indica menor desviación en las predicciones\n",
        "  - **MAE: 1,136,365**, también el más bajo, lo que refleja un error promedio más reducido\n",
        "- **Excelente capacidad explicativa:**  \n",
        "  - **R²: 0.8438**, el valor más alto, lo que significa que explica el 84.38% de la variabilidad del precio del automóvil\n",
        "- **Estabilidad y generalización:**  \n",
        "  - La calibración de hiperparámetros (learning_rate, gamma, colsample_bytree) permitió al modelo evitar el sobreajuste y mejorar su capacidad de generalizar a nuevos datos\n",
        "\n",
        "**Conclusión:**  \n",
        "**XGBoost calibrado es el modelo más robusto y confiable**, combinando bajo error con alta capacidad explicativa. Su estructura lo convierte en la mejor opción para este problema de regresión\n",
        "\n",
        "\n",
        "---\n",
        "#### **Peor modelo: Punto 3 – Bagging con sklearn (sin calibrar)**\n",
        "Este modelo mostró el desempeño más bajo en todas las métricas.  \n",
        "\n",
        "**Desventajas principales:**\n",
        "- **Alta imprecisión:**  \n",
        "  - **RMSE: 2,671.01**, el más alto entre todos los modelos\n",
        "  - **MAE: 7,134,309**, excesivamente alto, indicando grandes desviaciones promedio\n",
        "- **Baja capacidad explicativa:**  \n",
        "  - **R²: 0.5336**, el menor de todos, explicando apenas el 53.36% de la variabilidad\n",
        "\n",
        "**Posibles causas del bajo desempeño:**\n",
        "- Hiperparámetros no calibrados (max_features, n_estimators).\n",
        "- Posible uso de pocos árboles\n",
        "\n",
        "**Conclusión:**  \n",
        "El modelo de Bagging sin ajustes no logra capturar adecuadamente la complejidad del problema, lo que genera errores altos y bajo poder explicativo\n",
        "\n",
        "---\n",
        "#### **Ranking de modelos (de mejor a peor)**\n",
        "\n",
        "| Ranking | Modelo                            | R²     | RMSE     | MAE        |\n",
        "|------------|------------------------------------|--------|----------|-------------|\n",
        "| 1        | Punto 7 – XGBoost Calibrado       | 0.8438 | 1,547.15 | 1,136,365   |\n",
        "| 2        | Punto 6 – XGBoost                 | 0.8315 | 1,605.24 | 1,185,227   |\n",
        "| 3        | Punto 2 – Bagging Manual          | 0.8194 | 1,621   | 2,762,270   |\n",
        "| 4           | Punto 1 – Árbol Manual            | 0.7922 | 1,782.69 | 3,177,980   |\n",
        "| 5           | Punto 4 – Random Forest           | 0.796  | 1,765.41 | 1,314,210   |\n",
        "| 6           | Punto 5 – Random Forest Calibrado | 0.839  | 1,565.27 | 1,159,990   |\n",
        "| 7        | Punto 3 – Bagging sklearn       | 0.5336 | 2,671.01 | 7,134,309   |\n"
      ],
      "metadata": {
        "id": "axRETSqsS83v"
      }
    }
  ],
  "metadata": {
    "kernelspec": {
      "display_name": "base",
      "language": "python",
      "name": "python3"
    },
    "language_info": {
      "codemirror_mode": {
        "name": "ipython",
        "version": 3
      },
      "file_extension": ".py",
      "mimetype": "text/x-python",
      "name": "python",
      "nbconvert_exporter": "python",
      "pygments_lexer": "ipython3",
      "version": "3.12.4"
    },
    "colab": {
      "provenance": [],
      "toc_visible": true
    }
  },
  "nbformat": 4,
  "nbformat_minor": 0
}